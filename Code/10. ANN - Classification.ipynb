{
 "cells": [
  {
   "cell_type": "markdown",
   "metadata": {
    "colab_type": "text",
    "id": "nGlk2yo96lfV"
   },
   "source": [
    "# ___Classification Model using Artificial Neural Networks___\n",
    "\n",
    "_Within this excercise, we will practice the below classification problems using ANN._\n",
    "\n",
    "* ___Churn Model___\n",
    "* ___MNIST Classification Model___\n",
    "* ___Breast Cancer Model___"
   ]
  },
  {
   "cell_type": "code",
   "execution_count": null,
   "metadata": {
    "colab": {
     "base_uri": "https://localhost:8080/",
     "height": 72
    },
    "colab_type": "code",
    "id": "d56940xOGxZ8",
    "outputId": "de35f786-03d1-47da-a913-024e43f28b7d"
   },
   "outputs": [
    {
     "name": "stderr",
     "output_type": "stream",
     "text": [
      "/usr/local/lib/python3.6/dist-packages/statsmodels/tools/_testing.py:19: FutureWarning: pandas.util.testing is deprecated. Use the functions in the public API at pandas.testing instead.\n",
      "  import pandas.util.testing as tm\n"
     ]
    }
   ],
   "source": [
    "# Import required libraries\n",
    "\n",
    "import pandas as pd\n",
    "import numpy as np \n",
    "import matplotlib.pyplot as plt\n",
    "import sklearn\n",
    "import seaborn as sns"
   ]
  },
  {
   "cell_type": "markdown",
   "metadata": {
    "colab_type": "text",
    "id": "M4DMMpfNxTDx"
   },
   "source": [
    "## ___Model 2 - Churn Modelling___\n"
   ]
  },
  {
   "cell_type": "markdown",
   "metadata": {
    "colab_type": "text",
    "id": "jCG_cK4gz3_p"
   },
   "source": [
    "### ___Preparing the Data___"
   ]
  },
  {
   "cell_type": "code",
   "execution_count": null,
   "metadata": {
    "colab": {
     "base_uri": "https://localhost:8080/",
     "height": 217
    },
    "colab_type": "code",
    "id": "czsZXF99xnVI",
    "outputId": "77d36bd5-f7b9-40f9-9091-9214cc18deb6"
   },
   "outputs": [
    {
     "data": {
      "text/html": [
       "<div>\n",
       "<style scoped>\n",
       "    .dataframe tbody tr th:only-of-type {\n",
       "        vertical-align: middle;\n",
       "    }\n",
       "\n",
       "    .dataframe tbody tr th {\n",
       "        vertical-align: top;\n",
       "    }\n",
       "\n",
       "    .dataframe thead th {\n",
       "        text-align: right;\n",
       "    }\n",
       "</style>\n",
       "<table border=\"1\" class=\"dataframe\">\n",
       "  <thead>\n",
       "    <tr style=\"text-align: right;\">\n",
       "      <th></th>\n",
       "      <th>RowNumber</th>\n",
       "      <th>CustomerId</th>\n",
       "      <th>Surname</th>\n",
       "      <th>CreditScore</th>\n",
       "      <th>Geography</th>\n",
       "      <th>Gender</th>\n",
       "      <th>Age</th>\n",
       "      <th>Tenure</th>\n",
       "      <th>Balance</th>\n",
       "      <th>NumOfProducts</th>\n",
       "      <th>HasCrCard</th>\n",
       "      <th>IsActiveMember</th>\n",
       "      <th>EstimatedSalary</th>\n",
       "      <th>Exited</th>\n",
       "    </tr>\n",
       "  </thead>\n",
       "  <tbody>\n",
       "    <tr>\n",
       "      <th>0</th>\n",
       "      <td>1</td>\n",
       "      <td>15634602</td>\n",
       "      <td>Hargrave</td>\n",
       "      <td>619</td>\n",
       "      <td>France</td>\n",
       "      <td>Female</td>\n",
       "      <td>42</td>\n",
       "      <td>2</td>\n",
       "      <td>0.00</td>\n",
       "      <td>1</td>\n",
       "      <td>1</td>\n",
       "      <td>1</td>\n",
       "      <td>101348.88</td>\n",
       "      <td>1</td>\n",
       "    </tr>\n",
       "    <tr>\n",
       "      <th>1</th>\n",
       "      <td>2</td>\n",
       "      <td>15647311</td>\n",
       "      <td>Hill</td>\n",
       "      <td>608</td>\n",
       "      <td>Spain</td>\n",
       "      <td>Female</td>\n",
       "      <td>41</td>\n",
       "      <td>1</td>\n",
       "      <td>83807.86</td>\n",
       "      <td>1</td>\n",
       "      <td>0</td>\n",
       "      <td>1</td>\n",
       "      <td>112542.58</td>\n",
       "      <td>0</td>\n",
       "    </tr>\n",
       "    <tr>\n",
       "      <th>2</th>\n",
       "      <td>3</td>\n",
       "      <td>15619304</td>\n",
       "      <td>Onio</td>\n",
       "      <td>502</td>\n",
       "      <td>France</td>\n",
       "      <td>Female</td>\n",
       "      <td>42</td>\n",
       "      <td>8</td>\n",
       "      <td>159660.80</td>\n",
       "      <td>3</td>\n",
       "      <td>1</td>\n",
       "      <td>0</td>\n",
       "      <td>113931.57</td>\n",
       "      <td>1</td>\n",
       "    </tr>\n",
       "    <tr>\n",
       "      <th>3</th>\n",
       "      <td>4</td>\n",
       "      <td>15701354</td>\n",
       "      <td>Boni</td>\n",
       "      <td>699</td>\n",
       "      <td>France</td>\n",
       "      <td>Female</td>\n",
       "      <td>39</td>\n",
       "      <td>1</td>\n",
       "      <td>0.00</td>\n",
       "      <td>2</td>\n",
       "      <td>0</td>\n",
       "      <td>0</td>\n",
       "      <td>93826.63</td>\n",
       "      <td>0</td>\n",
       "    </tr>\n",
       "    <tr>\n",
       "      <th>4</th>\n",
       "      <td>5</td>\n",
       "      <td>15737888</td>\n",
       "      <td>Mitchell</td>\n",
       "      <td>850</td>\n",
       "      <td>Spain</td>\n",
       "      <td>Female</td>\n",
       "      <td>43</td>\n",
       "      <td>2</td>\n",
       "      <td>125510.82</td>\n",
       "      <td>1</td>\n",
       "      <td>1</td>\n",
       "      <td>1</td>\n",
       "      <td>79084.10</td>\n",
       "      <td>0</td>\n",
       "    </tr>\n",
       "  </tbody>\n",
       "</table>\n",
       "</div>"
      ],
      "text/plain": [
       "   RowNumber  CustomerId   Surname  ...  IsActiveMember EstimatedSalary Exited\n",
       "0          1    15634602  Hargrave  ...               1       101348.88      1\n",
       "1          2    15647311      Hill  ...               1       112542.58      0\n",
       "2          3    15619304      Onio  ...               0       113931.57      1\n",
       "3          4    15701354      Boni  ...               0        93826.63      0\n",
       "4          5    15737888  Mitchell  ...               1        79084.10      0\n",
       "\n",
       "[5 rows x 14 columns]"
      ]
     },
     "execution_count": 2,
     "metadata": {
      "tags": []
     },
     "output_type": "execute_result"
    }
   ],
   "source": [
    "# Read data\n",
    "df = pd.read_csv('/content/Churn_Modelling.csv')\n",
    "df.head()"
   ]
  },
  {
   "cell_type": "code",
   "execution_count": null,
   "metadata": {
    "colab": {
     "base_uri": "https://localhost:8080/",
     "height": 34
    },
    "colab_type": "code",
    "id": "wydloTc-yEY8",
    "outputId": "167512f5-c7cd-45e6-a4cf-cfa2f51be9ce"
   },
   "outputs": [
    {
     "data": {
      "text/plain": [
       "(10000, 14)"
      ]
     },
     "execution_count": 3,
     "metadata": {
      "tags": []
     },
     "output_type": "execute_result"
    }
   ],
   "source": [
    "df.shape"
   ]
  },
  {
   "cell_type": "code",
   "execution_count": null,
   "metadata": {
    "colab": {
     "base_uri": "https://localhost:8080/",
     "height": 390
    },
    "colab_type": "code",
    "id": "idM0suuByF5V",
    "outputId": "e4e6700d-0a60-49fd-9348-30967bc2b94a"
   },
   "outputs": [
    {
     "name": "stdout",
     "output_type": "stream",
     "text": [
      "<class 'pandas.core.frame.DataFrame'>\n",
      "RangeIndex: 10000 entries, 0 to 9999\n",
      "Data columns (total 14 columns):\n",
      " #   Column           Non-Null Count  Dtype  \n",
      "---  ------           --------------  -----  \n",
      " 0   RowNumber        10000 non-null  int64  \n",
      " 1   CustomerId       10000 non-null  int64  \n",
      " 2   Surname          10000 non-null  object \n",
      " 3   CreditScore      10000 non-null  int64  \n",
      " 4   Geography        10000 non-null  object \n",
      " 5   Gender           10000 non-null  object \n",
      " 6   Age              10000 non-null  int64  \n",
      " 7   Tenure           10000 non-null  int64  \n",
      " 8   Balance          10000 non-null  float64\n",
      " 9   NumOfProducts    10000 non-null  int64  \n",
      " 10  HasCrCard        10000 non-null  int64  \n",
      " 11  IsActiveMember   10000 non-null  int64  \n",
      " 12  EstimatedSalary  10000 non-null  float64\n",
      " 13  Exited           10000 non-null  int64  \n",
      "dtypes: float64(2), int64(9), object(3)\n",
      "memory usage: 1.1+ MB\n"
     ]
    }
   ],
   "source": [
    "df.info()"
   ]
  },
  {
   "cell_type": "code",
   "execution_count": null,
   "metadata": {
    "colab": {},
    "colab_type": "code",
    "id": "ZUknIdSUx2l_"
   },
   "outputs": [],
   "source": [
    "X = df.iloc[:,3:13]\n",
    "Y = df.iloc[:,13]"
   ]
  },
  {
   "cell_type": "code",
   "execution_count": null,
   "metadata": {
    "colab": {},
    "colab_type": "code",
    "id": "frdfQn_FyJNl"
   },
   "outputs": [],
   "source": [
    "# Creating dummy for Gender and Geography\n",
    "\n",
    "gender = pd.get_dummies(df['Gender'], drop_first= True)\n",
    "geography = pd.get_dummies(df['Geography'], drop_first= True)\n",
    "\n",
    "X = pd.concat([X, gender, geography], axis = 1)\n",
    "X.drop(['Gender', 'Geography'], axis = 1, inplace = True)"
   ]
  },
  {
   "cell_type": "code",
   "execution_count": null,
   "metadata": {
    "colab": {
     "base_uri": "https://localhost:8080/",
     "height": 197
    },
    "colab_type": "code",
    "id": "5piwM1WGy017",
    "outputId": "d71fc25c-0526-443a-b0ca-83665ec90ceb"
   },
   "outputs": [
    {
     "data": {
      "text/html": [
       "<div>\n",
       "<style scoped>\n",
       "    .dataframe tbody tr th:only-of-type {\n",
       "        vertical-align: middle;\n",
       "    }\n",
       "\n",
       "    .dataframe tbody tr th {\n",
       "        vertical-align: top;\n",
       "    }\n",
       "\n",
       "    .dataframe thead th {\n",
       "        text-align: right;\n",
       "    }\n",
       "</style>\n",
       "<table border=\"1\" class=\"dataframe\">\n",
       "  <thead>\n",
       "    <tr style=\"text-align: right;\">\n",
       "      <th></th>\n",
       "      <th>CreditScore</th>\n",
       "      <th>Age</th>\n",
       "      <th>Tenure</th>\n",
       "      <th>Balance</th>\n",
       "      <th>NumOfProducts</th>\n",
       "      <th>HasCrCard</th>\n",
       "      <th>IsActiveMember</th>\n",
       "      <th>EstimatedSalary</th>\n",
       "      <th>Male</th>\n",
       "      <th>Germany</th>\n",
       "      <th>Spain</th>\n",
       "    </tr>\n",
       "  </thead>\n",
       "  <tbody>\n",
       "    <tr>\n",
       "      <th>0</th>\n",
       "      <td>619</td>\n",
       "      <td>42</td>\n",
       "      <td>2</td>\n",
       "      <td>0.00</td>\n",
       "      <td>1</td>\n",
       "      <td>1</td>\n",
       "      <td>1</td>\n",
       "      <td>101348.88</td>\n",
       "      <td>0</td>\n",
       "      <td>0</td>\n",
       "      <td>0</td>\n",
       "    </tr>\n",
       "    <tr>\n",
       "      <th>1</th>\n",
       "      <td>608</td>\n",
       "      <td>41</td>\n",
       "      <td>1</td>\n",
       "      <td>83807.86</td>\n",
       "      <td>1</td>\n",
       "      <td>0</td>\n",
       "      <td>1</td>\n",
       "      <td>112542.58</td>\n",
       "      <td>0</td>\n",
       "      <td>0</td>\n",
       "      <td>1</td>\n",
       "    </tr>\n",
       "    <tr>\n",
       "      <th>2</th>\n",
       "      <td>502</td>\n",
       "      <td>42</td>\n",
       "      <td>8</td>\n",
       "      <td>159660.80</td>\n",
       "      <td>3</td>\n",
       "      <td>1</td>\n",
       "      <td>0</td>\n",
       "      <td>113931.57</td>\n",
       "      <td>0</td>\n",
       "      <td>0</td>\n",
       "      <td>0</td>\n",
       "    </tr>\n",
       "    <tr>\n",
       "      <th>3</th>\n",
       "      <td>699</td>\n",
       "      <td>39</td>\n",
       "      <td>1</td>\n",
       "      <td>0.00</td>\n",
       "      <td>2</td>\n",
       "      <td>0</td>\n",
       "      <td>0</td>\n",
       "      <td>93826.63</td>\n",
       "      <td>0</td>\n",
       "      <td>0</td>\n",
       "      <td>0</td>\n",
       "    </tr>\n",
       "    <tr>\n",
       "      <th>4</th>\n",
       "      <td>850</td>\n",
       "      <td>43</td>\n",
       "      <td>2</td>\n",
       "      <td>125510.82</td>\n",
       "      <td>1</td>\n",
       "      <td>1</td>\n",
       "      <td>1</td>\n",
       "      <td>79084.10</td>\n",
       "      <td>0</td>\n",
       "      <td>0</td>\n",
       "      <td>1</td>\n",
       "    </tr>\n",
       "  </tbody>\n",
       "</table>\n",
       "</div>"
      ],
      "text/plain": [
       "   CreditScore  Age  Tenure    Balance  ...  EstimatedSalary  Male  Germany  Spain\n",
       "0          619   42       2       0.00  ...        101348.88     0        0      0\n",
       "1          608   41       1   83807.86  ...        112542.58     0        0      1\n",
       "2          502   42       8  159660.80  ...        113931.57     0        0      0\n",
       "3          699   39       1       0.00  ...         93826.63     0        0      0\n",
       "4          850   43       2  125510.82  ...         79084.10     0        0      1\n",
       "\n",
       "[5 rows x 11 columns]"
      ]
     },
     "execution_count": 7,
     "metadata": {
      "tags": []
     },
     "output_type": "execute_result"
    }
   ],
   "source": [
    "X.head()"
   ]
  },
  {
   "cell_type": "code",
   "execution_count": null,
   "metadata": {
    "colab": {},
    "colab_type": "code",
    "id": "jGNlg3ZWy2CY"
   },
   "outputs": [],
   "source": [
    "# Train Test Split\n",
    "from sklearn.model_selection import train_test_split\n",
    "\n",
    "X_train, X_test, y_train, y_test = train_test_split(X,Y, test_size = 0.2, random_state = 0)"
   ]
  },
  {
   "cell_type": "code",
   "execution_count": null,
   "metadata": {
    "colab": {
     "base_uri": "https://localhost:8080/",
     "height": 197
    },
    "colab_type": "code",
    "id": "H4L62PrSzTm3",
    "outputId": "fa7b9656-7fbd-47f8-f005-568541058cc9"
   },
   "outputs": [
    {
     "data": {
      "text/html": [
       "<div>\n",
       "<style scoped>\n",
       "    .dataframe tbody tr th:only-of-type {\n",
       "        vertical-align: middle;\n",
       "    }\n",
       "\n",
       "    .dataframe tbody tr th {\n",
       "        vertical-align: top;\n",
       "    }\n",
       "\n",
       "    .dataframe thead th {\n",
       "        text-align: right;\n",
       "    }\n",
       "</style>\n",
       "<table border=\"1\" class=\"dataframe\">\n",
       "  <thead>\n",
       "    <tr style=\"text-align: right;\">\n",
       "      <th></th>\n",
       "      <th>CreditScore</th>\n",
       "      <th>Age</th>\n",
       "      <th>Tenure</th>\n",
       "      <th>Balance</th>\n",
       "      <th>NumOfProducts</th>\n",
       "      <th>HasCrCard</th>\n",
       "      <th>IsActiveMember</th>\n",
       "      <th>EstimatedSalary</th>\n",
       "      <th>Male</th>\n",
       "      <th>Germany</th>\n",
       "      <th>Spain</th>\n",
       "    </tr>\n",
       "  </thead>\n",
       "  <tbody>\n",
       "    <tr>\n",
       "      <th>7389</th>\n",
       "      <td>667</td>\n",
       "      <td>34</td>\n",
       "      <td>5</td>\n",
       "      <td>0.00</td>\n",
       "      <td>2</td>\n",
       "      <td>1</td>\n",
       "      <td>0</td>\n",
       "      <td>163830.64</td>\n",
       "      <td>0</td>\n",
       "      <td>0</td>\n",
       "      <td>1</td>\n",
       "    </tr>\n",
       "    <tr>\n",
       "      <th>9275</th>\n",
       "      <td>427</td>\n",
       "      <td>42</td>\n",
       "      <td>1</td>\n",
       "      <td>75681.52</td>\n",
       "      <td>1</td>\n",
       "      <td>1</td>\n",
       "      <td>1</td>\n",
       "      <td>57098.00</td>\n",
       "      <td>1</td>\n",
       "      <td>1</td>\n",
       "      <td>0</td>\n",
       "    </tr>\n",
       "    <tr>\n",
       "      <th>2995</th>\n",
       "      <td>535</td>\n",
       "      <td>29</td>\n",
       "      <td>2</td>\n",
       "      <td>112367.34</td>\n",
       "      <td>1</td>\n",
       "      <td>1</td>\n",
       "      <td>0</td>\n",
       "      <td>185630.76</td>\n",
       "      <td>0</td>\n",
       "      <td>0</td>\n",
       "      <td>0</td>\n",
       "    </tr>\n",
       "    <tr>\n",
       "      <th>5316</th>\n",
       "      <td>654</td>\n",
       "      <td>40</td>\n",
       "      <td>5</td>\n",
       "      <td>105683.63</td>\n",
       "      <td>1</td>\n",
       "      <td>1</td>\n",
       "      <td>0</td>\n",
       "      <td>173617.09</td>\n",
       "      <td>1</td>\n",
       "      <td>0</td>\n",
       "      <td>1</td>\n",
       "    </tr>\n",
       "    <tr>\n",
       "      <th>356</th>\n",
       "      <td>850</td>\n",
       "      <td>57</td>\n",
       "      <td>8</td>\n",
       "      <td>126776.30</td>\n",
       "      <td>2</td>\n",
       "      <td>1</td>\n",
       "      <td>1</td>\n",
       "      <td>132298.49</td>\n",
       "      <td>0</td>\n",
       "      <td>0</td>\n",
       "      <td>1</td>\n",
       "    </tr>\n",
       "  </tbody>\n",
       "</table>\n",
       "</div>"
      ],
      "text/plain": [
       "      CreditScore  Age  Tenure  ...  Male  Germany  Spain\n",
       "7389          667   34       5  ...     0        0      1\n",
       "9275          427   42       1  ...     1        1      0\n",
       "2995          535   29       2  ...     0        0      0\n",
       "5316          654   40       5  ...     1        0      1\n",
       "356           850   57       8  ...     0        0      1\n",
       "\n",
       "[5 rows x 11 columns]"
      ]
     },
     "execution_count": 9,
     "metadata": {
      "tags": []
     },
     "output_type": "execute_result"
    }
   ],
   "source": [
    "X_train.head()"
   ]
  },
  {
   "cell_type": "code",
   "execution_count": null,
   "metadata": {
    "colab": {},
    "colab_type": "code",
    "id": "6KWqFM6EzY4m"
   },
   "outputs": [],
   "source": [
    "# Scaling the Data\n",
    "from sklearn.preprocessing import StandardScaler\n",
    "\n",
    "std = StandardScaler()\n",
    "\n",
    "X_train_sc = std.fit_transform(X_train)\n",
    "X_test_sc = std.fit_transform(X_test)"
   ]
  },
  {
   "cell_type": "markdown",
   "metadata": {
    "colab_type": "text",
    "id": "yJL7FXQSz9Do"
   },
   "source": [
    "### ___Building a Neural Network___"
   ]
  },
  {
   "cell_type": "code",
   "execution_count": null,
   "metadata": {
    "colab": {},
    "colab_type": "code",
    "id": "M_WHi-bSz1sN"
   },
   "outputs": [],
   "source": [
    "import tensorflow\n",
    "from tensorflow import keras\n",
    "\n",
    "from keras.models import Sequential\n",
    "from keras.layers import Dense\n",
    "from keras.layers import Dropout\n",
    "from keras.layers import ReLU, LeakyReLU"
   ]
  },
  {
   "cell_type": "code",
   "execution_count": null,
   "metadata": {
    "colab": {
     "base_uri": "https://localhost:8080/",
     "height": 1000
    },
    "colab_type": "code",
    "id": "INXnaAeJ0jOl",
    "outputId": "2af4a00c-0ea7-4db7-f453-2672c02b6707"
   },
   "outputs": [
    {
     "name": "stdout",
     "output_type": "stream",
     "text": [
      "Epoch 1/100\n",
      "536/536 [==============================] - 2s 4ms/step - loss: 1050.9808 - accuracy: 0.6966 - val_loss: 301.0496 - val_accuracy: 0.7709\n",
      "Epoch 2/100\n",
      "536/536 [==============================] - 2s 4ms/step - loss: 175.1133 - accuracy: 0.6880 - val_loss: 280.8235 - val_accuracy: 0.5021\n",
      "Epoch 3/100\n",
      "536/536 [==============================] - 2s 3ms/step - loss: 148.6611 - accuracy: 0.6899 - val_loss: 129.4481 - val_accuracy: 0.4991\n",
      "Epoch 4/100\n",
      "536/536 [==============================] - 2s 3ms/step - loss: 101.5450 - accuracy: 0.6897 - val_loss: 88.2836 - val_accuracy: 0.7827\n",
      "Epoch 5/100\n",
      "536/536 [==============================] - 2s 3ms/step - loss: 94.4107 - accuracy: 0.6880 - val_loss: 91.5081 - val_accuracy: 0.6634\n",
      "Epoch 6/100\n",
      "536/536 [==============================] - 2s 3ms/step - loss: 88.8133 - accuracy: 0.6893 - val_loss: 73.0846 - val_accuracy: 0.5884\n",
      "Epoch 7/100\n",
      "536/536 [==============================] - 2s 3ms/step - loss: 89.6461 - accuracy: 0.6929 - val_loss: 69.7197 - val_accuracy: 0.7910\n",
      "Epoch 8/100\n",
      "536/536 [==============================] - 2s 3ms/step - loss: 86.1441 - accuracy: 0.6970 - val_loss: 60.0477 - val_accuracy: 0.7902\n",
      "Epoch 9/100\n",
      "536/536 [==============================] - 2s 3ms/step - loss: 73.0525 - accuracy: 0.6867 - val_loss: 28.5227 - val_accuracy: 0.5214\n",
      "Epoch 10/100\n",
      "536/536 [==============================] - 2s 4ms/step - loss: 76.9368 - accuracy: 0.6850 - val_loss: 80.5548 - val_accuracy: 0.3105\n",
      "Epoch 11/100\n",
      "536/536 [==============================] - 2s 3ms/step - loss: 77.7477 - accuracy: 0.6869 - val_loss: 102.8590 - val_accuracy: 0.7649\n",
      "Epoch 12/100\n",
      "536/536 [==============================] - 2s 3ms/step - loss: 71.0477 - accuracy: 0.6863 - val_loss: 28.4686 - val_accuracy: 0.7842\n",
      "Epoch 13/100\n",
      "536/536 [==============================] - 2s 3ms/step - loss: 68.6500 - accuracy: 0.6871 - val_loss: 62.0758 - val_accuracy: 0.7119\n",
      "Epoch 14/100\n",
      "536/536 [==============================] - 2s 3ms/step - loss: 67.7335 - accuracy: 0.6820 - val_loss: 23.9825 - val_accuracy: 0.7516\n",
      "Epoch 15/100\n",
      "536/536 [==============================] - 2s 3ms/step - loss: 70.5619 - accuracy: 0.6826 - val_loss: 97.4484 - val_accuracy: 0.7955\n",
      "Epoch 16/100\n",
      "536/536 [==============================] - 2s 3ms/step - loss: 59.1327 - accuracy: 0.6906 - val_loss: 88.1876 - val_accuracy: 0.7948\n",
      "Epoch 17/100\n",
      "536/536 [==============================] - 2s 3ms/step - loss: 72.1707 - accuracy: 0.6891 - val_loss: 81.4342 - val_accuracy: 0.4813\n",
      "Epoch 18/100\n",
      "536/536 [==============================] - 2s 3ms/step - loss: 59.4013 - accuracy: 0.6859 - val_loss: 15.3753 - val_accuracy: 0.6725\n",
      "Epoch 19/100\n",
      "536/536 [==============================] - 2s 3ms/step - loss: 61.4730 - accuracy: 0.6910 - val_loss: 38.2684 - val_accuracy: 0.6876\n",
      "Epoch 20/100\n",
      "536/536 [==============================] - 2s 3ms/step - loss: 65.1296 - accuracy: 0.6947 - val_loss: 47.0878 - val_accuracy: 0.5498\n",
      "Epoch 21/100\n",
      "536/536 [==============================] - 2s 3ms/step - loss: 73.3127 - accuracy: 0.6843 - val_loss: 42.1591 - val_accuracy: 0.5452\n",
      "Epoch 22/100\n",
      "536/536 [==============================] - 2s 3ms/step - loss: 71.1311 - accuracy: 0.6947 - val_loss: 41.9690 - val_accuracy: 0.7914\n",
      "Epoch 23/100\n",
      "536/536 [==============================] - 2s 3ms/step - loss: 55.2615 - accuracy: 0.7001 - val_loss: 64.9288 - val_accuracy: 0.5490\n",
      "Epoch 24/100\n",
      "536/536 [==============================] - 2s 3ms/step - loss: 65.7917 - accuracy: 0.6878 - val_loss: 83.5465 - val_accuracy: 0.7952\n",
      "Epoch 25/100\n",
      "536/536 [==============================] - 2s 3ms/step - loss: 49.9276 - accuracy: 0.6957 - val_loss: 34.6119 - val_accuracy: 0.7425\n",
      "Epoch 26/100\n",
      "536/536 [==============================] - 2s 4ms/step - loss: 61.1276 - accuracy: 0.6873 - val_loss: 72.9337 - val_accuracy: 0.7948\n",
      "Epoch 27/100\n",
      "536/536 [==============================] - 2s 3ms/step - loss: 71.5854 - accuracy: 0.6817 - val_loss: 12.5668 - val_accuracy: 0.7743\n",
      "Epoch 28/100\n",
      "536/536 [==============================] - 2s 3ms/step - loss: 59.1088 - accuracy: 0.6927 - val_loss: 83.7234 - val_accuracy: 0.7952\n",
      "Epoch 29/100\n",
      "536/536 [==============================] - 2s 3ms/step - loss: 58.0570 - accuracy: 0.6994 - val_loss: 54.6501 - val_accuracy: 0.6331\n",
      "Epoch 30/100\n",
      "536/536 [==============================] - 2s 3ms/step - loss: 62.0766 - accuracy: 0.6901 - val_loss: 36.4716 - val_accuracy: 0.7921\n",
      "Epoch 31/100\n",
      "536/536 [==============================] - 2s 3ms/step - loss: 53.7245 - accuracy: 0.6986 - val_loss: 22.1688 - val_accuracy: 0.7959\n",
      "Epoch 32/100\n",
      "536/536 [==============================] - 2s 3ms/step - loss: 58.7498 - accuracy: 0.6938 - val_loss: 66.2622 - val_accuracy: 0.4695\n",
      "Epoch 33/100\n",
      "536/536 [==============================] - 2s 3ms/step - loss: 65.3900 - accuracy: 0.6878 - val_loss: 16.4086 - val_accuracy: 0.6566\n",
      "Epoch 34/100\n",
      "536/536 [==============================] - 2s 3ms/step - loss: 45.2679 - accuracy: 0.6858 - val_loss: 60.0661 - val_accuracy: 0.5593\n",
      "Epoch 35/100\n",
      "536/536 [==============================] - 2s 3ms/step - loss: 59.9832 - accuracy: 0.6854 - val_loss: 18.2168 - val_accuracy: 0.7800\n",
      "Epoch 36/100\n",
      "536/536 [==============================] - 2s 3ms/step - loss: 65.2098 - accuracy: 0.6951 - val_loss: 57.1107 - val_accuracy: 0.7925\n",
      "Epoch 37/100\n",
      "536/536 [==============================] - 2s 3ms/step - loss: 53.7157 - accuracy: 0.6906 - val_loss: 48.0305 - val_accuracy: 0.7652\n",
      "Epoch 38/100\n",
      "536/536 [==============================] - 2s 3ms/step - loss: 50.3554 - accuracy: 0.6943 - val_loss: 98.0953 - val_accuracy: 0.7952\n",
      "Epoch 39/100\n",
      "536/536 [==============================] - 2s 3ms/step - loss: 54.0879 - accuracy: 0.6910 - val_loss: 118.6234 - val_accuracy: 0.7952\n",
      "Epoch 40/100\n",
      "536/536 [==============================] - 2s 3ms/step - loss: 52.0849 - accuracy: 0.6929 - val_loss: 77.5718 - val_accuracy: 0.7952\n",
      "Epoch 41/100\n",
      "536/536 [==============================] - 2s 3ms/step - loss: 57.4879 - accuracy: 0.6917 - val_loss: 68.9690 - val_accuracy: 0.7952\n",
      "Epoch 42/100\n",
      "536/536 [==============================] - 2s 3ms/step - loss: 43.0157 - accuracy: 0.6899 - val_loss: 97.0475 - val_accuracy: 0.7955\n",
      "Epoch 43/100\n",
      "536/536 [==============================] - 2s 3ms/step - loss: 56.1475 - accuracy: 0.6955 - val_loss: 53.2593 - val_accuracy: 0.7955\n",
      "Epoch 44/100\n",
      "536/536 [==============================] - 2s 3ms/step - loss: 50.9981 - accuracy: 0.6902 - val_loss: 23.8087 - val_accuracy: 0.5464\n",
      "Epoch 45/100\n",
      "536/536 [==============================] - 2s 3ms/step - loss: 54.3744 - accuracy: 0.6856 - val_loss: 138.6993 - val_accuracy: 0.7952\n",
      "Epoch 46/100\n",
      "536/536 [==============================] - 2s 3ms/step - loss: 53.2025 - accuracy: 0.6983 - val_loss: 24.2711 - val_accuracy: 0.7940\n",
      "Epoch 47/100\n",
      "536/536 [==============================] - 2s 3ms/step - loss: 45.5775 - accuracy: 0.6981 - val_loss: 106.1136 - val_accuracy: 0.3048\n",
      "Epoch 48/100\n",
      "536/536 [==============================] - 2s 3ms/step - loss: 52.2065 - accuracy: 0.6936 - val_loss: 42.0114 - val_accuracy: 0.7929\n",
      "Epoch 49/100\n",
      "536/536 [==============================] - 2s 3ms/step - loss: 49.5554 - accuracy: 0.6973 - val_loss: 54.9267 - val_accuracy: 0.7955\n",
      "Epoch 50/100\n",
      "536/536 [==============================] - 2s 3ms/step - loss: 47.2839 - accuracy: 0.6970 - val_loss: 20.1785 - val_accuracy: 0.6823\n",
      "Epoch 51/100\n",
      "536/536 [==============================] - 2s 4ms/step - loss: 45.1245 - accuracy: 0.6992 - val_loss: 36.4687 - val_accuracy: 0.5237\n",
      "Epoch 52/100\n",
      "536/536 [==============================] - 2s 3ms/step - loss: 45.2440 - accuracy: 0.6953 - val_loss: 13.2553 - val_accuracy: 0.6494\n",
      "Epoch 53/100\n",
      "536/536 [==============================] - 2s 4ms/step - loss: 43.8885 - accuracy: 0.6996 - val_loss: 94.3286 - val_accuracy: 0.7796\n",
      "Epoch 54/100\n",
      "536/536 [==============================] - 2s 4ms/step - loss: 46.9784 - accuracy: 0.6992 - val_loss: 59.7459 - val_accuracy: 0.4847\n",
      "Epoch 55/100\n",
      "536/536 [==============================] - 2s 3ms/step - loss: 46.9862 - accuracy: 0.6932 - val_loss: 52.3236 - val_accuracy: 0.6566\n",
      "Epoch 56/100\n",
      "536/536 [==============================] - 2s 3ms/step - loss: 47.3810 - accuracy: 0.6971 - val_loss: 32.7866 - val_accuracy: 0.6191\n",
      "Epoch 57/100\n",
      "536/536 [==============================] - 2s 3ms/step - loss: 47.8347 - accuracy: 0.7033 - val_loss: 83.4522 - val_accuracy: 0.7952\n",
      "Epoch 58/100\n",
      "536/536 [==============================] - 2s 3ms/step - loss: 52.8985 - accuracy: 0.6964 - val_loss: 21.2907 - val_accuracy: 0.4938\n",
      "Epoch 59/100\n",
      "536/536 [==============================] - 2s 3ms/step - loss: 49.6775 - accuracy: 0.6940 - val_loss: 51.1778 - val_accuracy: 0.5081\n",
      "Epoch 60/100\n",
      "536/536 [==============================] - 2s 3ms/step - loss: 45.8293 - accuracy: 0.6917 - val_loss: 78.7661 - val_accuracy: 0.4710\n",
      "Epoch 61/100\n",
      "536/536 [==============================] - 2s 3ms/step - loss: 40.4916 - accuracy: 0.6936 - val_loss: 27.3121 - val_accuracy: 0.4430\n",
      "Epoch 62/100\n",
      "536/536 [==============================] - 2s 3ms/step - loss: 42.4732 - accuracy: 0.6859 - val_loss: 31.7682 - val_accuracy: 0.7243\n",
      "Epoch 63/100\n",
      "536/536 [==============================] - 2s 3ms/step - loss: 48.5210 - accuracy: 0.6973 - val_loss: 76.9613 - val_accuracy: 0.7963\n",
      "Epoch 64/100\n",
      "536/536 [==============================] - 2s 3ms/step - loss: 47.8313 - accuracy: 0.6934 - val_loss: 66.4947 - val_accuracy: 0.4703\n",
      "Epoch 65/100\n",
      "536/536 [==============================] - 2s 4ms/step - loss: 40.7084 - accuracy: 0.6936 - val_loss: 44.4976 - val_accuracy: 0.7119\n",
      "Epoch 66/100\n",
      "536/536 [==============================] - 2s 3ms/step - loss: 43.4714 - accuracy: 0.6962 - val_loss: 12.5838 - val_accuracy: 0.7921\n",
      "Epoch 67/100\n",
      "536/536 [==============================] - 2s 3ms/step - loss: 40.1728 - accuracy: 0.7048 - val_loss: 21.5171 - val_accuracy: 0.7853\n",
      "Epoch 68/100\n",
      "536/536 [==============================] - 2s 3ms/step - loss: 42.1118 - accuracy: 0.6949 - val_loss: 45.5326 - val_accuracy: 0.7399\n",
      "Epoch 69/100\n",
      "536/536 [==============================] - 2s 3ms/step - loss: 50.7909 - accuracy: 0.6938 - val_loss: 41.6459 - val_accuracy: 0.4457\n",
      "Epoch 70/100\n",
      "536/536 [==============================] - 2s 3ms/step - loss: 53.7486 - accuracy: 0.6915 - val_loss: 8.7181 - val_accuracy: 0.7361\n",
      "Epoch 71/100\n",
      "536/536 [==============================] - 2s 3ms/step - loss: 46.8161 - accuracy: 0.6951 - val_loss: 105.5253 - val_accuracy: 0.7925\n",
      "Epoch 72/100\n",
      "536/536 [==============================] - 2s 3ms/step - loss: 40.0223 - accuracy: 0.7059 - val_loss: 21.6595 - val_accuracy: 0.6649\n",
      "Epoch 73/100\n",
      "536/536 [==============================] - 2s 3ms/step - loss: 42.2140 - accuracy: 0.6988 - val_loss: 32.2872 - val_accuracy: 0.6369\n",
      "Epoch 74/100\n",
      "536/536 [==============================] - 2s 3ms/step - loss: 41.6257 - accuracy: 0.6955 - val_loss: 46.8283 - val_accuracy: 0.7952\n",
      "Epoch 75/100\n",
      "536/536 [==============================] - 2s 3ms/step - loss: 34.8825 - accuracy: 0.7011 - val_loss: 34.1007 - val_accuracy: 0.7944\n",
      "Epoch 76/100\n",
      "536/536 [==============================] - 2s 3ms/step - loss: 42.8850 - accuracy: 0.6964 - val_loss: 75.2543 - val_accuracy: 0.4051\n",
      "Epoch 77/100\n",
      "536/536 [==============================] - 2s 3ms/step - loss: 34.2205 - accuracy: 0.7082 - val_loss: 48.5253 - val_accuracy: 0.5028\n",
      "Epoch 78/100\n",
      "536/536 [==============================] - 2s 3ms/step - loss: 48.2511 - accuracy: 0.6943 - val_loss: 62.7372 - val_accuracy: 0.7952\n",
      "Epoch 79/100\n",
      "536/536 [==============================] - 2s 3ms/step - loss: 55.5364 - accuracy: 0.6958 - val_loss: 40.6498 - val_accuracy: 0.6013\n",
      "Epoch 80/100\n",
      "536/536 [==============================] - 2s 3ms/step - loss: 42.0367 - accuracy: 0.7052 - val_loss: 10.7401 - val_accuracy: 0.7259\n",
      "Epoch 81/100\n",
      "536/536 [==============================] - 2s 3ms/step - loss: 30.9597 - accuracy: 0.7065 - val_loss: 24.9212 - val_accuracy: 0.7940\n",
      "Epoch 82/100\n",
      "536/536 [==============================] - 2s 3ms/step - loss: 34.5994 - accuracy: 0.7048 - val_loss: 6.5755 - val_accuracy: 0.7459\n",
      "Epoch 83/100\n",
      "536/536 [==============================] - 2s 3ms/step - loss: 37.5949 - accuracy: 0.6990 - val_loss: 44.1148 - val_accuracy: 0.7944\n",
      "Epoch 84/100\n",
      "536/536 [==============================] - 2s 3ms/step - loss: 40.0940 - accuracy: 0.6938 - val_loss: 32.9580 - val_accuracy: 0.7925\n",
      "Epoch 85/100\n",
      "536/536 [==============================] - 2s 3ms/step - loss: 43.5876 - accuracy: 0.6936 - val_loss: 11.4682 - val_accuracy: 0.7785\n",
      "Epoch 86/100\n",
      "536/536 [==============================] - 2s 3ms/step - loss: 34.5779 - accuracy: 0.6998 - val_loss: 12.0105 - val_accuracy: 0.7501\n",
      "Epoch 87/100\n",
      "536/536 [==============================] - 2s 3ms/step - loss: 31.6065 - accuracy: 0.6929 - val_loss: 14.6194 - val_accuracy: 0.6176\n",
      "Epoch 88/100\n",
      "536/536 [==============================] - 2s 3ms/step - loss: 30.3622 - accuracy: 0.7016 - val_loss: 17.2352 - val_accuracy: 0.6698\n",
      "Epoch 89/100\n",
      "536/536 [==============================] - 2s 3ms/step - loss: 37.5913 - accuracy: 0.6998 - val_loss: 47.6375 - val_accuracy: 0.7917\n",
      "Epoch 90/100\n",
      "536/536 [==============================] - 2s 3ms/step - loss: 33.9327 - accuracy: 0.7022 - val_loss: 72.6335 - val_accuracy: 0.7955\n",
      "Epoch 91/100\n",
      "536/536 [==============================] - 2s 3ms/step - loss: 35.2309 - accuracy: 0.7033 - val_loss: 47.4717 - val_accuracy: 0.7955\n",
      "Epoch 92/100\n",
      "536/536 [==============================] - 2s 3ms/step - loss: 36.9413 - accuracy: 0.6985 - val_loss: 82.3838 - val_accuracy: 0.7963\n",
      "Epoch 93/100\n",
      "536/536 [==============================] - 2s 3ms/step - loss: 38.9994 - accuracy: 0.6957 - val_loss: 15.8366 - val_accuracy: 0.6251\n",
      "Epoch 94/100\n",
      "536/536 [==============================] - 2s 3ms/step - loss: 35.0986 - accuracy: 0.7014 - val_loss: 38.4004 - val_accuracy: 0.7569\n",
      "Epoch 95/100\n",
      "536/536 [==============================] - 2s 3ms/step - loss: 41.3519 - accuracy: 0.6936 - val_loss: 44.6910 - val_accuracy: 0.5009\n",
      "Epoch 96/100\n",
      "536/536 [==============================] - 2s 3ms/step - loss: 28.6062 - accuracy: 0.6940 - val_loss: 35.9519 - val_accuracy: 0.7959\n",
      "Epoch 97/100\n",
      "536/536 [==============================] - 2s 3ms/step - loss: 30.3404 - accuracy: 0.7035 - val_loss: 10.8839 - val_accuracy: 0.7198\n",
      "Epoch 98/100\n",
      "536/536 [==============================] - 2s 3ms/step - loss: 38.8219 - accuracy: 0.7040 - val_loss: 26.8383 - val_accuracy: 0.6694\n",
      "Epoch 99/100\n",
      "536/536 [==============================] - 2s 3ms/step - loss: 29.5892 - accuracy: 0.6940 - val_loss: 67.9284 - val_accuracy: 0.3162\n",
      "Epoch 100/100\n",
      "536/536 [==============================] - 2s 3ms/step - loss: 30.1382 - accuracy: 0.6958 - val_loss: 16.4689 - val_accuracy: 0.7936\n"
     ]
    }
   ],
   "source": [
    "# Creating an Artificial Neural Network\n",
    "\n",
    "model = Sequential()\n",
    "\n",
    "# Adding first Input Layer\n",
    "model.add(Dense(units = 11, activation='relu', kernel_initializer='he_uniform', input_dim = 11))\n",
    "\n",
    "# Adding Hidden Layer\n",
    "model.add(Dense(units = 6, activation='relu', kernel_initializer='he_uniform'))\n",
    "\n",
    "# Adding Output Layer\n",
    "model.add(Dense(units = 1, activation = 'sigmoid', kernel_initializer = 'glorot_uniform'))\n",
    "\n",
    "# Compiling the Model\n",
    "model.compile(optimizer= 'adam', loss = 'binary_crossentropy', metrics= ['accuracy'])\n",
    "\n",
    "fitted = model.fit(X_train, y_train, validation_split= 0.33, batch_size= 10, epochs= 100)"
   ]
  },
  {
   "cell_type": "markdown",
   "metadata": {
    "colab_type": "text",
    "id": "9_XXZPEs7Des"
   },
   "source": [
    "### ___Understanding the Model___"
   ]
  },
  {
   "cell_type": "code",
   "execution_count": null,
   "metadata": {
    "colab": {
     "base_uri": "https://localhost:8080/",
     "height": 265
    },
    "colab_type": "code",
    "id": "vbCWF05Z5XgB",
    "outputId": "0debcd88-ab90-44a2-b669-18b9b10f2354"
   },
   "outputs": [
    {
     "name": "stdout",
     "output_type": "stream",
     "text": [
      "Model: \"sequential\"\n",
      "_________________________________________________________________\n",
      "Layer (type)                 Output Shape              Param #   \n",
      "=================================================================\n",
      "dense (Dense)                (None, 11)                132       \n",
      "_________________________________________________________________\n",
      "dense_1 (Dense)              (None, 6)                 72        \n",
      "_________________________________________________________________\n",
      "dense_2 (Dense)              (None, 1)                 7         \n",
      "=================================================================\n",
      "Total params: 211\n",
      "Trainable params: 211\n",
      "Non-trainable params: 0\n",
      "_________________________________________________________________\n"
     ]
    }
   ],
   "source": [
    "model.summary()"
   ]
  },
  {
   "cell_type": "code",
   "execution_count": null,
   "metadata": {
    "colab": {
     "base_uri": "https://localhost:8080/",
     "height": 52
    },
    "colab_type": "code",
    "id": "9LxtK7J75XkB",
    "outputId": "447e06a0-ae3d-4ffc-9a06-b0ef6d7e50c9"
   },
   "outputs": [
    {
     "name": "stdout",
     "output_type": "stream",
     "text": [
      "63/63 [==============================] - 0s 1ms/step - loss: 15.9545 - accuracy: 0.7885\n"
     ]
    },
    {
     "data": {
      "text/plain": [
       "[15.954458236694336, 0.7885000109672546]"
      ]
     },
     "execution_count": 14,
     "metadata": {
      "tags": []
     },
     "output_type": "execute_result"
    }
   ],
   "source": [
    "model.evaluate(X_test, y_test)"
   ]
  },
  {
   "cell_type": "markdown",
   "metadata": {
    "colab_type": "text",
    "id": "ODsJScueMr2O"
   },
   "source": [
    "### ___Plotting Learning Curves___"
   ]
  },
  {
   "cell_type": "code",
   "execution_count": null,
   "metadata": {
    "colab": {
     "base_uri": "https://localhost:8080/",
     "height": 34
    },
    "colab_type": "code",
    "id": "6cmpiPno6FSH",
    "outputId": "ff85e200-c860-4240-8443-a06b59891e2b"
   },
   "outputs": [
    {
     "name": "stdout",
     "output_type": "stream",
     "text": [
      "dict_keys(['loss', 'accuracy', 'val_loss', 'val_accuracy'])\n"
     ]
    }
   ],
   "source": [
    "# list all data in history\n",
    "\n",
    "print(fitted.history.keys())"
   ]
  },
  {
   "cell_type": "code",
   "execution_count": null,
   "metadata": {
    "colab": {
     "base_uri": "https://localhost:8080/",
     "height": 294
    },
    "colab_type": "code",
    "id": "KrX-lz9f6FJM",
    "outputId": "91f4966e-e5d5-4de8-ac8c-9ae43e9ee911"
   },
   "outputs": [
    {
     "data": {
      "image/png": "[encoded data removed]",
      "text/plain": [
       "<Figure size 432x288 with 1 Axes>"
      ]
     },
     "metadata": {
      "needs_background": "light",
      "tags": []
     },
     "output_type": "display_data"
    }
   ],
   "source": [
    "# Summarize Accuracy Improvements\n",
    "\n",
    "plt.plot(fitted.history['accuracy'])\n",
    "plt.plot(fitted.history['val_accuracy'])\n",
    "plt.title('Model Accuracy')\n",
    "plt.ylabel('accuracy')\n",
    "plt.xlabel('epoch')\n",
    "plt.legend(['train', 'test'], loc='upper left')\n",
    "plt.show()"
   ]
  },
  {
   "cell_type": "code",
   "execution_count": null,
   "metadata": {
    "colab": {
     "base_uri": "https://localhost:8080/",
     "height": 294
    },
    "colab_type": "code",
    "id": "blNEi-pT6PX9",
    "outputId": "e0e91f8a-48ef-433f-afb4-9354cb60f7d9"
   },
   "outputs": [
    {
     "data": {
      "image/png": "[encoded data removed]",
      "text/plain": [
       "<Figure size 432x288 with 1 Axes>"
      ]
     },
     "metadata": {
      "needs_background": "light",
      "tags": []
     },
     "output_type": "display_data"
    }
   ],
   "source": [
    "# Summarize Loss Improvements\n",
    "\n",
    "plt.plot(fitted.history['loss'])\n",
    "plt.plot(fitted.history['val_loss'])\n",
    "plt.title('Model Loss')\n",
    "plt.ylabel('loss')\n",
    "plt.xlabel('epoch')\n",
    "plt.legend(['train', 'test'], loc='upper left')\n",
    "plt.show()"
   ]
  },
  {
   "cell_type": "markdown",
   "metadata": {
    "colab_type": "text",
    "id": "m6y6HO157Haj"
   },
   "source": [
    "### ___Model Predictions___"
   ]
  },
  {
   "cell_type": "code",
   "execution_count": null,
   "metadata": {
    "colab": {},
    "colab_type": "code",
    "id": "pG-8URXt4Mn2"
   },
   "outputs": [],
   "source": [
    "# Predicting the Test Results\n",
    "\n",
    "y_pred = model.predict(X_test)\n",
    "y_pred = (y_pred > 0.5)"
   ]
  },
  {
   "cell_type": "code",
   "execution_count": null,
   "metadata": {
    "colab": {
     "base_uri": "https://localhost:8080/",
     "height": 52
    },
    "colab_type": "code",
    "id": "6dnt5uik5pot",
    "outputId": "e223e3b3-79cc-429a-a51f-3e26f085f64f"
   },
   "outputs": [
    {
     "data": {
      "text/plain": [
       "array([[1566,   29],\n",
       "       [ 394,   11]])"
      ]
     },
     "execution_count": 19,
     "metadata": {
      "tags": []
     },
     "output_type": "execute_result"
    }
   ],
   "source": [
    "# Making the Confusion Matrix\n",
    "from sklearn.metrics import confusion_matrix\n",
    "\n",
    "cm = confusion_matrix(y_test, y_pred)\n",
    "cm"
   ]
  },
  {
   "cell_type": "code",
   "execution_count": null,
   "metadata": {
    "colab": {
     "base_uri": "https://localhost:8080/",
     "height": 34
    },
    "colab_type": "code",
    "id": "rbIVfFKW5uhO",
    "outputId": "355095e8-cde2-4fe6-bcab-549a57aa5145"
   },
   "outputs": [
    {
     "data": {
      "text/plain": [
       "0.7885"
      ]
     },
     "execution_count": 20,
     "metadata": {
      "tags": []
     },
     "output_type": "execute_result"
    }
   ],
   "source": [
    "# Calculate the Accuracy\n",
    "from sklearn.metrics import accuracy_score\n",
    "\n",
    "score=accuracy_score(y_pred, y_test)\n",
    "score"
   ]
  },
  {
   "cell_type": "markdown",
   "metadata": {
    "colab_type": "text",
    "id": "va19sMPOBt0K"
   },
   "source": [
    "## ___Model 2 - MNIST Classification Model___"
   ]
  },
  {
   "cell_type": "code",
   "execution_count": null,
   "metadata": {
    "colab": {
     "base_uri": "https://localhost:8080/",
     "height": 34
    },
    "colab_type": "code",
    "id": "LK6XjJ1BBwWf",
    "outputId": "feef1424-3b7c-4cf8-e9db-9b8ee35bc489"
   },
   "outputs": [
    {
     "data": {
      "text/plain": [
       "module"
      ]
     },
     "execution_count": 21,
     "metadata": {
      "tags": []
     },
     "output_type": "execute_result"
    }
   ],
   "source": [
    "# Getting the inbuilt dataset from Keras\n",
    "\n",
    "mnist = keras.datasets.fashion_mnist\n",
    "type(mnist)"
   ]
  },
  {
   "cell_type": "code",
   "execution_count": null,
   "metadata": {
    "colab": {
     "base_uri": "https://localhost:8080/",
     "height": 158
    },
    "colab_type": "code",
    "id": "iHvOUuFxB4ZJ",
    "outputId": "ac999992-a238-4108-a27e-1bd099ed4de2"
   },
   "outputs": [
    {
     "name": "stdout",
     "output_type": "stream",
     "text": [
      "Downloading data from https://storage.googleapis.com/tensorflow/tf-keras-datasets/train-labels-idx1-ubyte.gz\n",
      "32768/29515 [=================================] - 0s 0us/step\n",
      "Downloading data from https://storage.googleapis.com/tensorflow/tf-keras-datasets/train-images-idx3-ubyte.gz\n",
      "26427392/26421880 [==============================] - 0s 0us/step\n",
      "Downloading data from https://storage.googleapis.com/tensorflow/tf-keras-datasets/t10k-labels-idx1-ubyte.gz\n",
      "8192/5148 [===============================================] - 0s 0us/step\n",
      "Downloading data from https://storage.googleapis.com/tensorflow/tf-keras-datasets/t10k-images-idx3-ubyte.gz\n",
      "4423680/4422102 [==============================] - 0s 0us/step\n"
     ]
    }
   ],
   "source": [
    "# The data \n",
    "(X_train, y_train), (X_test, y_test) = mnist.load_data()"
   ]
  },
  {
   "cell_type": "code",
   "execution_count": null,
   "metadata": {
    "colab": {
     "base_uri": "https://localhost:8080/",
     "height": 34
    },
    "colab_type": "code",
    "id": "5NTBnxgOB7Me",
    "outputId": "553698c6-45a0-4dad-a6eb-98e0aa0c8a30"
   },
   "outputs": [
    {
     "data": {
      "text/plain": [
       "((60000, 28, 28), (60000,))"
      ]
     },
     "execution_count": 23,
     "metadata": {
      "tags": []
     },
     "output_type": "execute_result"
    }
   ],
   "source": [
    "X_train.shape, y_train.shape"
   ]
  },
  {
   "cell_type": "code",
   "execution_count": null,
   "metadata": {
    "colab": {
     "base_uri": "https://localhost:8080/",
     "height": 34
    },
    "colab_type": "code",
    "id": "cvIYcbrHB7Ky",
    "outputId": "ec8758e7-3969-4050-e61a-cb61db69cb49"
   },
   "outputs": [
    {
     "data": {
      "text/plain": [
       "255"
      ]
     },
     "execution_count": 24,
     "metadata": {
      "tags": []
     },
     "output_type": "execute_result"
    }
   ],
   "source": [
    "np.max(X_train) # Checking Max value"
   ]
  },
  {
   "cell_type": "code",
   "execution_count": null,
   "metadata": {
    "colab": {},
    "colab_type": "code",
    "id": "lE6M1OPuB7Hr"
   },
   "outputs": [],
   "source": [
    "class_names = ['top', 'trouser', 'pullover', 'dress', 'coat', 'sandal', 'shirt', 'sneaker', 'bag', 'ankle boot']"
   ]
  },
  {
   "cell_type": "code",
   "execution_count": null,
   "metadata": {
    "colab": {
     "base_uri": "https://localhost:8080/",
     "height": 282
    },
    "colab_type": "code",
    "id": "H5lVh8mdB7Fx",
    "outputId": "7334a9e8-f9a9-4a1d-99be-e93591b16bd2"
   },
   "outputs": [
    {
     "data": {
      "text/plain": [
       "<matplotlib.colorbar.Colorbar at 0x7fb5d7d6d780>"
      ]
     },
     "execution_count": 26,
     "metadata": {
      "tags": []
     },
     "output_type": "execute_result"
    },
    {
     "data": {
      "image/png": "[encoded data removed]",
      "text/plain": [
       "<Figure size 432x288 with 2 Axes>"
      ]
     },
     "metadata": {
      "needs_background": "light",
      "tags": []
     },
     "output_type": "display_data"
    }
   ],
   "source": [
    "plt.figure()\n",
    "plt.imshow(X_train[1])\n",
    "plt.colorbar()"
   ]
  },
  {
   "cell_type": "code",
   "execution_count": null,
   "metadata": {
    "colab": {},
    "colab_type": "code",
    "id": "tbwwH2QLB7CT"
   },
   "outputs": [],
   "source": [
    "X_train = X_train/255.0\n",
    "X_test = X_test/255.0"
   ]
  },
  {
   "cell_type": "code",
   "execution_count": null,
   "metadata": {
    "colab": {
     "base_uri": "https://localhost:8080/",
     "height": 286
    },
    "colab_type": "code",
    "id": "o-WbofszB6_R",
    "outputId": "8e001943-2f84-4f8b-a2e6-2e4ce9752cc8"
   },
   "outputs": [
    {
     "data": {
      "text/plain": [
       "<matplotlib.colorbar.Colorbar at 0x7fb5d785b8d0>"
      ]
     },
     "execution_count": 28,
     "metadata": {
      "tags": []
     },
     "output_type": "execute_result"
    },
    {
     "data": {
      "image/png": "[encoded data removed]",
      "text/plain": [
       "<Figure size 432x288 with 2 Axes>"
      ]
     },
     "metadata": {
      "needs_background": "light",
      "tags": []
     },
     "output_type": "display_data"
    }
   ],
   "source": [
    "plt.figure()\n",
    "plt.imshow(X_train[1])\n",
    "plt.colorbar()"
   ]
  },
  {
   "cell_type": "markdown",
   "metadata": {
    "colab_type": "text",
    "id": "oMF8HaJUM2On"
   },
   "source": [
    "#### ___Building a Neural Network___"
   ]
  },
  {
   "cell_type": "code",
   "execution_count": null,
   "metadata": {
    "colab": {
     "base_uri": "https://localhost:8080/",
     "height": 390
    },
    "colab_type": "code",
    "id": "tN0qzYgSB68D",
    "outputId": "c62a28b9-7c67-499b-899b-1668692b62fa"
   },
   "outputs": [
    {
     "name": "stdout",
     "output_type": "stream",
     "text": [
      "Epoch 1/10\n",
      "1875/1875 [==============================] - 3s 2ms/step - loss: 0.4928 - accuracy: 0.8263\n",
      "Epoch 2/10\n",
      "1875/1875 [==============================] - 3s 2ms/step - loss: 0.3744 - accuracy: 0.8645\n",
      "Epoch 3/10\n",
      "1875/1875 [==============================] - 3s 2ms/step - loss: 0.3367 - accuracy: 0.8770\n",
      "Epoch 4/10\n",
      "1875/1875 [==============================] - 3s 2ms/step - loss: 0.3145 - accuracy: 0.8845\n",
      "Epoch 5/10\n",
      "1875/1875 [==============================] - 3s 2ms/step - loss: 0.2959 - accuracy: 0.8899\n",
      "Epoch 6/10\n",
      "1875/1875 [==============================] - 3s 2ms/step - loss: 0.2818 - accuracy: 0.8954\n",
      "Epoch 7/10\n",
      "1875/1875 [==============================] - 3s 2ms/step - loss: 0.2699 - accuracy: 0.8988\n",
      "Epoch 8/10\n",
      "1875/1875 [==============================] - 3s 2ms/step - loss: 0.2570 - accuracy: 0.9050\n",
      "Epoch 9/10\n",
      "1875/1875 [==============================] - 3s 2ms/step - loss: 0.2477 - accuracy: 0.9077\n",
      "Epoch 10/10\n",
      "1875/1875 [==============================] - 3s 2ms/step - loss: 0.2392 - accuracy: 0.9108\n"
     ]
    },
    {
     "data": {
      "text/plain": [
       "<tensorflow.python.keras.callbacks.History at 0x7fb5d7850f28>"
      ]
     },
     "execution_count": 29,
     "metadata": {
      "tags": []
     },
     "output_type": "execute_result"
    }
   ],
   "source": [
    "from keras.layers import Flatten, Activation\n",
    "\n",
    "# Creating Neural Networks\n",
    "\n",
    "model = Sequential()\n",
    "\n",
    "model.add(Flatten(input_shape = (28, 28)))\n",
    "model.add(Dense(128, activation = 'relu'))\n",
    "model.add(Dense(10, activation = 'softmax'))\n",
    "\n",
    "model.compile(optimizer='adam', loss = 'sparse_categorical_crossentropy', metrics = ['accuracy'])\n",
    "\n",
    "model.fit(X_train, y_train, epochs = 10)"
   ]
  },
  {
   "cell_type": "code",
   "execution_count": null,
   "metadata": {
    "colab": {
     "base_uri": "https://localhost:8080/",
     "height": 265
    },
    "colab_type": "code",
    "id": "ARgcbRtADBqZ",
    "outputId": "6becbed5-1ee7-4696-ceb8-e9cf0544e3a6"
   },
   "outputs": [
    {
     "name": "stdout",
     "output_type": "stream",
     "text": [
      "Model: \"sequential_1\"\n",
      "_________________________________________________________________\n",
      "Layer (type)                 Output Shape              Param #   \n",
      "=================================================================\n",
      "flatten (Flatten)            (None, 784)               0         \n",
      "_________________________________________________________________\n",
      "dense_3 (Dense)              (None, 128)               100480    \n",
      "_________________________________________________________________\n",
      "dense_4 (Dense)              (None, 10)                1290      \n",
      "=================================================================\n",
      "Total params: 101,770\n",
      "Trainable params: 101,770\n",
      "Non-trainable params: 0\n",
      "_________________________________________________________________\n"
     ]
    }
   ],
   "source": [
    "model.summary()"
   ]
  },
  {
   "cell_type": "code",
   "execution_count": null,
   "metadata": {
    "colab": {
     "base_uri": "https://localhost:8080/",
     "height": 52
    },
    "colab_type": "code",
    "id": "cNYDPklHDN8V",
    "outputId": "438b91ed-0bbc-463a-c354-fbba2cc2b86b"
   },
   "outputs": [
    {
     "name": "stdout",
     "output_type": "stream",
     "text": [
      "313/313 [==============================] - 0s 2ms/step - loss: 0.3295 - accuracy: 0.8820\n",
      "0.8820000290870667\n"
     ]
    }
   ],
   "source": [
    "# Test Accuracy\n",
    "\n",
    "test_loss, test_acc = model.evaluate(X_test, y_test)\n",
    "print(test_acc)"
   ]
  },
  {
   "cell_type": "markdown",
   "metadata": {
    "colab_type": "text",
    "id": "MXy1mfpMM7Y9"
   },
   "source": [
    "#### ___Multiclass Model Predictions___"
   ]
  },
  {
   "cell_type": "code",
   "execution_count": null,
   "metadata": {
    "colab": {
     "base_uri": "https://localhost:8080/",
     "height": 107
    },
    "colab_type": "code",
    "id": "dcyn08xkDRiw",
    "outputId": "2d463fae-371a-420d-a2ff-81fdfe172b67"
   },
   "outputs": [
    {
     "name": "stdout",
     "output_type": "stream",
     "text": [
      "WARNING:tensorflow:From <ipython-input-32-618bf1a94a63>:1: Sequential.predict_classes (from tensorflow.python.keras.engine.sequential) is deprecated and will be removed after 2021-01-01.\n",
      "Instructions for updating:\n",
      "Please use instead:* `np.argmax(model.predict(x), axis=-1)`,   if your model does multi-class classification   (e.g. if it uses a `softmax` last-layer activation).* `(model.predict(x) > 0.5).astype(\"int32\")`,   if your model does binary classification   (e.g. if it uses a `sigmoid` last-layer activation).\n"
     ]
    },
    {
     "data": {
      "text/plain": [
       "0.882"
      ]
     },
     "execution_count": 32,
     "metadata": {
      "tags": []
     },
     "output_type": "execute_result"
    }
   ],
   "source": [
    "y_pred = model.predict_classes(X_test)\n",
    "accuracy_score(y_test, y_pred)"
   ]
  },
  {
   "cell_type": "code",
   "execution_count": null,
   "metadata": {
    "colab": {
     "base_uri": "https://localhost:8080/",
     "height": 34
    },
    "colab_type": "code",
    "id": "2TWL9WKgDUTM",
    "outputId": "2b2364d4-2147-4b4c-c8b9-0d53d9c37900"
   },
   "outputs": [
    {
     "data": {
      "text/plain": [
       "array([9, 2, 1, ..., 8, 1, 5])"
      ]
     },
     "execution_count": 33,
     "metadata": {
      "tags": []
     },
     "output_type": "execute_result"
    }
   ],
   "source": [
    "y_pred"
   ]
  },
  {
   "cell_type": "code",
   "execution_count": null,
   "metadata": {
    "colab": {
     "base_uri": "https://localhost:8080/",
     "height": 70
    },
    "colab_type": "code",
    "id": "t8Vva0C0L7_u",
    "outputId": "e4a826f9-7ff9-4880-a95c-b478e9a2bd6c"
   },
   "outputs": [
    {
     "data": {
      "text/plain": [
       "array([7.6248219e-10, 4.5455961e-10, 3.2949565e-10, 1.3376920e-10,\n",
       "       1.1433449e-09, 5.3243042e-04, 3.9494878e-09, 2.3643386e-03,\n",
       "       7.1302422e-09, 9.9710315e-01], dtype=float32)"
      ]
     },
     "execution_count": 34,
     "metadata": {
      "tags": []
     },
     "output_type": "execute_result"
    }
   ],
   "source": [
    "model.predict(X_test)[0]"
   ]
  },
  {
   "cell_type": "code",
   "execution_count": null,
   "metadata": {
    "colab": {
     "base_uri": "https://localhost:8080/",
     "height": 247
    },
    "colab_type": "code",
    "id": "lDY4nLGIDnKl",
    "outputId": "7d903540-45e7-499e-ebdb-2dae1f17ebd9"
   },
   "outputs": [
    {
     "data": {
      "text/plain": [
       "array([[7.6248219e-10, 4.5455961e-10, 3.2949565e-10, ..., 2.3643386e-03,\n",
       "        7.1302422e-09, 9.9710315e-01],\n",
       "       [5.7749926e-06, 2.7244340e-14, 9.9931741e-01, ..., 3.7240361e-22,\n",
       "        6.3436194e-09, 4.6079427e-13],\n",
       "       [6.1259717e-09, 1.0000000e+00, 1.0582790e-12, ..., 8.4795113e-31,\n",
       "        6.8041576e-15, 2.1479526e-22],\n",
       "       ...,\n",
       "       [2.7482328e-04, 6.8700661e-12, 2.7827753e-05, ..., 3.6611503e-08,\n",
       "        9.9914443e-01, 4.9135408e-13],\n",
       "       [1.6821981e-07, 9.9998820e-01, 9.5965881e-11, ..., 6.5893969e-18,\n",
       "        2.8428693e-09, 2.4904261e-12],\n",
       "       [1.3132025e-05, 1.4554941e-07, 6.9442249e-05, ..., 5.0701499e-03,\n",
       "        1.7677080e-04, 1.2167361e-05]], dtype=float32)"
      ]
     },
     "execution_count": 35,
     "metadata": {
      "tags": []
     },
     "output_type": "execute_result"
    }
   ],
   "source": [
    "pred = model.predict(X_test)\n",
    "pred"
   ]
  },
  {
   "cell_type": "code",
   "execution_count": null,
   "metadata": {
    "colab": {
     "base_uri": "https://localhost:8080/",
     "height": 34
    },
    "colab_type": "code",
    "id": "7wGRHGDxDo5j",
    "outputId": "db41c39a-79dc-4028-d9b1-3d6536e64125"
   },
   "outputs": [
    {
     "data": {
      "text/plain": [
       "9"
      ]
     },
     "execution_count": 36,
     "metadata": {
      "tags": []
     },
     "output_type": "execute_result"
    }
   ],
   "source": [
    "np.argmax(pred[0])"
   ]
  },
  {
   "cell_type": "markdown",
   "metadata": {
    "colab_type": "text",
    "id": "gqM4Jwq_D6-u"
   },
   "source": [
    "## ___Model 3 - Breast Cancer Model___"
   ]
  },
  {
   "cell_type": "code",
   "execution_count": null,
   "metadata": {
    "colab": {
     "base_uri": "https://localhost:8080/",
     "height": 234
    },
    "colab_type": "code",
    "id": "igHvaDcDEfPd",
    "outputId": "5d50ef2f-e5e5-45a1-95d2-ad6809dbc453"
   },
   "outputs": [
    {
     "data": {
      "text/html": [
       "<div>\n",
       "<style scoped>\n",
       "    .dataframe tbody tr th:only-of-type {\n",
       "        vertical-align: middle;\n",
       "    }\n",
       "\n",
       "    .dataframe tbody tr th {\n",
       "        vertical-align: top;\n",
       "    }\n",
       "\n",
       "    .dataframe thead th {\n",
       "        text-align: right;\n",
       "    }\n",
       "</style>\n",
       "<table border=\"1\" class=\"dataframe\">\n",
       "  <thead>\n",
       "    <tr style=\"text-align: right;\">\n",
       "      <th></th>\n",
       "      <th>id</th>\n",
       "      <th>diagnosis</th>\n",
       "      <th>radius_mean</th>\n",
       "      <th>texture_mean</th>\n",
       "      <th>perimeter_mean</th>\n",
       "      <th>area_mean</th>\n",
       "      <th>smoothness_mean</th>\n",
       "      <th>compactness_mean</th>\n",
       "      <th>concavity_mean</th>\n",
       "      <th>concave points_mean</th>\n",
       "      <th>symmetry_mean</th>\n",
       "      <th>fractal_dimension_mean</th>\n",
       "      <th>radius_se</th>\n",
       "      <th>texture_se</th>\n",
       "      <th>perimeter_se</th>\n",
       "      <th>area_se</th>\n",
       "      <th>smoothness_se</th>\n",
       "      <th>compactness_se</th>\n",
       "      <th>concavity_se</th>\n",
       "      <th>concave points_se</th>\n",
       "      <th>symmetry_se</th>\n",
       "      <th>fractal_dimension_se</th>\n",
       "      <th>radius_worst</th>\n",
       "      <th>texture_worst</th>\n",
       "      <th>perimeter_worst</th>\n",
       "      <th>area_worst</th>\n",
       "      <th>smoothness_worst</th>\n",
       "      <th>compactness_worst</th>\n",
       "      <th>concavity_worst</th>\n",
       "      <th>concave points_worst</th>\n",
       "      <th>symmetry_worst</th>\n",
       "      <th>fractal_dimension_worst</th>\n",
       "      <th>Unnamed: 32</th>\n",
       "    </tr>\n",
       "  </thead>\n",
       "  <tbody>\n",
       "    <tr>\n",
       "      <th>0</th>\n",
       "      <td>842302</td>\n",
       "      <td>M</td>\n",
       "      <td>17.99</td>\n",
       "      <td>10.38</td>\n",
       "      <td>122.80</td>\n",
       "      <td>1001.0</td>\n",
       "      <td>0.11840</td>\n",
       "      <td>0.27760</td>\n",
       "      <td>0.3001</td>\n",
       "      <td>0.14710</td>\n",
       "      <td>0.2419</td>\n",
       "      <td>0.07871</td>\n",
       "      <td>1.0950</td>\n",
       "      <td>0.9053</td>\n",
       "      <td>8.589</td>\n",
       "      <td>153.40</td>\n",
       "      <td>0.006399</td>\n",
       "      <td>0.04904</td>\n",
       "      <td>0.05373</td>\n",
       "      <td>0.01587</td>\n",
       "      <td>0.03003</td>\n",
       "      <td>0.006193</td>\n",
       "      <td>25.38</td>\n",
       "      <td>17.33</td>\n",
       "      <td>184.60</td>\n",
       "      <td>2019.0</td>\n",
       "      <td>0.1622</td>\n",
       "      <td>0.6656</td>\n",
       "      <td>0.7119</td>\n",
       "      <td>0.2654</td>\n",
       "      <td>0.4601</td>\n",
       "      <td>0.11890</td>\n",
       "      <td>NaN</td>\n",
       "    </tr>\n",
       "    <tr>\n",
       "      <th>1</th>\n",
       "      <td>842517</td>\n",
       "      <td>M</td>\n",
       "      <td>20.57</td>\n",
       "      <td>17.77</td>\n",
       "      <td>132.90</td>\n",
       "      <td>1326.0</td>\n",
       "      <td>0.08474</td>\n",
       "      <td>0.07864</td>\n",
       "      <td>0.0869</td>\n",
       "      <td>0.07017</td>\n",
       "      <td>0.1812</td>\n",
       "      <td>0.05667</td>\n",
       "      <td>0.5435</td>\n",
       "      <td>0.7339</td>\n",
       "      <td>3.398</td>\n",
       "      <td>74.08</td>\n",
       "      <td>0.005225</td>\n",
       "      <td>0.01308</td>\n",
       "      <td>0.01860</td>\n",
       "      <td>0.01340</td>\n",
       "      <td>0.01389</td>\n",
       "      <td>0.003532</td>\n",
       "      <td>24.99</td>\n",
       "      <td>23.41</td>\n",
       "      <td>158.80</td>\n",
       "      <td>1956.0</td>\n",
       "      <td>0.1238</td>\n",
       "      <td>0.1866</td>\n",
       "      <td>0.2416</td>\n",
       "      <td>0.1860</td>\n",
       "      <td>0.2750</td>\n",
       "      <td>0.08902</td>\n",
       "      <td>NaN</td>\n",
       "    </tr>\n",
       "    <tr>\n",
       "      <th>2</th>\n",
       "      <td>84300903</td>\n",
       "      <td>M</td>\n",
       "      <td>19.69</td>\n",
       "      <td>21.25</td>\n",
       "      <td>130.00</td>\n",
       "      <td>1203.0</td>\n",
       "      <td>0.10960</td>\n",
       "      <td>0.15990</td>\n",
       "      <td>0.1974</td>\n",
       "      <td>0.12790</td>\n",
       "      <td>0.2069</td>\n",
       "      <td>0.05999</td>\n",
       "      <td>0.7456</td>\n",
       "      <td>0.7869</td>\n",
       "      <td>4.585</td>\n",
       "      <td>94.03</td>\n",
       "      <td>0.006150</td>\n",
       "      <td>0.04006</td>\n",
       "      <td>0.03832</td>\n",
       "      <td>0.02058</td>\n",
       "      <td>0.02250</td>\n",
       "      <td>0.004571</td>\n",
       "      <td>23.57</td>\n",
       "      <td>25.53</td>\n",
       "      <td>152.50</td>\n",
       "      <td>1709.0</td>\n",
       "      <td>0.1444</td>\n",
       "      <td>0.4245</td>\n",
       "      <td>0.4504</td>\n",
       "      <td>0.2430</td>\n",
       "      <td>0.3613</td>\n",
       "      <td>0.08758</td>\n",
       "      <td>NaN</td>\n",
       "    </tr>\n",
       "    <tr>\n",
       "      <th>3</th>\n",
       "      <td>84348301</td>\n",
       "      <td>M</td>\n",
       "      <td>11.42</td>\n",
       "      <td>20.38</td>\n",
       "      <td>77.58</td>\n",
       "      <td>386.1</td>\n",
       "      <td>0.14250</td>\n",
       "      <td>0.28390</td>\n",
       "      <td>0.2414</td>\n",
       "      <td>0.10520</td>\n",
       "      <td>0.2597</td>\n",
       "      <td>0.09744</td>\n",
       "      <td>0.4956</td>\n",
       "      <td>1.1560</td>\n",
       "      <td>3.445</td>\n",
       "      <td>27.23</td>\n",
       "      <td>0.009110</td>\n",
       "      <td>0.07458</td>\n",
       "      <td>0.05661</td>\n",
       "      <td>0.01867</td>\n",
       "      <td>0.05963</td>\n",
       "      <td>0.009208</td>\n",
       "      <td>14.91</td>\n",
       "      <td>26.50</td>\n",
       "      <td>98.87</td>\n",
       "      <td>567.7</td>\n",
       "      <td>0.2098</td>\n",
       "      <td>0.8663</td>\n",
       "      <td>0.6869</td>\n",
       "      <td>0.2575</td>\n",
       "      <td>0.6638</td>\n",
       "      <td>0.17300</td>\n",
       "      <td>NaN</td>\n",
       "    </tr>\n",
       "    <tr>\n",
       "      <th>4</th>\n",
       "      <td>84358402</td>\n",
       "      <td>M</td>\n",
       "      <td>20.29</td>\n",
       "      <td>14.34</td>\n",
       "      <td>135.10</td>\n",
       "      <td>1297.0</td>\n",
       "      <td>0.10030</td>\n",
       "      <td>0.13280</td>\n",
       "      <td>0.1980</td>\n",
       "      <td>0.10430</td>\n",
       "      <td>0.1809</td>\n",
       "      <td>0.05883</td>\n",
       "      <td>0.7572</td>\n",
       "      <td>0.7813</td>\n",
       "      <td>5.438</td>\n",
       "      <td>94.44</td>\n",
       "      <td>0.011490</td>\n",
       "      <td>0.02461</td>\n",
       "      <td>0.05688</td>\n",
       "      <td>0.01885</td>\n",
       "      <td>0.01756</td>\n",
       "      <td>0.005115</td>\n",
       "      <td>22.54</td>\n",
       "      <td>16.67</td>\n",
       "      <td>152.20</td>\n",
       "      <td>1575.0</td>\n",
       "      <td>0.1374</td>\n",
       "      <td>0.2050</td>\n",
       "      <td>0.4000</td>\n",
       "      <td>0.1625</td>\n",
       "      <td>0.2364</td>\n",
       "      <td>0.07678</td>\n",
       "      <td>NaN</td>\n",
       "    </tr>\n",
       "  </tbody>\n",
       "</table>\n",
       "</div>"
      ],
      "text/plain": [
       "         id diagnosis  ...  fractal_dimension_worst  Unnamed: 32\n",
       "0    842302         M  ...                  0.11890          NaN\n",
       "1    842517         M  ...                  0.08902          NaN\n",
       "2  84300903         M  ...                  0.08758          NaN\n",
       "3  84348301         M  ...                  0.17300          NaN\n",
       "4  84358402         M  ...                  0.07678          NaN\n",
       "\n",
       "[5 rows x 33 columns]"
      ]
     },
     "execution_count": 37,
     "metadata": {
      "tags": []
     },
     "output_type": "execute_result"
    }
   ],
   "source": [
    "# Read data\n",
    "data = pd.read_csv('/content/breast_cancer.csv')\n",
    "data.head()"
   ]
  },
  {
   "cell_type": "code",
   "execution_count": null,
   "metadata": {
    "colab": {
     "base_uri": "https://localhost:8080/",
     "height": 314
    },
    "colab_type": "code",
    "id": "Q44HDuC0EWel",
    "outputId": "f6921d08-6202-4583-a313-f98d5275ee9e"
   },
   "outputs": [
    {
     "name": "stdout",
     "output_type": "stream",
     "text": [
      "Benign 357\n",
      "Malignanat 212\n"
     ]
    },
    {
     "data": {
      "image/png": "[encoded data removed]",
      "text/plain": [
       "<Figure size 432x288 with 1 Axes>"
      ]
     },
     "metadata": {
      "needs_background": "light",
      "tags": []
     },
     "output_type": "display_data"
    }
   ],
   "source": [
    "ax = sns.countplot(data['diagnosis'], label= 'Count')\n",
    "B,M = data['diagnosis'].value_counts()\n",
    "print('Benign', B)\n",
    "print('Malignanat', M)"
   ]
  },
  {
   "cell_type": "code",
   "execution_count": null,
   "metadata": {
    "colab": {},
    "colab_type": "code",
    "id": "hnpBUhXdEVQd"
   },
   "outputs": [],
   "source": [
    "# Importing data\n",
    "del data['Unnamed: 32']\n",
    "\n",
    "X = data.iloc[:, 2:].values\n",
    "y = data.iloc[:, 1].values\n",
    "\n",
    "# Encoding categorical data\n",
    "from sklearn.preprocessing import LabelEncoder\n",
    "labelencoder_X_1 = LabelEncoder()\n",
    "y = labelencoder_X_1.fit_transform(y)\n",
    "\n",
    "# Splitting the dataset into the Training set and Test set\n",
    "from sklearn.model_selection import train_test_split\n",
    "X_train, X_test, y_train, y_test = train_test_split(X, y, test_size = 0.2, random_state = 0)\n",
    "\n",
    "#Feature Scaling\n",
    "from sklearn.preprocessing import StandardScaler\n",
    "sc = StandardScaler()\n",
    "X_train = sc.fit_transform(X_train)\n",
    "X_test = sc.transform(X_test)"
   ]
  },
  {
   "cell_type": "markdown",
   "metadata": {
    "colab_type": "text",
    "id": "7KrEl_sZNCYi"
   },
   "source": [
    "#### ___Building a Neural Network___"
   ]
  },
  {
   "cell_type": "code",
   "execution_count": null,
   "metadata": {
    "colab": {
     "base_uri": "https://localhost:8080/",
     "height": 1000
    },
    "colab_type": "code",
    "id": "HlYmdmV1D6Vn",
    "outputId": "b227d161-6e02-4f77-a818-3c7f8151a244"
   },
   "outputs": [
    {
     "name": "stdout",
     "output_type": "stream",
     "text": [
      "Epoch 1/150\n",
      "5/5 [==============================] - 0s 3ms/step - loss: 0.6927 - accuracy: 0.6374\n",
      "Epoch 2/150\n",
      "5/5 [==============================] - 0s 2ms/step - loss: 0.6912 - accuracy: 0.6681\n",
      "Epoch 3/150\n",
      "5/5 [==============================] - 0s 2ms/step - loss: 0.6891 - accuracy: 0.7165\n",
      "Epoch 4/150\n",
      "5/5 [==============================] - 0s 2ms/step - loss: 0.6861 - accuracy: 0.7648\n",
      "Epoch 5/150\n",
      "5/5 [==============================] - 0s 2ms/step - loss: 0.6815 - accuracy: 0.8440\n",
      "Epoch 6/150\n",
      "5/5 [==============================] - 0s 2ms/step - loss: 0.6748 - accuracy: 0.8791\n",
      "Epoch 7/150\n",
      "5/5 [==============================] - 0s 3ms/step - loss: 0.6664 - accuracy: 0.9055\n",
      "Epoch 8/150\n",
      "5/5 [==============================] - 0s 2ms/step - loss: 0.6531 - accuracy: 0.9253\n",
      "Epoch 9/150\n",
      "5/5 [==============================] - 0s 2ms/step - loss: 0.6343 - accuracy: 0.9253\n",
      "Epoch 10/150\n",
      "5/5 [==============================] - 0s 2ms/step - loss: 0.6117 - accuracy: 0.9407\n",
      "Epoch 11/150\n",
      "5/5 [==============================] - 0s 2ms/step - loss: 0.5844 - accuracy: 0.9473\n",
      "Epoch 12/150\n",
      "5/5 [==============================] - 0s 2ms/step - loss: 0.5459 - accuracy: 0.9473\n",
      "Epoch 13/150\n",
      "5/5 [==============================] - 0s 3ms/step - loss: 0.5096 - accuracy: 0.9473\n",
      "Epoch 14/150\n",
      "5/5 [==============================] - 0s 3ms/step - loss: 0.4649 - accuracy: 0.9495\n",
      "Epoch 15/150\n",
      "5/5 [==============================] - 0s 2ms/step - loss: 0.4202 - accuracy: 0.9451\n",
      "Epoch 16/150\n",
      "5/5 [==============================] - 0s 2ms/step - loss: 0.3751 - accuracy: 0.9538\n",
      "Epoch 17/150\n",
      "5/5 [==============================] - 0s 2ms/step - loss: 0.3342 - accuracy: 0.9538\n",
      "Epoch 18/150\n",
      "5/5 [==============================] - 0s 2ms/step - loss: 0.2973 - accuracy: 0.9516\n",
      "Epoch 19/150\n",
      "5/5 [==============================] - 0s 2ms/step - loss: 0.2603 - accuracy: 0.9582\n",
      "Epoch 20/150\n",
      "5/5 [==============================] - 0s 2ms/step - loss: 0.2386 - accuracy: 0.9626\n",
      "Epoch 21/150\n",
      "5/5 [==============================] - 0s 2ms/step - loss: 0.2111 - accuracy: 0.9626\n",
      "Epoch 22/150\n",
      "5/5 [==============================] - 0s 2ms/step - loss: 0.1987 - accuracy: 0.9648\n",
      "Epoch 23/150\n",
      "5/5 [==============================] - 0s 3ms/step - loss: 0.1758 - accuracy: 0.9648\n",
      "Epoch 24/150\n",
      "5/5 [==============================] - 0s 4ms/step - loss: 0.1622 - accuracy: 0.9692\n",
      "Epoch 25/150\n",
      "5/5 [==============================] - 0s 2ms/step - loss: 0.1539 - accuracy: 0.9736\n",
      "Epoch 26/150\n",
      "5/5 [==============================] - 0s 2ms/step - loss: 0.1396 - accuracy: 0.9714\n",
      "Epoch 27/150\n",
      "5/5 [==============================] - 0s 2ms/step - loss: 0.1308 - accuracy: 0.9714\n",
      "Epoch 28/150\n",
      "5/5 [==============================] - 0s 2ms/step - loss: 0.1263 - accuracy: 0.9780\n",
      "Epoch 29/150\n",
      "5/5 [==============================] - 0s 2ms/step - loss: 0.1248 - accuracy: 0.9736\n",
      "Epoch 30/150\n",
      "5/5 [==============================] - 0s 2ms/step - loss: 0.1178 - accuracy: 0.9736\n",
      "Epoch 31/150\n",
      "5/5 [==============================] - 0s 2ms/step - loss: 0.1161 - accuracy: 0.9758\n",
      "Epoch 32/150\n",
      "5/5 [==============================] - 0s 2ms/step - loss: 0.1056 - accuracy: 0.9802\n",
      "Epoch 33/150\n",
      "5/5 [==============================] - 0s 2ms/step - loss: 0.1015 - accuracy: 0.9780\n",
      "Epoch 34/150\n",
      "5/5 [==============================] - 0s 2ms/step - loss: 0.1071 - accuracy: 0.9758\n",
      "Epoch 35/150\n",
      "5/5 [==============================] - 0s 3ms/step - loss: 0.0953 - accuracy: 0.9780\n",
      "Epoch 36/150\n",
      "5/5 [==============================] - 0s 2ms/step - loss: 0.1003 - accuracy: 0.9802\n",
      "Epoch 37/150\n",
      "5/5 [==============================] - 0s 3ms/step - loss: 0.0927 - accuracy: 0.9802\n",
      "Epoch 38/150\n",
      "5/5 [==============================] - 0s 3ms/step - loss: 0.0896 - accuracy: 0.9802\n",
      "Epoch 39/150\n",
      "5/5 [==============================] - 0s 3ms/step - loss: 0.0884 - accuracy: 0.9802\n",
      "Epoch 40/150\n",
      "5/5 [==============================] - 0s 3ms/step - loss: 0.0899 - accuracy: 0.9824\n",
      "Epoch 41/150\n",
      "5/5 [==============================] - 0s 5ms/step - loss: 0.0793 - accuracy: 0.9846\n",
      "Epoch 42/150\n",
      "5/5 [==============================] - 0s 4ms/step - loss: 0.0843 - accuracy: 0.9802\n",
      "Epoch 43/150\n",
      "5/5 [==============================] - 0s 3ms/step - loss: 0.0832 - accuracy: 0.9802\n",
      "Epoch 44/150\n",
      "5/5 [==============================] - 0s 3ms/step - loss: 0.0782 - accuracy: 0.9824\n",
      "Epoch 45/150\n",
      "5/5 [==============================] - 0s 3ms/step - loss: 0.0800 - accuracy: 0.9824\n",
      "Epoch 46/150\n",
      "5/5 [==============================] - 0s 2ms/step - loss: 0.0748 - accuracy: 0.9802\n",
      "Epoch 47/150\n",
      "5/5 [==============================] - 0s 3ms/step - loss: 0.0723 - accuracy: 0.9824\n",
      "Epoch 48/150\n",
      "5/5 [==============================] - 0s 3ms/step - loss: 0.0724 - accuracy: 0.9868\n",
      "Epoch 49/150\n",
      "5/5 [==============================] - 0s 3ms/step - loss: 0.0734 - accuracy: 0.9868\n",
      "Epoch 50/150\n",
      "5/5 [==============================] - 0s 3ms/step - loss: 0.0784 - accuracy: 0.9846\n",
      "Epoch 51/150\n",
      "5/5 [==============================] - 0s 3ms/step - loss: 0.0691 - accuracy: 0.9890\n",
      "Epoch 52/150\n",
      "5/5 [==============================] - 0s 3ms/step - loss: 0.0738 - accuracy: 0.9868\n",
      "Epoch 53/150\n",
      "5/5 [==============================] - 0s 3ms/step - loss: 0.0643 - accuracy: 0.9868\n",
      "Epoch 54/150\n",
      "5/5 [==============================] - 0s 3ms/step - loss: 0.0655 - accuracy: 0.9868\n",
      "Epoch 55/150\n",
      "5/5 [==============================] - 0s 3ms/step - loss: 0.0650 - accuracy: 0.9868\n",
      "Epoch 56/150\n",
      "5/5 [==============================] - 0s 3ms/step - loss: 0.0760 - accuracy: 0.9868\n",
      "Epoch 57/150\n",
      "5/5 [==============================] - 0s 3ms/step - loss: 0.0707 - accuracy: 0.9890\n",
      "Epoch 58/150\n",
      "5/5 [==============================] - 0s 3ms/step - loss: 0.0705 - accuracy: 0.9868\n",
      "Epoch 59/150\n",
      "5/5 [==============================] - 0s 3ms/step - loss: 0.0752 - accuracy: 0.9846\n",
      "Epoch 60/150\n",
      "5/5 [==============================] - 0s 3ms/step - loss: 0.0708 - accuracy: 0.9868\n",
      "Epoch 61/150\n",
      "5/5 [==============================] - 0s 3ms/step - loss: 0.0673 - accuracy: 0.9846\n",
      "Epoch 62/150\n",
      "5/5 [==============================] - 0s 3ms/step - loss: 0.0682 - accuracy: 0.9846\n",
      "Epoch 63/150\n",
      "5/5 [==============================] - 0s 3ms/step - loss: 0.0673 - accuracy: 0.9846\n",
      "Epoch 64/150\n",
      "5/5 [==============================] - 0s 2ms/step - loss: 0.0634 - accuracy: 0.9890\n",
      "Epoch 65/150\n",
      "5/5 [==============================] - 0s 3ms/step - loss: 0.0660 - accuracy: 0.9868\n",
      "Epoch 66/150\n",
      "5/5 [==============================] - 0s 2ms/step - loss: 0.0663 - accuracy: 0.9846\n",
      "Epoch 67/150\n",
      "5/5 [==============================] - 0s 3ms/step - loss: 0.0649 - accuracy: 0.9890\n",
      "Epoch 68/150\n",
      "5/5 [==============================] - 0s 3ms/step - loss: 0.0608 - accuracy: 0.9846\n",
      "Epoch 69/150\n",
      "5/5 [==============================] - 0s 2ms/step - loss: 0.0636 - accuracy: 0.9890\n",
      "Epoch 70/150\n",
      "5/5 [==============================] - 0s 2ms/step - loss: 0.0558 - accuracy: 0.9868\n",
      "Epoch 71/150\n",
      "5/5 [==============================] - 0s 2ms/step - loss: 0.0583 - accuracy: 0.9890\n",
      "Epoch 72/150\n",
      "5/5 [==============================] - 0s 3ms/step - loss: 0.0601 - accuracy: 0.9868\n",
      "Epoch 73/150\n",
      "5/5 [==============================] - 0s 2ms/step - loss: 0.0637 - accuracy: 0.9890\n",
      "Epoch 74/150\n",
      "5/5 [==============================] - 0s 2ms/step - loss: 0.0551 - accuracy: 0.9868\n",
      "Epoch 75/150\n",
      "5/5 [==============================] - 0s 2ms/step - loss: 0.0542 - accuracy: 0.9868\n",
      "Epoch 76/150\n",
      "5/5 [==============================] - 0s 2ms/step - loss: 0.0601 - accuracy: 0.9868\n",
      "Epoch 77/150\n",
      "5/5 [==============================] - 0s 2ms/step - loss: 0.0567 - accuracy: 0.9890\n",
      "Epoch 78/150\n",
      "5/5 [==============================] - 0s 2ms/step - loss: 0.0599 - accuracy: 0.9890\n",
      "Epoch 79/150\n",
      "5/5 [==============================] - 0s 2ms/step - loss: 0.0549 - accuracy: 0.9890\n",
      "Epoch 80/150\n",
      "5/5 [==============================] - 0s 2ms/step - loss: 0.0515 - accuracy: 0.9846\n",
      "Epoch 81/150\n",
      "5/5 [==============================] - 0s 3ms/step - loss: 0.0552 - accuracy: 0.9890\n",
      "Epoch 82/150\n",
      "5/5 [==============================] - 0s 3ms/step - loss: 0.0502 - accuracy: 0.9890\n",
      "Epoch 83/150\n",
      "5/5 [==============================] - 0s 2ms/step - loss: 0.0617 - accuracy: 0.9868\n",
      "Epoch 84/150\n",
      "5/5 [==============================] - 0s 2ms/step - loss: 0.0582 - accuracy: 0.9868\n",
      "Epoch 85/150\n",
      "5/5 [==============================] - 0s 2ms/step - loss: 0.0536 - accuracy: 0.9890\n",
      "Epoch 86/150\n",
      "5/5 [==============================] - 0s 2ms/step - loss: 0.0547 - accuracy: 0.9868\n",
      "Epoch 87/150\n",
      "5/5 [==============================] - 0s 2ms/step - loss: 0.0517 - accuracy: 0.9890\n",
      "Epoch 88/150\n",
      "5/5 [==============================] - 0s 3ms/step - loss: 0.0495 - accuracy: 0.9890\n",
      "Epoch 89/150\n",
      "5/5 [==============================] - 0s 2ms/step - loss: 0.0599 - accuracy: 0.9890\n",
      "Epoch 90/150\n",
      "5/5 [==============================] - 0s 3ms/step - loss: 0.0596 - accuracy: 0.9868\n",
      "Epoch 91/150\n",
      "5/5 [==============================] - 0s 4ms/step - loss: 0.0582 - accuracy: 0.9890\n",
      "Epoch 92/150\n",
      "5/5 [==============================] - 0s 2ms/step - loss: 0.0532 - accuracy: 0.9890\n",
      "Epoch 93/150\n",
      "5/5 [==============================] - 0s 2ms/step - loss: 0.0472 - accuracy: 0.9890\n",
      "Epoch 94/150\n",
      "5/5 [==============================] - 0s 2ms/step - loss: 0.0586 - accuracy: 0.9890\n",
      "Epoch 95/150\n",
      "5/5 [==============================] - 0s 3ms/step - loss: 0.0503 - accuracy: 0.9890\n",
      "Epoch 96/150\n",
      "5/5 [==============================] - 0s 2ms/step - loss: 0.0518 - accuracy: 0.9890\n",
      "Epoch 97/150\n",
      "5/5 [==============================] - 0s 2ms/step - loss: 0.0547 - accuracy: 0.9890\n",
      "Epoch 98/150\n",
      "5/5 [==============================] - 0s 3ms/step - loss: 0.0500 - accuracy: 0.9890\n",
      "Epoch 99/150\n",
      "5/5 [==============================] - 0s 2ms/step - loss: 0.0538 - accuracy: 0.9868\n",
      "Epoch 100/150\n",
      "5/5 [==============================] - 0s 3ms/step - loss: 0.0509 - accuracy: 0.9890\n",
      "Epoch 101/150\n",
      "5/5 [==============================] - 0s 3ms/step - loss: 0.0437 - accuracy: 0.9912\n",
      "Epoch 102/150\n",
      "5/5 [==============================] - 0s 2ms/step - loss: 0.0451 - accuracy: 0.9912\n",
      "Epoch 103/150\n",
      "5/5 [==============================] - 0s 3ms/step - loss: 0.0462 - accuracy: 0.9890\n",
      "Epoch 104/150\n",
      "5/5 [==============================] - 0s 2ms/step - loss: 0.0459 - accuracy: 0.9890\n",
      "Epoch 105/150\n",
      "5/5 [==============================] - 0s 2ms/step - loss: 0.0448 - accuracy: 0.9912\n",
      "Epoch 106/150\n",
      "5/5 [==============================] - 0s 2ms/step - loss: 0.0430 - accuracy: 0.9890\n",
      "Epoch 107/150\n",
      "5/5 [==============================] - 0s 2ms/step - loss: 0.0489 - accuracy: 0.9912\n",
      "Epoch 108/150\n",
      "5/5 [==============================] - 0s 2ms/step - loss: 0.0515 - accuracy: 0.9890\n",
      "Epoch 109/150\n",
      "5/5 [==============================] - 0s 2ms/step - loss: 0.0583 - accuracy: 0.9912\n",
      "Epoch 110/150\n",
      "5/5 [==============================] - 0s 3ms/step - loss: 0.0509 - accuracy: 0.9890\n",
      "Epoch 111/150\n",
      "5/5 [==============================] - 0s 3ms/step - loss: 0.0538 - accuracy: 0.9890\n",
      "Epoch 112/150\n",
      "5/5 [==============================] - 0s 2ms/step - loss: 0.0482 - accuracy: 0.9912\n",
      "Epoch 113/150\n",
      "5/5 [==============================] - 0s 2ms/step - loss: 0.0463 - accuracy: 0.9890\n",
      "Epoch 114/150\n",
      "5/5 [==============================] - 0s 2ms/step - loss: 0.0527 - accuracy: 0.9890\n",
      "Epoch 115/150\n",
      "5/5 [==============================] - 0s 2ms/step - loss: 0.0507 - accuracy: 0.9890\n",
      "Epoch 116/150\n",
      "5/5 [==============================] - 0s 2ms/step - loss: 0.0520 - accuracy: 0.9890\n",
      "Epoch 117/150\n",
      "5/5 [==============================] - 0s 2ms/step - loss: 0.0422 - accuracy: 0.9890\n",
      "Epoch 118/150\n",
      "5/5 [==============================] - 0s 3ms/step - loss: 0.0523 - accuracy: 0.9890\n",
      "Epoch 119/150\n",
      "5/5 [==============================] - 0s 2ms/step - loss: 0.0457 - accuracy: 0.9890\n",
      "Epoch 120/150\n",
      "5/5 [==============================] - 0s 2ms/step - loss: 0.0440 - accuracy: 0.9912\n",
      "Epoch 121/150\n",
      "5/5 [==============================] - 0s 3ms/step - loss: 0.0451 - accuracy: 0.9912\n",
      "Epoch 122/150\n",
      "5/5 [==============================] - 0s 2ms/step - loss: 0.0475 - accuracy: 0.9890\n",
      "Epoch 123/150\n",
      "5/5 [==============================] - 0s 2ms/step - loss: 0.0471 - accuracy: 0.9890\n",
      "Epoch 124/150\n",
      "5/5 [==============================] - 0s 3ms/step - loss: 0.0421 - accuracy: 0.9912\n",
      "Epoch 125/150\n",
      "5/5 [==============================] - 0s 2ms/step - loss: 0.0462 - accuracy: 0.9890\n",
      "Epoch 126/150\n",
      "5/5 [==============================] - 0s 3ms/step - loss: 0.0491 - accuracy: 0.9912\n",
      "Epoch 127/150\n",
      "5/5 [==============================] - 0s 3ms/step - loss: 0.0412 - accuracy: 0.9912\n",
      "Epoch 128/150\n",
      "5/5 [==============================] - 0s 2ms/step - loss: 0.0466 - accuracy: 0.9912\n",
      "Epoch 129/150\n",
      "5/5 [==============================] - 0s 2ms/step - loss: 0.0481 - accuracy: 0.9912\n",
      "Epoch 130/150\n",
      "5/5 [==============================] - 0s 2ms/step - loss: 0.0465 - accuracy: 0.9890\n",
      "Epoch 131/150\n",
      "5/5 [==============================] - 0s 2ms/step - loss: 0.0395 - accuracy: 0.9912\n",
      "Epoch 132/150\n",
      "5/5 [==============================] - 0s 2ms/step - loss: 0.0460 - accuracy: 0.9890\n",
      "Epoch 133/150\n",
      "5/5 [==============================] - 0s 2ms/step - loss: 0.0399 - accuracy: 0.9912\n",
      "Epoch 134/150\n",
      "5/5 [==============================] - 0s 2ms/step - loss: 0.0490 - accuracy: 0.9890\n",
      "Epoch 135/150\n",
      "5/5 [==============================] - 0s 3ms/step - loss: 0.0461 - accuracy: 0.9912\n",
      "Epoch 136/150\n",
      "5/5 [==============================] - 0s 2ms/step - loss: 0.0474 - accuracy: 0.9912\n",
      "Epoch 137/150\n",
      "5/5 [==============================] - 0s 3ms/step - loss: 0.0406 - accuracy: 0.9912\n",
      "Epoch 138/150\n",
      "5/5 [==============================] - 0s 2ms/step - loss: 0.0434 - accuracy: 0.9890\n",
      "Epoch 139/150\n",
      "5/5 [==============================] - 0s 2ms/step - loss: 0.0484 - accuracy: 0.9912\n",
      "Epoch 140/150\n",
      "5/5 [==============================] - 0s 3ms/step - loss: 0.0403 - accuracy: 0.9912\n",
      "Epoch 141/150\n",
      "5/5 [==============================] - 0s 2ms/step - loss: 0.0442 - accuracy: 0.9912\n",
      "Epoch 142/150\n",
      "5/5 [==============================] - 0s 2ms/step - loss: 0.0373 - accuracy: 0.9912\n",
      "Epoch 143/150\n",
      "5/5 [==============================] - 0s 2ms/step - loss: 0.0447 - accuracy: 0.9890\n",
      "Epoch 144/150\n",
      "5/5 [==============================] - 0s 4ms/step - loss: 0.0440 - accuracy: 0.9912\n",
      "Epoch 145/150\n",
      "5/5 [==============================] - 0s 2ms/step - loss: 0.0411 - accuracy: 0.9912\n",
      "Epoch 146/150\n",
      "5/5 [==============================] - 0s 2ms/step - loss: 0.0400 - accuracy: 0.9912\n",
      "Epoch 147/150\n",
      "5/5 [==============================] - 0s 2ms/step - loss: 0.0377 - accuracy: 0.9890\n",
      "Epoch 148/150\n",
      "5/5 [==============================] - 0s 2ms/step - loss: 0.0358 - accuracy: 0.9912\n",
      "Epoch 149/150\n",
      "5/5 [==============================] - 0s 2ms/step - loss: 0.0349 - accuracy: 0.9912\n",
      "Epoch 150/150\n",
      "5/5 [==============================] - 0s 3ms/step - loss: 0.0464 - accuracy: 0.9912\n"
     ]
    },
    {
     "data": {
      "text/plain": [
       "<tensorflow.python.keras.callbacks.History at 0x7fb5e603eac8>"
      ]
     },
     "execution_count": 40,
     "metadata": {
      "tags": []
     },
     "output_type": "execute_result"
    }
   ],
   "source": [
    "#adding the input and first hidden layer\n",
    "classifier = Sequential()\n",
    "classifier.add(Dense(units=16, kernel_initializer='uniform', activation='relu',input_dim=30))\n",
    "classifier.add(Dropout(0.2))\n",
    "\n",
    "#adding the second hidden layer\n",
    "classifier.add(Dense(units=16, kernel_initializer='uniform', activation='relu'))\n",
    "classifier.add(Dropout(0.2))\n",
    "\n",
    "#adding the output layer\n",
    "classifier.add(Dense(units=1, kernel_initializer='uniform', activation='sigmoid'))\n",
    "\n",
    "classifier.compile(optimizer=\"Adam\", loss='binary_crossentropy', metrics=['accuracy'])\n",
    "\n",
    "classifier.fit(X_train, y_train, batch_size=100, epochs=150)"
   ]
  },
  {
   "cell_type": "markdown",
   "metadata": {
    "colab_type": "text",
    "id": "P-zE8iujNHJR"
   },
   "source": [
    "#### ___Performance___"
   ]
  },
  {
   "cell_type": "code",
   "execution_count": null,
   "metadata": {
    "colab": {
     "base_uri": "https://localhost:8080/",
     "height": 52
    },
    "colab_type": "code",
    "id": "_4FAKpOMEct6",
    "outputId": "31f786fd-989c-4bfe-ec01-bc2b74c68fd6"
   },
   "outputs": [
    {
     "data": {
      "text/plain": [
       "array([[65,  2],\n",
       "       [ 3, 44]])"
      ]
     },
     "execution_count": 41,
     "metadata": {
      "tags": []
     },
     "output_type": "execute_result"
    }
   ],
   "source": [
    "# Predicting the Test set results\n",
    "y_pred = classifier.predict(X_test)\n",
    "y_pred = (y_pred > 0.5)\n",
    "\n",
    "# Making the Confusion Matrix\n",
    "from sklearn.metrics import confusion_matrix\n",
    "cm = confusion_matrix(y_test, y_pred)\n",
    "cm"
   ]
  },
  {
   "cell_type": "markdown",
   "metadata": {
    "colab_type": "text",
    "id": "96KczGeLN-Iq"
   },
   "source": [
    "## ___K-Fold Cross Validation___"
   ]
  },
  {
   "cell_type": "code",
   "execution_count": null,
   "metadata": {
    "colab": {},
    "colab_type": "code",
    "id": "bExn0F66NnOY"
   },
   "outputs": [],
   "source": [
    "# Libraries\n",
    "from keras.wrappers.scikit_learn import KerasClassifier\n",
    "from sklearn.model_selection import cross_val_score"
   ]
  },
  {
   "cell_type": "code",
   "execution_count": null,
   "metadata": {
    "colab": {},
    "colab_type": "code",
    "id": "-QHt6mfLSQ7d"
   },
   "outputs": [],
   "source": [
    "def built_classifier(optimizers = 'adam'):\n",
    "  classifier = Sequential()\n",
    "  classifier.add(Dense(units=16, kernel_initializer='uniform', activation='relu',input_dim=30))\n",
    "  classifier.add(Dropout(0.2))\n",
    "\n",
    "  #adding the second hidden layer\n",
    "  classifier.add(Dense(units=16, kernel_initializer='uniform', activation='relu'))\n",
    "  classifier.add(Dropout(0.2))\n",
    "\n",
    "  #adding the output layer\n",
    "  classifier.add(Dense(units=1, kernel_initializer='uniform', activation='sigmoid'))\n",
    "\n",
    "  classifier.compile(optimizer= optimizers, loss='binary_crossentropy', metrics=['accuracy'])\n",
    "  return classifier"
   ]
  },
  {
   "cell_type": "code",
   "execution_count": null,
   "metadata": {
    "colab": {},
    "colab_type": "code",
    "id": "XJDiFhs3SQ-h"
   },
   "outputs": [],
   "source": [
    "classifier = KerasClassifier(build_fn = built_classifier, batch_size = 100, epochs=150)\n",
    "\n",
    "accuracies = cross_val_score(estimator = classifier, X = X_train, y=y_train, cv=10, n_jobs =-1)"
   ]
  },
  {
   "cell_type": "code",
   "execution_count": null,
   "metadata": {
    "colab": {
     "base_uri": "https://localhost:8080/",
     "height": 52
    },
    "colab_type": "code",
    "id": "UYoQ-SRESRCc",
    "outputId": "cb2af956-10d2-47c0-d6e9-9b6a80fd7c34"
   },
   "outputs": [
    {
     "data": {
      "text/plain": [
       "array([1.        , 1.        , 1.        , 0.97826087, 0.95652175,\n",
       "       0.95555556, 0.97777778, 1.        , 0.97777778, 0.97777778])"
      ]
     },
     "execution_count": 45,
     "metadata": {
      "tags": []
     },
     "output_type": "execute_result"
    }
   ],
   "source": [
    "accuracies"
   ]
  },
  {
   "cell_type": "code",
   "execution_count": null,
   "metadata": {
    "colab": {
     "base_uri": "https://localhost:8080/",
     "height": 34
    },
    "colab_type": "code",
    "id": "_DnNidOqSQxi",
    "outputId": "59fb420a-bbdc-4d90-fb72-463426ee68cc"
   },
   "outputs": [
    {
     "data": {
      "text/plain": [
       "0.9823671519756317"
      ]
     },
     "execution_count": 46,
     "metadata": {
      "tags": []
     },
     "output_type": "execute_result"
    }
   ],
   "source": [
    "accuracies.mean()"
   ]
  },
  {
   "cell_type": "code",
   "execution_count": null,
   "metadata": {
    "colab": {
     "base_uri": "https://localhost:8080/",
     "height": 34
    },
    "colab_type": "code",
    "id": "Ir_VdwLySyWI",
    "outputId": "81be4498-7cd3-4cdf-803f-7dca24e8b479"
   },
   "outputs": [
    {
     "data": {
      "text/plain": [
       "0.016463791332592098"
      ]
     },
     "execution_count": 47,
     "metadata": {
      "tags": []
     },
     "output_type": "execute_result"
    }
   ],
   "source": [
    "accuracies.std()"
   ]
  },
  {
   "cell_type": "markdown",
   "metadata": {
    "colab_type": "text",
    "id": "VlEgBCIwODct"
   },
   "source": [
    "## ___Parameter Tuning___"
   ]
  },
  {
   "cell_type": "code",
   "execution_count": null,
   "metadata": {
    "colab": {},
    "colab_type": "code",
    "id": "f_nzd9GfOF2s"
   },
   "outputs": [],
   "source": [
    "# Libraries\n",
    "\n",
    "from keras.wrappers.scikit_learn import KerasClassifier\n",
    "from sklearn.model_selection import GridSearchCV"
   ]
  },
  {
   "cell_type": "markdown",
   "metadata": {
    "colab_type": "text",
    "id": "8cTVB9IlTmA1"
   },
   "source": [
    "### ___To find Batch Size, Epochs, Optimizer, No. of Hidden Layers and No. of Units/Neurons___"
   ]
  },
  {
   "cell_type": "code",
   "execution_count": null,
   "metadata": {
    "colab": {},
    "colab_type": "code",
    "id": "nNjOWJAJTYgf"
   },
   "outputs": [],
   "source": [
    "def create_model(layers, activation, optimizers):\n",
    "    model = Sequential()\n",
    "    for i, nodes in enumerate(layers):\n",
    "        if i==0:\n",
    "            model.add(Dense(nodes,input_dim=X_train.shape[1]))\n",
    "            model.add(Activation(activation))\n",
    "            model.add(Dropout(0.3))\n",
    "        else:\n",
    "            model.add(Dense(nodes))\n",
    "            model.add(Activation(activation))\n",
    "            model.add(Dropout(0.3))\n",
    "            \n",
    "    model.add(Dense(units = 1, kernel_initializer= 'glorot_uniform', activation = 'sigmoid')) # Note: no activation beyond this point\n",
    "    \n",
    "    model.compile(optimizer= optimizers, loss='binary_crossentropy',metrics=['accuracy'])\n",
    "    return model"
   ]
  },
  {
   "cell_type": "code",
   "execution_count": null,
   "metadata": {
    "colab": {},
    "colab_type": "code",
    "id": "Ad9-VWoPbLFU"
   },
   "outputs": [],
   "source": [
    "model = KerasClassifier(build_fn=create_model, verbose=0)\n",
    "\n",
    "layers = [[20], [40, 20], [45, 30, 15]]\n",
    "activations = ['sigmoid', 'relu']\n",
    "optimizers = ['adam', 'rmsprop']\n",
    "batch_size = [10, 32]\n",
    "epochs = [100, 500]\n",
    "\n",
    "param_grid = dict(layers = layers, activation = activations, batch_size = batch_size, scoring = 'accuracy', epochs = epochs)\n",
    "\n",
    "grid = GridSearchCV(estimator = model, param_grid = param_grid, cv=2)\n",
    "\n",
    "grid_result = grid.fit(X_train, y_train)"
   ]
  },
  {
   "cell_type": "code",
   "execution_count": null,
   "metadata": {
    "colab": {},
    "colab_type": "code",
    "id": "TqRh-lu-lEha"
   },
   "outputs": [],
   "source": [
    "grid_result.best_score_"
   ]
  },
  {
   "cell_type": "code",
   "execution_count": null,
   "metadata": {
    "colab": {},
    "colab_type": "code",
    "id": "AFsvxNqylGXa"
   },
   "outputs": [],
   "source": [
    "grid_result.best_params_"
   ]
  }
 ],
 "metadata": {
  "accelerator": "GPU",
  "colab": {
   "collapsed_sections": [],
   "name": "9. ANN - Classification.ipynb",
   "provenance": [],
   "toc_visible": true
  },
  "kernelspec": {
   "display_name": "Python 3",
   "language": "python",
   "name": "python3"
  },
  "language_info": {
   "codemirror_mode": {
    "name": "ipython",
    "version": 3
   },
   "file_extension": ".py",
   "mimetype": "text/x-python",
   "name": "python",
   "nbconvert_exporter": "python",
   "pygments_lexer": "ipython3",
   "version": "3.8.3"
  },
  "toc": {
   "base_numbering": 1,
   "nav_menu": {},
   "number_sections": true,
   "sideBar": true,
   "skip_h1_title": false,
   "title_cell": "Table of Contents",
   "title_sidebar": "Contents",
   "toc_cell": false,
   "toc_position": {},
   "toc_section_display": true,
   "toc_window_display": false
  }
 },
 "nbformat": 4,
 "nbformat_minor": 1
}
