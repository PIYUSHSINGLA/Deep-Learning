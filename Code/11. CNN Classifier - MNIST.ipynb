{
 "cells": [
  {
   "cell_type": "markdown",
   "metadata": {
    "id": "eTz7dI3acVYV"
   },
   "source": [
    "# ___Implementation of CNN with Keras using TensorFlow backend___"
   ]
  },
  {
   "cell_type": "markdown",
   "metadata": {
    "id": "jVjFfVxZcVYX"
   },
   "source": [
    "_To work through the core concepts of convolutional neural networks (CNNs), we’ll use a common dataset - the MNIST dataset—and a standard deep learning task-image classification._\n",
    "\n",
    "_The goal here is to walk through an example that will illustrate the processes involved in building a convolutional neural network._"
   ]
  },
  {
   "cell_type": "markdown",
   "metadata": {
    "id": "_7aBn211cVYY"
   },
   "source": [
    "### ___Setup___\n",
    "_In this step, we need to import Keras and other packages that we’re going to use in building our CNN. Import the following packages:_\n",
    "* ___Sequential___ _is used to initialize the neural network._\n",
    "* ___Conv2D___ _is used to make the convolutional network work with images._\n",
    "* ___MaxPooling2D___ _is used to add the pooling layers._\n",
    "* ___Flatten___ _is the function that converts the pooled feature map to a single column, which is then passed to the fully connected layer._\n",
    "* ___Dense___ _adds the fully connected layer to the neural network._\n",
    "* ___Reshape___ _is used to change the shape of the input array_"
   ]
  },
  {
   "cell_type": "code",
   "execution_count": 1,
   "metadata": {
    "id": "1klVnUy0cVYZ"
   },
   "outputs": [],
   "source": [
    "import keras\n",
    "\n",
    "from keras.datasets import mnist\n",
    "from keras.models import Sequential\n",
    "from keras.layers import Conv2D\n",
    "from keras.layers import MaxPooling2D\n",
    "from keras.layers import Flatten\n",
    "from keras.layers import Dense\n",
    "from keras.layers import Reshape"
   ]
  },
  {
   "cell_type": "markdown",
   "metadata": {
    "id": "T6B1TyGpcVYe"
   },
   "source": [
    "### ___Import the Dataset___\n",
    "\n",
    "_Import the mnist dataset from Keras. We load in the training set and the testing set. We have to scale our data so that it will be compatible with our network. In this case, we scale the images by dividing them by 255. This will ensure that the array values are numbers between 0 and 1._"
   ]
  },
  {
   "cell_type": "code",
   "execution_count": 2,
   "metadata": {
    "colab": {
     "base_uri": "https://localhost:8080/",
     "height": 52
    },
    "id": "NVUEJvhScVYf",
    "outputId": "bf86d3cf-88a0-494f-fdc6-dd341a76a061"
   },
   "outputs": [
    {
     "name": "stdout",
     "output_type": "stream",
     "text": [
      "Downloading data from https://storage.googleapis.com/tensorflow/tf-keras-datasets/mnist.npz\n",
      "11493376/11490434 [==============================] - 0s 0us/step\n"
     ]
    }
   ],
   "source": [
    "(x_train, y_train), (x_test, y_test) = mnist.load_data()\n",
    "\n",
    "x_train, x_test = x_train / 255.0, x_test / 255.0\n",
    "\n",
    "validation_data = x_test, y_test"
   ]
  },
  {
   "cell_type": "markdown",
   "metadata": {
    "id": "Xt_hfEdUcVYj"
   },
   "source": [
    "### ___Visualize a digit___\n",
    "_We can visualize a single digit using Matplotlib. This is important so that we can see a sample of what the digits in the dataset look like._"
   ]
  },
  {
   "cell_type": "code",
   "execution_count": 3,
   "metadata": {
    "colab": {
     "base_uri": "https://localhost:8080/",
     "height": 265
    },
    "id": "Ky3d_Am7cVYk",
    "outputId": "e5a678fb-3140-4a65-c86d-6136766b24b3"
   },
   "outputs": [
    {
     "data": {
      "image/png": "[encoded data removed]",
      "text/plain": [
       "<Figure size 432x288 with 1 Axes>"
      ]
     },
     "metadata": {
      "needs_background": "light",
      "tags": []
     },
     "output_type": "display_data"
    }
   ],
   "source": [
    "import matplotlib.pyplot as plt\n",
    "\n",
    "image = x_train[2]\n",
    "fig = plt.figure\n",
    "plt.imshow(image, cmap='gray')\n",
    "plt.show()"
   ]
  },
  {
   "cell_type": "markdown",
   "metadata": {
    "id": "cEffu3j5cVYp"
   },
   "source": [
    "### ___Building the Network___\n",
    "_Before we start building the network, let’s confirm the shape of the training data. This is important because the shape will be needed by the convolution layer. We’ll use this shape later to reshape the size of the input data._"
   ]
  },
  {
   "cell_type": "code",
   "execution_count": 4,
   "metadata": {
    "colab": {
     "base_uri": "https://localhost:8080/",
     "height": 34
    },
    "id": "jfZrjKpHcVYq",
    "outputId": "bcdf1f81-ffc1-4c84-cf5e-f201955abf25"
   },
   "outputs": [
    {
     "data": {
      "text/plain": [
       "(60000, 28, 28)"
      ]
     },
     "execution_count": 4,
     "metadata": {
      "tags": []
     },
     "output_type": "execute_result"
    }
   ],
   "source": [
    "x_train.shape"
   ]
  },
  {
   "cell_type": "markdown",
   "metadata": {
    "id": "UYs6-NU5cVYu"
   },
   "source": [
    "_We kick off by initializing the sequential model. Then we pass in our layers as a list. The first layer is the reshape layer for changing the shape of the input data. We already know that each image has a size of 28 by 28. We also pass 1 to the reshape layer to ensure that the input data has a single color channel._\n",
    "\n",
    "_Next, we create the convolution layer. This layer takes in a couple of parameters:_\n",
    "  * ___filters___: _the number of output filters in the convolution, i.e the number of feature detectors. 32 is a common number of feature detectors used._\n",
    "  * ___kernel_size___: _the dimensions of the feature detector matrix. This is the width and height of the convolution window._\n",
    "  * ___input_shape___: _the shape of the input data. Since we included a reshape layer, we don’t need to pass this._\n",
    "  * ___activation___: _the activation function to be uses. The ReLu activation function is a common choice._\n",
    "\n",
    "_The next item on the list is to add the pooling layer. In this step, the size of the feature map is reduced by taking the maximum value during the pooling process. 2 by 2 is a commonly-used pool size. This will reduce the size of the feature map while maintaining the most important features needed to identify the digits._\n",
    "\n",
    "_After that, we flatten the feature maps. This will convert the feature maps into a single column._\n",
    "\n",
    "_The results obtained above are then passed to the dense layer. The parameters passed to this layer are the number of neurons and the activation function. In this case, those are 128 and ReLu, respectively._\n",
    "\n",
    "_Finally, we created our output layer. 10 is used here, because our dataset has 10 classes. We’ll use the softmax activation function because classes are mutually exclusive-an image can’t be, for example, classified as numbers 0 and 1 at the same time. If the case was otherwise, we’d use the sigmoid activation function._"
   ]
  },
  {
   "cell_type": "code",
   "execution_count": 5,
   "metadata": {
    "id": "wmz8OmN7cVYv"
   },
   "outputs": [],
   "source": [
    "model = Sequential()\n",
    "\n",
    "# Adding Reshape Layer\n",
    "model.add(Reshape((28,28,1)))\n",
    "\n",
    "# Adding Convolutional Layer\n",
    "model.add(Conv2D(filters=64,kernel_size=(3,3),activation='relu'))\n",
    "\n",
    "# Adding Pooling Layer\n",
    "model.add(MaxPooling2D(pool_size=(2,2)))\n",
    "\n",
    "# Adding Flattening Layer\n",
    "model.add(Flatten())\n",
    "\n",
    "# Adding Fully Connected Network\n",
    "model.add(Dense(128, activation='relu'))\n",
    "model.add(Dense(10, activation='softmax'))"
   ]
  },
  {
   "cell_type": "markdown",
   "metadata": {
    "id": "z5jRS4czcVYz"
   },
   "source": [
    "### ___Compiling the Network___\n",
    "\n",
    "_We now need to apply gradient descent to the number. This is done at the compile stage. We pass the following parameters:_\n",
    "\n",
    "* ___optimizer___ : _the type of gradient descent to use; in this case, we’ll use stochastic gradient descent_\n",
    "* ___loss___ : _the cost function to use. We use `sparse_categorical_crossentropy` because the classes are integer-encoded. Had we performed one-hot encoding, we’d have to use the categorical cross-entropy loss function._\n",
    "* ___metrics___ : _the evaluation metrics to monitor; in this case, accuracy_"
   ]
  },
  {
   "cell_type": "code",
   "execution_count": 8,
   "metadata": {
    "id": "lJUO_FkocVY0"
   },
   "outputs": [],
   "source": [
    "model.compile(optimizer='adam', loss='sparse_categorical_crossentropy', metrics=['accuracy'])"
   ]
  },
  {
   "cell_type": "markdown",
   "metadata": {
    "id": "I_ju8o4FcVY4"
   },
   "source": [
    "### ___Fitting the CNN___\n",
    "_Next, we fit the training set to the network. epochs is the number of rounds the data will pass through the network. `validation_data` is the test dataset that will be used to evalutate the performance of the model during training._"
   ]
  },
  {
   "cell_type": "code",
   "execution_count": 9,
   "metadata": {
    "colab": {
     "base_uri": "https://localhost:8080/",
     "height": 190
    },
    "id": "q6CcW6kIcVY6",
    "outputId": "fecea135-19d9-4949-c6bd-de16c1c9524c"
   },
   "outputs": [
    {
     "name": "stdout",
     "output_type": "stream",
     "text": [
      "Epoch 1/5\n",
      "1875/1875 [==============================] - 60s 32ms/step - loss: 0.1237 - accuracy: 0.9622 - val_loss: 0.0540 - val_accuracy: 0.9823\n",
      "Epoch 2/5\n",
      "1875/1875 [==============================] - 59s 32ms/step - loss: 0.0416 - accuracy: 0.9877 - val_loss: 0.0510 - val_accuracy: 0.9830\n",
      "Epoch 3/5\n",
      "1875/1875 [==============================] - 59s 32ms/step - loss: 0.0246 - accuracy: 0.9921 - val_loss: 0.0402 - val_accuracy: 0.9872\n",
      "Epoch 4/5\n",
      "1875/1875 [==============================] - 59s 31ms/step - loss: 0.0164 - accuracy: 0.9947 - val_loss: 0.0467 - val_accuracy: 0.9854\n",
      "Epoch 5/5\n",
      "1875/1875 [==============================] - 59s 31ms/step - loss: 0.0107 - accuracy: 0.9966 - val_loss: 0.0417 - val_accuracy: 0.9881\n"
     ]
    }
   ],
   "source": [
    "model_history = model.fit(x = x_train, y = y_train, epochs=5, validation_data = validation_data)"
   ]
  },
  {
   "cell_type": "code",
   "execution_count": 10,
   "metadata": {
    "colab": {
     "base_uri": "https://localhost:8080/",
     "height": 294
    },
    "id": "0KydXJ5tdJF6",
    "outputId": "fc4667a2-9e83-4868-df0d-0ff28f436ecf"
   },
   "outputs": [
    {
     "data": {
      "image/png": "[encoded data removed]",
      "text/plain": [
       "<Figure size 432x288 with 1 Axes>"
      ]
     },
     "metadata": {
      "needs_background": "light",
      "tags": []
     },
     "output_type": "display_data"
    }
   ],
   "source": [
    "# Summarize Accuracy Improvements\n",
    "\n",
    "plt.plot(model_history.history['accuracy'])\n",
    "plt.plot(model_history.history['val_accuracy'])\n",
    "plt.title('Model Accuracy')\n",
    "plt.ylabel('accuracy')\n",
    "plt.xlabel('epoch')\n",
    "plt.legend(['train', 'test'], loc='upper left')\n",
    "plt.show()"
   ]
  },
  {
   "cell_type": "code",
   "execution_count": 11,
   "metadata": {
    "colab": {
     "base_uri": "https://localhost:8080/",
     "height": 294
    },
    "id": "C6PKNkiadoMM",
    "outputId": "ee38f32a-9c51-4619-9464-72dff066f876"
   },
   "outputs": [
    {
     "data": {
      "image/png": "[encoded data removed]",
      "text/plain": [
       "<Figure size 432x288 with 1 Axes>"
      ]
     },
     "metadata": {
      "needs_background": "light",
      "tags": []
     },
     "output_type": "display_data"
    }
   ],
   "source": [
    "# Summarize Loss Improvements\n",
    "\n",
    "plt.plot(model_history.history['loss'])\n",
    "plt.plot(model_history.history['val_loss'])\n",
    "plt.title('Model Loss')\n",
    "plt.ylabel('loss')\n",
    "plt.xlabel('epoch')\n",
    "plt.legend(['train', 'test'], loc='upper left')\n",
    "plt.show()"
   ]
  },
  {
   "cell_type": "code",
   "execution_count": 12,
   "metadata": {
    "colab": {
     "base_uri": "https://localhost:8080/",
     "height": 364
    },
    "id": "KdDil04GdqG-",
    "outputId": "296fe081-c754-45a8-e2e8-7543104ba648"
   },
   "outputs": [
    {
     "name": "stdout",
     "output_type": "stream",
     "text": [
      "Model: \"sequential\"\n",
      "_________________________________________________________________\n",
      "Layer (type)                 Output Shape              Param #   \n",
      "=================================================================\n",
      "reshape (Reshape)            (None, 28, 28, 1)         0         \n",
      "_________________________________________________________________\n",
      "conv2d (Conv2D)              (None, 26, 26, 64)        640       \n",
      "_________________________________________________________________\n",
      "max_pooling2d (MaxPooling2D) (None, 13, 13, 64)        0         \n",
      "_________________________________________________________________\n",
      "flatten (Flatten)            (None, 10816)             0         \n",
      "_________________________________________________________________\n",
      "dense (Dense)                (None, 128)               1384576   \n",
      "_________________________________________________________________\n",
      "dense_1 (Dense)              (None, 10)                1290      \n",
      "=================================================================\n",
      "Total params: 1,386,506\n",
      "Trainable params: 1,386,506\n",
      "Non-trainable params: 0\n",
      "_________________________________________________________________\n"
     ]
    }
   ],
   "source": [
    "model.summary()"
   ]
  },
  {
   "cell_type": "markdown",
   "metadata": {
    "id": "BQVuehuFcVY-"
   },
   "source": [
    "### ___Evaluating the Network___\n",
    "_We can now check the performance of the network. We do so using the evaluate function, passing in the test set. The first item in the result produced is the loss, and the second is the accuracy._"
   ]
  },
  {
   "cell_type": "code",
   "execution_count": 13,
   "metadata": {
    "colab": {
     "base_uri": "https://localhost:8080/",
     "height": 52
    },
    "id": "o_5eOBYmcVY_",
    "outputId": "8e79f033-266b-49d6-e0a9-fb08fed70892"
   },
   "outputs": [
    {
     "name": "stdout",
     "output_type": "stream",
     "text": [
      "313/313 [==============================] - 3s 8ms/step - loss: 0.0417 - accuracy: 0.9881\n"
     ]
    },
    {
     "data": {
      "text/plain": [
       "[0.04172919690608978, 0.988099992275238]"
      ]
     },
     "execution_count": 13,
     "metadata": {
      "tags": []
     },
     "output_type": "execute_result"
    }
   ],
   "source": [
    "model.evaluate(x_test,y_test)"
   ]
  },
  {
   "cell_type": "markdown",
   "metadata": {
    "id": "etCbbf3WcVZD"
   },
   "source": [
    "### ___Checking the Predictions___"
   ]
  },
  {
   "cell_type": "code",
   "execution_count": 14,
   "metadata": {
    "id": "IDQUF2K0cVZE"
   },
   "outputs": [],
   "source": [
    "predictions = model.predict(x_test)"
   ]
  },
  {
   "cell_type": "markdown",
   "metadata": {
    "id": "kZmIZWmhcVZH"
   },
   "source": [
    "_For example, let’s check the digit at index 2 in the test set._"
   ]
  },
  {
   "cell_type": "code",
   "execution_count": 15,
   "metadata": {
    "colab": {
     "base_uri": "https://localhost:8080/",
     "height": 265
    },
    "id": "wHsueLs0cVZI",
    "outputId": "3b594fda-d3bc-4d3d-8a6d-e57156ca42a6"
   },
   "outputs": [
    {
     "data": {
      "image/png": "[encoded data removed]",
      "text/plain": [
       "<Figure size 432x288 with 1 Axes>"
      ]
     },
     "metadata": {
      "needs_background": "light",
      "tags": []
     },
     "output_type": "display_data"
    }
   ],
   "source": [
    "image = x_test[2]\n",
    "\n",
    "fig = plt.figure\n",
    "plt.imshow(image, cmap='gray')\n",
    "plt.show()"
   ]
  },
  {
   "cell_type": "markdown",
   "metadata": {
    "id": "IP8h1Hv8cVZN"
   },
   "source": [
    "_This is clearly the digit one. Let’s compare that with the prediction made for digit 1._"
   ]
  },
  {
   "cell_type": "code",
   "execution_count": 16,
   "metadata": {
    "colab": {
     "base_uri": "https://localhost:8080/",
     "height": 69
    },
    "id": "06LYOMJqcVZO",
    "outputId": "c7347c8b-efd9-423b-d485-95fe692df412"
   },
   "outputs": [
    {
     "data": {
      "text/plain": [
       "array([ 0.00000654, 99.998245  ,  0.00004498,  0.00000003,  0.00131378,\n",
       "        0.00000129,  0.0000288 ,  0.00030686,  0.00003073,  0.00001179],\n",
       "      dtype=float32)"
      ]
     },
     "execution_count": 16,
     "metadata": {
      "tags": []
     },
     "output_type": "execute_result"
    }
   ],
   "source": [
    "import numpy as np\n",
    "np.set_printoptions(suppress=True)\n",
    "\n",
    "predictions[2]*100"
   ]
  },
  {
   "cell_type": "code",
   "execution_count": 17,
   "metadata": {
    "colab": {
     "base_uri": "https://localhost:8080/",
     "height": 265
    },
    "id": "MZGkjsbncnWp",
    "outputId": "9a820bab-5b7e-4a89-ee25-732976fc53d6"
   },
   "outputs": [
    {
     "data": {
      "image/png": "[encoded data removed]",
      "text/plain": [
       "<Figure size 432x288 with 1 Axes>"
      ]
     },
     "metadata": {
      "needs_background": "light",
      "tags": []
     },
     "output_type": "display_data"
    }
   ],
   "source": [
    "image = x_test[20]\n",
    "\n",
    "fig = plt.figure\n",
    "plt.imshow(image, cmap='gray')\n",
    "plt.show()"
   ]
  },
  {
   "cell_type": "code",
   "execution_count": 18,
   "metadata": {
    "colab": {
     "base_uri": "https://localhost:8080/",
     "height": 69
    },
    "id": "jX8aT6mdeKb6",
    "outputId": "bbd1fffe-705a-470a-a3dc-6e4bd5ee87b4"
   },
   "outputs": [
    {
     "data": {
      "text/plain": [
       "array([ 0.00000002,  0.0000004 ,  0.00000002,  0.00014518,  0.00015849,\n",
       "        0.00003499,  0.        ,  0.00183083,  0.00003117, 99.997795  ],\n",
       "      dtype=float32)"
      ]
     },
     "execution_count": 18,
     "metadata": {
      "tags": []
     },
     "output_type": "execute_result"
    }
   ],
   "source": [
    "predictions[20]*100"
   ]
  }
 ],
 "metadata": {
  "colab": {
   "collapsed_sections": [],
   "name": "11. CNN Classifier - MNIST.ipynb",
   "provenance": []
  },
  "kernelspec": {
   "display_name": "Python 3",
   "language": "python",
   "name": "python3"
  },
  "language_info": {
   "codemirror_mode": {
    "name": "ipython",
    "version": 3
   },
   "file_extension": ".py",
   "mimetype": "text/x-python",
   "name": "python",
   "nbconvert_exporter": "python",
   "pygments_lexer": "ipython3",
   "version": "3.8.3"
  },
  "toc": {
   "base_numbering": 1,
   "nav_menu": {},
   "number_sections": true,
   "sideBar": true,
   "skip_h1_title": false,
   "title_cell": "Table of Contents",
   "title_sidebar": "Contents",
   "toc_cell": false,
   "toc_position": {},
   "toc_section_display": true,
   "toc_window_display": false
  }
 },
 "nbformat": 4,
 "nbformat_minor": 1
}
