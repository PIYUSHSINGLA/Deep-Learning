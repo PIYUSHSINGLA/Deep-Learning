{
 "cells": [
  {
   "cell_type": "markdown",
   "metadata": {
    "id": "5e3adrFQOg3V"
   },
   "source": [
    "# ___VGG-Net - CNN Architecture___"
   ]
  },
  {
   "cell_type": "markdown",
   "metadata": {
    "id": "9K2l0V2SOg3a"
   },
   "source": [
    "## ___Introduction___\n",
    "\n",
    "_VGG is an acronym for the Visual Geometric Group from Oxford University and VGG-16 is a network with 16 layers proposed by the Visual Geometric Group. These 16 layers contain the trainable parameters and there are other layers also like the Max pool layer but those do not contain any trainable parameters. This architecture was the 1st runner up of the Visual Recognition Challenge of 2014 i.e. ILSVRC-2014 and was developed by Simonyan and Zisserman._\n",
    "\n",
    "_The VGG research group released a series of the convolution network model starting from VGG11 to VGG19. The __main intention of the VGG group on depth was to understand how the depth of convolutional networks affects the accuracy of the models of large-scale image classification and recognition__. The minimum VGG11 has 8 convolutional layers and 3 fully connected layers as compared to the maximum VGG19 which has 16 convolutional layers and the 3 fully connected layers. __The different variations of VGGs are exactly the same in the last three fully connected layers. The overall structure includes 5 sets of convolutional layers, followed by a MaxPool. But the difference is that as the depth increases that is as we move from VGG11 to VGG19 more and more cascaded convolutional layers are added in the five sets of convolutional layers__._\n",
    "\n",
    "_This model achieves 92.7% top-5 test accuracy on ImageNet dataset which contains 14 million images belonging to 1000 classes._\n",
    "\n",
    "___[Paper - VGG](https://arxiv.org/pdf/1409.1556.pdf)___"
   ]
  },
  {
   "cell_type": "markdown",
   "metadata": {
    "id": "lzf_Qy7kOg3d"
   },
   "source": [
    "### ___Network Configurations___\n",
    "\n",
    "_The below-shown figure is the overall network configuration of different models created by VGG that uses the same principle but only varies in depth._\n",
    "\n",
    "<img src='https://miro.medium.com/max/700/1*Dsdd_ElH2V-CyrqnGZWdtw.png'/>\n",
    "\n",
    "_From the above comparison table that represents a different network, we can see that as the model moves from simpler to complex the depth of the network is getting increased. This is the best way to solve any problem, means to say, solve the problem using a simpler model and then gradually optimize it by making it complex._"
   ]
  },
  {
   "cell_type": "markdown",
   "metadata": {
    "id": "FrSdjPiFOg3g"
   },
   "source": [
    "## ___Understanding VGG-16___"
   ]
  },
  {
   "cell_type": "markdown",
   "metadata": {
    "id": "I9xQqdfcOg3o"
   },
   "source": [
    "<a href=\"http://ethereon.github.io/netscope/#/gist/dc5003de6943ea5a6b8b\" target=\"_blank\"><i>Network Structure of VGG-16</i></a>"
   ]
  },
  {
   "cell_type": "markdown",
   "metadata": {
    "id": "_t762mU3Og3q"
   },
   "source": [
    "_The input of VGG is set to an __RGB image of 224x244__ size. A __3x3 or 1x1 filter__ is used, and the __convolution step__ is fixed. . There are 3 VGG fully connected layers, which can vary from __VGG11 to VGG19__ according to the total number of __convolutional layers + fully connected layers__. The __minimum VGG11__ has __8 convolutional layers and 3 fully connected layers__. The maximum __VGG19__ has __16 convolutional layers + 3 fully connected layers__. In addition, the VGG network is not followed by a pooling layer behind each convolutional layer, or __a total of 5 pooling layers distributed under different convolutional layers__. The following figure is VGG Structure diagram:_"
   ]
  },
  {
   "cell_type": "markdown",
   "metadata": {
    "id": "6W86byi-Og3t"
   },
   "source": [
    "<img src='https://neurohive.io/wp-content/uploads/2018/11/vgg16-1-e1542731207177.png'/>"
   ]
  },
  {
   "cell_type": "markdown",
   "metadata": {
    "id": "evMFOluOOg3w"
   },
   "source": [
    "_In the figure above, all the white rectangles represent the convolution layers along with the non-linear activation function which is a rectified linear unit (or ReLU). As can be seen from the figure that there are 13 white and 5 red rectangles i.e there are 13 convolution layers and 5 max-pooling layers. Along with these, there are 3 blue rectangles representing 3 fully connected layers. So, the total number of layers having tunable parameters is 16 of which 13 is for convolution layers and 3 for fully connected layers, thus the name is given as VGG-16. At the output, we have a softmax layer having 1000 outputs per image category in the imagenet dataset._\n",
    "\n",
    "_In this architecture, we have started with a very low channel size of 64 and then gradually increased by a factor of 2 after each max-pooling layers, until it reaches 512._\n",
    "\n",
    "_The flattened architecture of VGG-16 is as shown below:_"
   ]
  },
  {
   "cell_type": "markdown",
   "metadata": {
    "id": "kjvVrvQsOg3y"
   },
   "source": [
    "<img src='https://qph.fs.quoracdn.net/main-qimg-e657c195fc2696c7d5fc0b1e3682fde6'/>"
   ]
  },
  {
   "cell_type": "markdown",
   "metadata": {
    "id": "70z6oQE3Og31"
   },
   "source": [
    "_The architecture is very simple. It has got 2 contiguous blocks of 2 convolution layers followed by a max-pooling, then it has 3 contiguous blocks of 3 convolution layers followed by max-pooling, and at last, we have 3 dense layers. The last 3 convolution layers have different depths in different architectures._\n",
    "\n",
    "_The important thing to analyze here is that after every max-pooling the size is getting half._"
   ]
  },
  {
   "cell_type": "markdown",
   "metadata": {
    "id": "ZRDScKqpOg34"
   },
   "source": [
    "### ___Features of VGG-16 Network___\n",
    "\n",
    "* ___Input Layer___ _: It accepts color images as an input with the size 224 x 224 and 3 channels i.e. Red, Green, and Blue._\n",
    "\n",
    "\n",
    "* ___Convolution Layer___ _: The images pass through a stack of convolution layers where every convolution filter has a very small receptive field of 3 x 3 and stride of 1. Every convolution kernel uses row and column padding so that the size of input as well as the output feature maps remains the same or in other words, the resolution after the convolution is performed remains the same._\n",
    "\n",
    "\n",
    "* ___Max pooling___ _: It is performed over a max-pool window of size 2 x 2 with stride equals to 2, which means here max pool windows are non-overlapping windows._\n",
    "\n",
    "\n",
    "* _Not every convolution layer is followed by a max pool layer as at some places a convolution layer is following another convolution layer without the max-pool layer in between._\n",
    "\n",
    "\n",
    "* _The first two fully connected layers have 4096 channels each and the third fully connected layer which is also the output layer have 1000 channels, one for each category of images in the imagenet database._\n",
    "\n",
    "\n",
    "* _The hidden layers have ReLU as their activation function._"
   ]
  },
  {
   "cell_type": "markdown",
   "metadata": {
    "id": "xlhYwiCnOg39"
   },
   "source": [
    "### ___Architecture___\n",
    "\n",
    "_VGG16 contains 16 layers and VGG19 contains 19 layers. A series of VGGs are exactly the same in the last three fully connected layers. The overall structure includes 5 sets of convolutional layers, followed by a MaxPool. The difference is that more and more cascaded convolutional layers are included in the five sets of convolutional layers._\n",
    "\n",
    "<img src='https://engmrk.com/wp-content/uploads/2018/10/VGG16_Summary-Table.jpg'/>\n",
    "\n",
    "_Each convolutional layer in AlexNet contains only one convolution, and the size of the convolution kernel is 7 * 7. In VGGNet, each convolution layer contains 2 to 4 convolution operations. The size of the convolution kernel is 3 * 3, the convolution step size is 1, the pooling kernel is 2 * 2, and the step size is 2. The most obvious __improvement of VGGNet is to reduce the size of the convolution kernel and increase the number of convolution layers__._\n",
    "\n",
    "___Using multiple convolution layers with smaller convolution kernels instead of a larger convolution layer with convolution kernels can reduce parameters on the one hand, and the author believes that it is equivalent to more non-linear mapping, which increases the Fit expression ability.___\n",
    "\n",
    "_Two consecutive 3 * 3 convolutions are equivalent to a 5 * 5 receptive field, and three are equivalent to 7 * 7. The __advantages__ of __using three 3 * 3 convolutions instead of one 7 * 7__ convolution are two: __one, including three ReLu layers instead of one, makes the decision function more discriminative;__ and __two, reducing parameters__. _\n",
    "\n",
    "_The __1 * 1 convolution layer is mainly to increase the non-linearity__ of the decision function without affecting the receptive field of the convolution layer. Although the __1 * 1 convolution operation is linear, ReLu adds non-linearity__._"
   ]
  },
  {
   "cell_type": "markdown",
   "metadata": {
    "id": "8Noz6R6cOg3_"
   },
   "source": [
    "### ___Advantages of having 3 x 3 kernel size___\n",
    "\n",
    "#### ___Mathematically___\n",
    "_Suppose we have an input of a shape of 224 x 224 with K channels i.e. 224 x 224 x K. We’ll apply convolution with different sizes kernels with stride =1._\n",
    "\n",
    "___Case-1: When we have a kernel size of 3 x 3___\n",
    "\n",
    "    After the First convolution\n",
    "\n",
    "    N = 224, f = 3, S = 1\n",
    "\n",
    "    Output shape = [(N-f)/S] + 1 = [(224–3)/1] + 1 = 222\n",
    "\n",
    "    After the Second convolution\n",
    "\n",
    "    N = 222, f = 3, S = 1\n",
    "\n",
    "    Output shape = [(N-f)/S] + 1 = [(222–3)/1] + 1 = 220\n",
    "\n",
    "    After the Third convolution\n",
    "    \n",
    "    N = 220, f = 3, S = 1\n",
    "\n",
    "    Output shape = [(N-f)/S] + 1 = [(220–3)/1] + 1 = 218\n",
    "\n",
    "    So, after three simultaneous convolutions, we got an output of size 218 x 218 x K\n",
    "    \n",
    "    3 3x3 convolutions, using 3 non-linear activation functions, increasing non-linear expression capabilities, making the segmentation plane more separable.\n",
    "\n",
    "___Case-2: When we have a kernel size of 7 x 7___\n",
    "\n",
    "    N = 224, f = 7, S = 1\n",
    "\n",
    "    Output shape = [(N-f)/S] + 1 = [(224–7)/1] + 1 = 218\n",
    "\n",
    "    So, after one convolution only we got an output of size 218 x 218 x K\n",
    "\n",
    "\n",
    "___Hence, looking at the above two cases we say that the three 3 × 3 convolution layers have an effective receptive field of 7 × 7.___\n",
    "\n",
    "#### ___Trainable Parameters___\n",
    "\n",
    "_As we know more the layers of convolution more sharply the features will be extracted from our input as compared to when we have fewer layers. So having 3 x 3 kernel size would lead to much better feature extraction than 7 x 7 kernel size.\n",
    "When we take 3 x 3 kernel size the number of trainable parameters will be 27K² as compared to 7 x 7 kernel size when taken gives 49K² trainable parameters which is 81% more._"
   ]
  },
  {
   "cell_type": "markdown",
   "metadata": {
    "id": "hoWhCBBtOg4B"
   },
   "source": [
    "### ___Training___\n",
    "\n",
    "* ___The optimization method___ _is a stochastic gradient descent SGD + momentum (0.9) with momentum. The batch size is 256._\n",
    "\n",
    "\n",
    "* ___Regularization___ : _L2 regularization is used, and the weight decay is 5e-4. Dropout is after the first two fully connected layers, p = 0.5._\n",
    "\n",
    "\n",
    "* _Although it is deeper and has more parameters than the AlexNet network, we speculate that VGGNet can converge in less cycles for two reasons: one, the greater depth and smaller convolutions bring implicit regularization; Second, some layers of pre-training._\n",
    "\n",
    "\n",
    "* ___Parameter initialization___ _: For a shallow A network, parameters are randomly initialized, the weight w is sampled from N (0, 0.01), and the bias is initialized to 0. Then, for deeper networks, first the first four convolutional layers and three fully connected layers are initialized with the parameters of the A network. However, it was later discovered that it is also possible to directly initialize it without using pre-trained parameters._\n",
    "\n",
    "\n",
    "* _In order to obtain a 224 * 224 input image, each rescaled image is randomly cropped in each SGD iteration. In order to enhance the data set, the cropped image is also randomly flipped horizontally and RGB color shifted._"
   ]
  },
  {
   "cell_type": "markdown",
   "metadata": {
    "id": "JqrHlJ6DOg4D"
   },
   "source": [
    "## ___Summary of VGGNet Improvement Points___\n",
    " \n",
    "* _A __smaller 3 * 3 convolution kernel__ and a __deeper network__ are used._\n",
    "\n",
    "* _The stack of __two 3 * 3 convolution kernels__ is relative to the field of view of a __5 * 5 convolution kernel__, and the stack of __three 3 * 3 convolution kernels is equivalent to the field of view of a 7 * 7 convolution kernel__. In this way, there can be __fewer parameters__ (3 stacked 3 * 3 structures have only 7 * 7 structural parameters (3 * 3 * 3) / (7 * 7) = 55%); on the other hand, they have __more non-linear transformation__ which increases the ability of CNN to learn features._\n",
    "\n",
    "* _In the convolutional structure of VGGNet, a __1 * 1 convolution kernel__ is introduced. Without affecting the input and output dimensions, __non-linear transformation is introduced to increase the expressive power__ of the network and reduce the amount of calculation._\n",
    "\n",
    "* _During training, first train a simple (low-level) VGGNet A-level network, and then use the weights of the A network to initialize the complex models that follow to speed up the convergence of training._"
   ]
  },
  {
   "cell_type": "markdown",
   "metadata": {
    "id": "ad-VLb9-Og4H"
   },
   "source": [
    "### ___Difference between VGG-16 and AlexNet___\n",
    "\n",
    "_As compared to VGG-16 where all the convolution kernels are of the uniform size 3 x 3 with stride as 1, the AlexNet has convolution kernels of variable size like 5 x 5 and 3 x 3._\n",
    "\n",
    "_Though AlexNet uses multiple kernels of different sizes, the realization of every convolution kernel of different sizes can be done using multiple 3 x 3 size kernels._"
   ]
  },
  {
   "cell_type": "markdown",
   "metadata": {
    "id": "8p-rmHfXOg4K"
   },
   "source": [
    "## ___Code Implementation___\n",
    "\n",
    "_There are 2 ways to perform this task:_\n",
    "* _By writing the code from scratch_\n",
    "* _By using the pre-trained VGG16 model trained on imagenet dataset_"
   ]
  },
  {
   "cell_type": "markdown",
   "metadata": {
    "id": "gVB5jRxKc6K7"
   },
   "source": [
    "### ___Getting the Dataset___"
   ]
  },
  {
   "cell_type": "code",
   "execution_count": 1,
   "metadata": {
    "colab": {
     "base_uri": "https://localhost:8080/",
     "height": 212
    },
    "id": "KEuQpAMDefGs",
    "outputId": "d5359898-e997-4389-af55-6a23dc7b956a"
   },
   "outputs": [
    {
     "name": "stdout",
     "output_type": "stream",
     "text": [
      "--2020-10-01 15:06:21--  https://s3.amazonaws.com/content.udacity-data.com/nd089/Cat_Dog_data.zip\n",
      "Resolving s3.amazonaws.com (s3.amazonaws.com)... 52.216.249.54\n",
      "Connecting to s3.amazonaws.com (s3.amazonaws.com)|52.216.249.54|:443... connected.\n",
      "HTTP request sent, awaiting response... 200 OK\n",
      "Length: 580495262 (554M) [application/zip]\n",
      "Saving to: ‘Cat_Dog_data.zip’\n",
      "\n",
      "Cat_Dog_data.zip    100%[===================>] 553.60M  16.7MB/s    in 36s     \n",
      "\n",
      "2020-10-01 15:06:58 (15.5 MB/s) - ‘Cat_Dog_data.zip’ saved [580495262/580495262]\n",
      "\n"
     ]
    }
   ],
   "source": [
    "!wget -c https://s3.amazonaws.com/content.udacity-data.com/nd089/Cat_Dog_data.zip"
   ]
  },
  {
   "cell_type": "code",
   "execution_count": 2,
   "metadata": {
    "id": "iTdJi6gKerYG"
   },
   "outputs": [],
   "source": [
    "!unzip -qq Cat_Dog_data.zip"
   ]
  },
  {
   "cell_type": "markdown",
   "metadata": {
    "id": "XfzX6KZJOg4P"
   },
   "source": [
    "### ___Writing the VGG16 Architecture Code from Scratch___"
   ]
  },
  {
   "cell_type": "code",
   "execution_count": 3,
   "metadata": {
    "id": "MQKjQNV9Og4S"
   },
   "outputs": [],
   "source": [
    "# Importing the required libraries\n",
    "import tensorflow as tf\n",
    "import keras\n",
    "import pandas as pd\n",
    "import numpy as np\n",
    "from keras.models import Sequential\n",
    "from keras.layers import Conv2D, MaxPool2D, Flatten, Dense\n",
    "from keras.preprocessing.image import ImageDataGenerator\n",
    "from keras.preprocessing import image\n",
    "\n",
    "from glob import glob\n",
    "import matplotlib.pyplot as plt\n",
    "\n",
    "import warnings\n",
    "warnings.filterwarnings(\"ignore\", category=FutureWarning)"
   ]
  },
  {
   "cell_type": "code",
   "execution_count": 4,
   "metadata": {
    "colab": {
     "base_uri": "https://localhost:8080/",
     "height": 52
    },
    "id": "LNT9psDQOg4p",
    "outputId": "9cadecbb-2d3c-48cf-93d2-cf8248ae051d"
   },
   "outputs": [
    {
     "name": "stdout",
     "output_type": "stream",
     "text": [
      "Found 22500 images belonging to 2 classes.\n",
      "Found 2500 images belonging to 2 classes.\n"
     ]
    }
   ],
   "source": [
    "# Augmenting the Training dataset\n",
    "\n",
    "idg = ImageDataGenerator(zoom_range=0.2, \n",
    "                         shear_range=0.2, \n",
    "                         horizontal_flip=True, \n",
    "                         rescale=1/255.0)\n",
    "\n",
    "training_data = idg.flow_from_directory(r\"/content/Cat_Dog_data/train\", \n",
    "                                        target_size = (224, 224))\n",
    "\n",
    "# Augmenting the Testing dataset\n",
    "\n",
    "idg = ImageDataGenerator(rescale=1/255.0)\n",
    "\n",
    "testing_data = idg.flow_from_directory(r\"/content/Cat_Dog_data/test\", \n",
    "                                       target_size = (224, 224))"
   ]
  },
  {
   "cell_type": "code",
   "execution_count": 5,
   "metadata": {
    "id": "XAEsW0b1Og49"
   },
   "outputs": [],
   "source": [
    "# Initializing a Sequential model\n",
    "model = Sequential()\n",
    "\n",
    "# Creating first block- (2 Convolution + 1 Max pool)\n",
    "model.add(Conv2D(filters= 64, kernel_size= (3,3), strides= (1,1), padding='same', input_shape= (224, 224, 3), activation= 'relu'))\n",
    "model.add(Conv2D(filters= 64, kernel_size= (3,3), strides= (1,1), padding='same', activation= 'relu'))\n",
    "model.add(MaxPool2D(pool_size= (2,2), strides=(2,2)))\n",
    "\n",
    "# Creating second block- (2 Convolution + 1 Max pool)\n",
    "model.add(Conv2D(filters= 128, kernel_size= (3,3), strides= (1,1), padding='same', activation= 'relu'))\n",
    "model.add(Conv2D(filters= 128, kernel_size= (3,3), strides= (1,1), padding='same', activation= 'relu'))\n",
    "model.add(MaxPool2D(pool_size= (2,2), strides=(2,2)))\n",
    "\n",
    "# Creating third block- (3 Convolution + 1 Max pool)\n",
    "model.add(Conv2D(filters= 256, kernel_size= (3,3), strides= (1,1), padding='same', activation= 'relu'))\n",
    "model.add(Conv2D(filters= 256, kernel_size= (3,3), strides= (1,1), padding='same', activation= 'relu'))\n",
    "model.add(Conv2D(filters= 256, kernel_size= (3,3), strides= (1,1), padding='same', activation= 'relu'))\n",
    "model.add(MaxPool2D(pool_size= (2,2), strides=(2,2)))\n",
    "\n",
    "# Creating fourth block- (3 Convolution + 1 Max pool)\n",
    "model.add(Conv2D(filters= 512, kernel_size= (3,3), strides= (1,1), padding='same', activation= 'relu'))\n",
    "model.add(Conv2D(filters= 512, kernel_size= (3,3), strides= (1,1), padding='same', activation= 'relu'))\n",
    "model.add(Conv2D(filters= 512, kernel_size= (3,3), strides= (1,1), padding='same', activation= 'relu'))\n",
    "model.add(MaxPool2D(pool_size= (2,2), strides=(2,2)))\n",
    "\n",
    "# Creating fifth block- (3 Convolution + 1 Max pool)\n",
    "model.add(Conv2D(filters= 512, kernel_size= (3,3), strides= (1,1), padding='same', activation= 'relu'))\n",
    "model.add(Conv2D(filters= 512, kernel_size= (3,3), strides= (1,1), padding='same', activation= 'relu'))\n",
    "model.add(Conv2D(filters= 512, kernel_size= (3,3), strides= (1,1), padding='same', activation= 'relu'))\n",
    "model.add(MaxPool2D(pool_size= (2,2), strides=(2,2)))\n",
    "\n",
    "# Flattening the pooled image pixels\n",
    "model.add(Flatten())\n",
    "\n",
    "# Creating 2 Dense Layers\n",
    "model.add(Dense(units= 4096, activation='relu'))\n",
    "model.add(Dense(units= 4096, activation='relu'))\n",
    "\n",
    "# Creating an output layer\n",
    "model.add(Dense(units= 2, activation='softmax'))"
   ]
  },
  {
   "cell_type": "code",
   "execution_count": 6,
   "metadata": {
    "colab": {
     "base_uri": "https://localhost:8080/",
     "height": 941
    },
    "id": "LWySCqpdOg5O",
    "outputId": "3d90e190-5a0a-4246-ea75-145e758e744b"
   },
   "outputs": [
    {
     "name": "stdout",
     "output_type": "stream",
     "text": [
      "Model: \"sequential\"\n",
      "_________________________________________________________________\n",
      "Layer (type)                 Output Shape              Param #   \n",
      "=================================================================\n",
      "conv2d (Conv2D)              (None, 224, 224, 64)      1792      \n",
      "_________________________________________________________________\n",
      "conv2d_1 (Conv2D)            (None, 224, 224, 64)      36928     \n",
      "_________________________________________________________________\n",
      "max_pooling2d (MaxPooling2D) (None, 112, 112, 64)      0         \n",
      "_________________________________________________________________\n",
      "conv2d_2 (Conv2D)            (None, 112, 112, 128)     73856     \n",
      "_________________________________________________________________\n",
      "conv2d_3 (Conv2D)            (None, 112, 112, 128)     147584    \n",
      "_________________________________________________________________\n",
      "max_pooling2d_1 (MaxPooling2 (None, 56, 56, 128)       0         \n",
      "_________________________________________________________________\n",
      "conv2d_4 (Conv2D)            (None, 56, 56, 256)       295168    \n",
      "_________________________________________________________________\n",
      "conv2d_5 (Conv2D)            (None, 56, 56, 256)       590080    \n",
      "_________________________________________________________________\n",
      "conv2d_6 (Conv2D)            (None, 56, 56, 256)       590080    \n",
      "_________________________________________________________________\n",
      "max_pooling2d_2 (MaxPooling2 (None, 28, 28, 256)       0         \n",
      "_________________________________________________________________\n",
      "conv2d_7 (Conv2D)            (None, 28, 28, 512)       1180160   \n",
      "_________________________________________________________________\n",
      "conv2d_8 (Conv2D)            (None, 28, 28, 512)       2359808   \n",
      "_________________________________________________________________\n",
      "conv2d_9 (Conv2D)            (None, 28, 28, 512)       2359808   \n",
      "_________________________________________________________________\n",
      "max_pooling2d_3 (MaxPooling2 (None, 14, 14, 512)       0         \n",
      "_________________________________________________________________\n",
      "conv2d_10 (Conv2D)           (None, 14, 14, 512)       2359808   \n",
      "_________________________________________________________________\n",
      "conv2d_11 (Conv2D)           (None, 14, 14, 512)       2359808   \n",
      "_________________________________________________________________\n",
      "conv2d_12 (Conv2D)           (None, 14, 14, 512)       2359808   \n",
      "_________________________________________________________________\n",
      "max_pooling2d_4 (MaxPooling2 (None, 7, 7, 512)         0         \n",
      "_________________________________________________________________\n",
      "flatten (Flatten)            (None, 25088)             0         \n",
      "_________________________________________________________________\n",
      "dense (Dense)                (None, 4096)              102764544 \n",
      "_________________________________________________________________\n",
      "dense_1 (Dense)              (None, 4096)              16781312  \n",
      "_________________________________________________________________\n",
      "dense_2 (Dense)              (None, 2)                 8194      \n",
      "=================================================================\n",
      "Total params: 134,268,738\n",
      "Trainable params: 134,268,738\n",
      "Non-trainable params: 0\n",
      "_________________________________________________________________\n"
     ]
    }
   ],
   "source": [
    "# Getting the summary of the model\n",
    "model.summary()"
   ]
  },
  {
   "cell_type": "code",
   "execution_count": 8,
   "metadata": {
    "id": "LoMvWpu1Og5m"
   },
   "outputs": [],
   "source": [
    "# Compiling the model\n",
    "model.compile(optimizer='adam', loss='binary_crossentropy', metrics=['accuracy'])"
   ]
  },
  {
   "cell_type": "code",
   "execution_count": null,
   "metadata": {
    "id": "sXXfZ0YCOg50"
   },
   "outputs": [],
   "source": [
    "# Fitting the model\n",
    "result = model.fit_generator(steps_per_epoch=100, \n",
    "                             generator=training_data, \n",
    "                             verbose=1, \n",
    "                             validation_data=testing_data, \n",
    "                             epochs=50)"
   ]
  },
  {
   "cell_type": "markdown",
   "metadata": {
    "id": "3rHvIiwPOg6y"
   },
   "source": [
    "### ___Using the pre-trained VGG16 model trained on `imagenet` dataset___"
   ]
  },
  {
   "cell_type": "code",
   "execution_count": 9,
   "metadata": {
    "colab": {
     "base_uri": "https://localhost:8080/",
     "height": 52
    },
    "id": "GQ2mrG3sOg60",
    "outputId": "8303d26a-2081-496d-c1dd-94ef80af39f4"
   },
   "outputs": [
    {
     "name": "stdout",
     "output_type": "stream",
     "text": [
      "Downloading data from https://storage.googleapis.com/tensorflow/keras-applications/vgg16/vgg16_weights_tf_dim_ordering_tf_kernels_notop.h5\n",
      "58892288/58889256 [==============================] - 0s 0us/step\n"
     ]
    }
   ],
   "source": [
    "# The entire network is present under VGG16 feature extractor\n",
    "from keras.applications.vgg16 import VGG16\n",
    "\n",
    "model_vgg = VGG16(weights='imagenet', include_top=False, input_shape= (224,224,3))\n",
    "\n",
    "# include_top: Whether to include the 3 fully-connected layers at the top of the network.\n",
    "# weights: 'imagenet' (pre-training on ImageNet), or the path to the weights file to be loaded."
   ]
  },
  {
   "cell_type": "code",
   "execution_count": 10,
   "metadata": {
    "id": "FJ90RTNaOg7A"
   },
   "outputs": [],
   "source": [
    "# Preventing 13 Convolution layers to be trained\n",
    "for layer in model_vgg.layers:\n",
    "    layer.trainable = False"
   ]
  },
  {
   "cell_type": "code",
   "execution_count": 11,
   "metadata": {
    "colab": {
     "base_uri": "https://localhost:8080/",
     "height": 34
    },
    "id": "c1BRx9lqgCwC",
    "outputId": "6df3b23a-9bf7-438f-de0e-651e218b997f"
   },
   "outputs": [
    {
     "data": {
      "text/plain": [
       "(224, 224, 3)"
      ]
     },
     "execution_count": 11,
     "metadata": {
      "tags": []
     },
     "output_type": "execute_result"
    }
   ],
   "source": [
    "training_data.image_shape"
   ]
  },
  {
   "cell_type": "code",
   "execution_count": 12,
   "metadata": {
    "colab": {
     "base_uri": "https://localhost:8080/",
     "height": 336
    },
    "id": "xoGpAMkBOg7I",
    "outputId": "4d11fe68-2b89-4e22-bcc6-53e900a3f254"
   },
   "outputs": [
    {
     "name": "stdout",
     "output_type": "stream",
     "text": [
      "Model: \"sequential_1\"\n",
      "_________________________________________________________________\n",
      "Layer (type)                 Output Shape              Param #   \n",
      "=================================================================\n",
      "vgg16 (Functional)           (None, 7, 7, 512)         14714688  \n",
      "_________________________________________________________________\n",
      "flatten_1 (Flatten)          (None, 25088)             0         \n",
      "_________________________________________________________________\n",
      "dense_3 (Dense)              (None, 4096)              102764544 \n",
      "_________________________________________________________________\n",
      "dense_4 (Dense)              (None, 4096)              16781312  \n",
      "_________________________________________________________________\n",
      "dense_5 (Dense)              (None, 2)                 8194      \n",
      "=================================================================\n",
      "Total params: 134,268,738\n",
      "Trainable params: 119,554,050\n",
      "Non-trainable params: 14,714,688\n",
      "_________________________________________________________________\n"
     ]
    }
   ],
   "source": [
    "# Creating Model\n",
    "model = keras.Sequential()\n",
    "\n",
    "# Adding pre-trained model layers\n",
    "model.add(model_vgg)\n",
    "\n",
    "# Flattening the image pixels\n",
    "model.add(Flatten())\n",
    "\n",
    "# Adding 2 dense layers with 4096 neurons\n",
    "model.add(Dense(4096, activation='relu'))\n",
    "model.add(Dense(4096, activation='relu'))\n",
    "\n",
    "# Adding an output layer with 2 neurons\n",
    "model.add(Dense(2, activation='sigmoid'))\n",
    "\n",
    "# Getting the structure of our model\n",
    "model.summary()"
   ]
  },
  {
   "cell_type": "code",
   "execution_count": 13,
   "metadata": {
    "id": "tj4Og3g-Og7W"
   },
   "outputs": [],
   "source": [
    "# from keras import optimizers\n",
    "# sgd = optimizers.SGD(lr=0.01, decay=1e-6, momentum=0.9)\n",
    "# model.compile(loss='binary_crossentropy', optimizer=sgd, metrics=['accuracy'])\n",
    "\n",
    "# Compiling the model\n",
    "model.compile(optimizer='adam', loss='binary_crossentropy', metrics=['accuracy'])"
   ]
  },
  {
   "cell_type": "code",
   "execution_count": 21,
   "metadata": {
    "colab": {
     "base_uri": "https://localhost:8080/",
     "height": 194
    },
    "id": "YdNNMKd3Og7g",
    "outputId": "3476c27a-63e4-451d-95cd-ab104b6d6472"
   },
   "outputs": [
    {
     "name": "stdout",
     "output_type": "stream",
     "text": [
      "Epoch 1/5\n",
      "100/100 [==============================] - 70s 704ms/step - loss: 0.1622 - accuracy: 0.9341 - val_loss: 0.2018 - val_accuracy: 0.9156\n",
      "Epoch 2/5\n",
      "100/100 [==============================] - 70s 700ms/step - loss: 0.1671 - accuracy: 0.9281 - val_loss: 0.1723 - val_accuracy: 0.9352\n",
      "Epoch 3/5\n",
      "100/100 [==============================] - 70s 701ms/step - loss: 0.1394 - accuracy: 0.9447 - val_loss: 0.1720 - val_accuracy: 0.9340\n",
      "Epoch 4/5\n",
      "100/100 [==============================] - 70s 699ms/step - loss: 0.1573 - accuracy: 0.9351 - val_loss: 0.1601 - val_accuracy: 0.9368\n",
      "Epoch 5/5\n",
      "100/100 [==============================] - 70s 699ms/step - loss: 0.1424 - accuracy: 0.9431 - val_loss: 0.1676 - val_accuracy: 0.9348\n"
     ]
    }
   ],
   "source": [
    "# Fitting the model\n",
    "result = model.fit_generator(steps_per_epoch=100, \n",
    "                             generator=training_data, \n",
    "                             verbose=1, \n",
    "                             validation_data=testing_data, \n",
    "                             epochs=5)"
   ]
  },
  {
   "cell_type": "code",
   "execution_count": 22,
   "metadata": {
    "id": "-vI_vYlcOg7p"
   },
   "outputs": [],
   "source": [
    "# from keras.callbacks import ModelCheckpoint\n",
    "# from keras.callbacks import ReduceLROnPlateau\n",
    " \n",
    "# lr_reducer = ReduceLROnPlateau(factor=np.sqrt(0.1), cooldown=0,\n",
    "#                                patience=5, min_lr=0.5e-6)\n",
    "\n",
    "# checkpoint = ModelCheckpoint(filepath='mymodel.h5', verbose=1, save_best_only=True)\n",
    "\n",
    "# callbacks = [checkpoint, lr_reducer, lr_scheduler]\n",
    " \n",
    "# model.fit_generator(train_set, \n",
    "#                     validation_data=test_set, \n",
    "#                     epochs=10,\n",
    "#                     steps_per_epoch=5, \n",
    "#                     validation_steps=32, \n",
    "#                     callbacks=callbacks,\n",
    "#                     verbose=1)"
   ]
  },
  {
   "cell_type": "code",
   "execution_count": 23,
   "metadata": {
    "colab": {
     "base_uri": "https://localhost:8080/",
     "height": 282
    },
    "id": "8f_83UQaOg73",
    "outputId": "40709d9c-72d9-4b53-8b3f-453b04bd58cc"
   },
   "outputs": [
    {
     "data": {
      "text/plain": [
       "<matplotlib.legend.Legend at 0x7fe5ff545358>"
      ]
     },
     "execution_count": 23,
     "metadata": {
      "tags": []
     },
     "output_type": "execute_result"
    },
    {
     "data": {
      "image/png": "[encoded data removed]",
      "text/plain": [
       "<Figure size 432x288 with 2 Axes>"
      ]
     },
     "metadata": {
      "needs_background": "light",
      "tags": []
     },
     "output_type": "display_data"
    }
   ],
   "source": [
    "# After successful training, we will visualize its performance.\n",
    "\n",
    "import matplotlib.pyplot as plt\n",
    "# Plotting the training and validation loss\n",
    "\n",
    "f,ax=plt.subplots(2,1) #Creates 2 subplots under 1 column\n",
    "\n",
    "# Assigning the first subplot to graph training loss and validation loss\n",
    "ax[0].plot(result.history['loss'],color='b',label='Training Loss')\n",
    "ax[0].plot(result.history['val_loss'],color='r',label='Validation Loss')\n",
    "\n",
    "# Plotting the training accuracy and validation accuracy\n",
    "ax[1].plot(result.history['accuracy'],color='b',label='Training  Accuracy')\n",
    "ax[1].plot(result.history['val_accuracy'],color='r',label='Validation Accuracy')\n",
    "\n",
    "plt.legend()"
   ]
  },
  {
   "cell_type": "code",
   "execution_count": 24,
   "metadata": {
    "colab": {
     "base_uri": "https://localhost:8080/",
     "height": 241
    },
    "id": "GW23011iOg5-",
    "outputId": "960a5a6e-a889-4494-caa7-792305c9d9c5"
   },
   "outputs": [
    {
     "data": {
      "image/png": "[encoded data removed]",
      "text/plain": [
       "<PIL.Image.Image image mode=RGB size=224x224 at 0x7FE601BBC2B0>"
      ]
     },
     "execution_count": 24,
     "metadata": {
      "tags": []
     },
     "output_type": "execute_result"
    }
   ],
   "source": [
    "# Load the testing image\n",
    "test_img = image.load_img(r\"/content/Cat_Dog_data/test/cat/cat.10009.jpg\", target_size=(224,224))\n",
    "test_img"
   ]
  },
  {
   "cell_type": "code",
   "execution_count": 25,
   "metadata": {
    "id": "Wo4EEGPPOg6S"
   },
   "outputs": [],
   "source": [
    "# Converting image to array\n",
    "test_img = np.asarray(test_img)\n",
    "\n",
    "# Expanding the dimensions\n",
    "test_img = np.expand_dims(test_img, axis=0)"
   ]
  },
  {
   "cell_type": "code",
   "execution_count": 26,
   "metadata": {
    "colab": {
     "base_uri": "https://localhost:8080/",
     "height": 34
    },
    "id": "axOWuBqCOg6k",
    "outputId": "d983f296-6d4d-4e61-b450-2f2456f2cc0f"
   },
   "outputs": [
    {
     "name": "stdout",
     "output_type": "stream",
     "text": [
      "Cat\n"
     ]
    }
   ],
   "source": [
    "# Predicting the loaded image\n",
    "output = model.predict(test_img)\n",
    "\n",
    "# Condition of checking the label of the loaded or tested image\n",
    "if output[0][0] > output[0][1]:\n",
    "    print(\"Cat\")\n",
    "else:\n",
    "    print(\"Dog\")"
   ]
  }
 ],
 "metadata": {
  "accelerator": "GPU",
  "colab": {
   "name": "VGG - CNN Architecture.ipynb",
   "provenance": []
  },
  "kernelspec": {
   "display_name": "Python 3",
   "language": "python",
   "name": "python3"
  },
  "language_info": {
   "codemirror_mode": {
    "name": "ipython",
    "version": 3
   },
   "file_extension": ".py",
   "mimetype": "text/x-python",
   "name": "python",
   "nbconvert_exporter": "python",
   "pygments_lexer": "ipython3",
   "version": "3.8.3"
  },
  "toc": {
   "base_numbering": 1,
   "nav_menu": {},
   "number_sections": true,
   "sideBar": true,
   "skip_h1_title": false,
   "title_cell": "Table of Contents",
   "title_sidebar": "Contents",
   "toc_cell": false,
   "toc_position": {},
   "toc_section_display": true,
   "toc_window_display": true
  }
 },
 "nbformat": 4,
 "nbformat_minor": 1
}
