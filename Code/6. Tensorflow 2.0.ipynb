{
  "nbformat": 4,
  "nbformat_minor": 0,
  "metadata": {
    "kernelspec": {
      "display_name": "Python 3",
      "language": "python",
      "name": "python3"
    },
    "language_info": {
      "codemirror_mode": {
        "name": "ipython",
        "version": 3
      },
      "file_extension": ".py",
      "mimetype": "text/x-python",
      "name": "python",
      "nbconvert_exporter": "python",
      "pygments_lexer": "ipython3",
      "version": "3.8.3"
    },
    "colab": {
      "name": "6. Tensorflow 2.0.ipynb",
      "provenance": [],
      "collapsed_sections": [],
      "toc_visible": true
    }
  },
  "cells": [
    {
      "cell_type": "markdown",
      "metadata": {
        "id": "NjGw05rg50Se",
        "colab_type": "text"
      },
      "source": [
        "# ___Tensorflow-2.0 in Action___"
      ]
    },
    {
      "cell_type": "markdown",
      "metadata": {
        "id": "OiRWc-6J50S1",
        "colab_type": "text"
      },
      "source": [
        "___Tensorflow2.0 is a combination design of Tensorflow1.x and Keras. Considering user feedback and framework development over the past four years, it largely solves the problems in TF 1.x and will become the future machine learning platform.___\n",
        "\n",
        "_Tensorflow 2.0 is built on the following core ideas:_\n",
        "\n",
        "* _The coding is more __pythonic__, so that users can get the results immediately like they are programming in numpy_\n",
        "* _Retaining the characteristics of static graphs (for performance, distributed, and production deployment), this makes TensorFlow __fast, scalable, and ready for production__._\n",
        "* _Using __Keras as a high-level API__ for deep learning, making Tensorflow easy to use and efficient_\n",
        "* _Make the entire framework both high-level features (easy to use, efficient, and not flexible) and low-level features (powerful and scalable, not easy to use, but very flexible)_\n",
        "* ___Eager execution___ _is by default in TensorFlow 2.0 and, it needs no special setup. The following below code can be used to find out whether a CPU or GPU is in use_\n",
        "\n",
        "___Eager execution is a flexible machine learning platform for research and experimentation, providing:___\n",
        "\n",
        "_TensorFlow's eager execution is an imperative programming environment that evaluates operations immediately, without building graphs: operations return concrete values instead of constructing a computational graph to run later._\n",
        "\n",
        "* _An __intuitive interface__—Structure your code naturally and use Python data structures. Quickly iterate on small models and small data._\n",
        "* ___Easier debugging___ _—Call ops directly to inspect running models and test changes. Use standard Python debugging tools for immediate error reporting._\n",
        "* ___Natural control flow___ _—Use Python control flow instead of graph control flow, simplifying the specification of dynamic models._\n",
        "* _Eager execution supports most TensorFlow operations and GPU acceleration._"
      ]
    },
    {
      "cell_type": "markdown",
      "metadata": {
        "id": "0CytaYmN50Sn",
        "colab_type": "text"
      },
      "source": [
        "### ___Installing Latest Version___\n",
        "\n",
        "`pip install tensorflow`"
      ]
    },
    {
      "cell_type": "code",
      "metadata": {
        "id": "en4auKZ950Ss",
        "colab_type": "code",
        "colab": {
          "base_uri": "https://localhost:8080/",
          "height": 50
        },
        "outputId": "9cb05a29-53e8-42db-a0b8-ab9c98a6f481"
      },
      "source": [
        "import tensorflow as tf\n",
        "\n",
        "print(\"TensorFlow version: {}\".format(tf.__version__))\n",
        "print(\"Keras version: {}\".format(tf.keras.__version__))"
      ],
      "execution_count": 1,
      "outputs": [
        {
          "output_type": "stream",
          "text": [
            "TensorFlow version: 2.3.0\n",
            "Keras version: 2.4.0\n"
          ],
          "name": "stdout"
        }
      ]
    },
    {
      "cell_type": "markdown",
      "metadata": {
        "id": "3v9EkeJh50S9",
        "colab_type": "text"
      },
      "source": [
        "### ___Tensor Constant___"
      ]
    },
    {
      "cell_type": "code",
      "metadata": {
        "id": "LFsJGw1R50S-",
        "colab_type": "code",
        "colab": {
          "base_uri": "https://localhost:8080/",
          "height": 33
        },
        "outputId": "dd2d7056-03fd-4663-c0dc-8e98b9e6f26d"
      },
      "source": [
        "constant = tf.constant(42)\n",
        "constant"
      ],
      "execution_count": 2,
      "outputs": [
        {
          "output_type": "execute_result",
          "data": {
            "text/plain": [
              "<tf.Tensor: shape=(), dtype=int32, numpy=42>"
            ]
          },
          "metadata": {
            "tags": []
          },
          "execution_count": 2
        }
      ]
    },
    {
      "cell_type": "code",
      "metadata": {
        "id": "idWmo8_s50TE",
        "colab_type": "code",
        "colab": {
          "base_uri": "https://localhost:8080/",
          "height": 33
        },
        "outputId": "07d64f56-c6f0-4d5c-8926-3972333dabb1"
      },
      "source": [
        "# To print the value\n",
        "constant.numpy()"
      ],
      "execution_count": 3,
      "outputs": [
        {
          "output_type": "execute_result",
          "data": {
            "text/plain": [
              "42"
            ]
          },
          "metadata": {
            "tags": []
          },
          "execution_count": 3
        }
      ]
    },
    {
      "cell_type": "code",
      "metadata": {
        "id": "KL_pWo4u50TL",
        "colab_type": "code",
        "colab": {
          "base_uri": "https://localhost:8080/",
          "height": 33
        },
        "outputId": "067bfc68-3df5-437c-bbdf-368861d06226"
      },
      "source": [
        "# constant with data type\n",
        "constant = tf.constant(1, dtype = tf.int64)\n",
        "constant"
      ],
      "execution_count": 4,
      "outputs": [
        {
          "output_type": "execute_result",
          "data": {
            "text/plain": [
              "<tf.Tensor: shape=(), dtype=int64, numpy=1>"
            ]
          },
          "metadata": {
            "tags": []
          },
          "execution_count": 4
        }
      ]
    },
    {
      "cell_type": "code",
      "metadata": {
        "id": "O0ParquO50TQ",
        "colab_type": "code",
        "colab": {
          "base_uri": "https://localhost:8080/",
          "height": 66
        },
        "outputId": "9d7f5dbe-45ac-475d-c903-adb5536307e3"
      },
      "source": [
        "# Defining a matrix\n",
        "constant = tf.constant([[4,2],[9,5]])\n",
        "print(constant)"
      ],
      "execution_count": 5,
      "outputs": [
        {
          "output_type": "stream",
          "text": [
            "tf.Tensor(\n",
            "[[4 2]\n",
            " [9 5]], shape=(2, 2), dtype=int32)\n"
          ],
          "name": "stdout"
        }
      ]
    },
    {
      "cell_type": "code",
      "metadata": {
        "id": "D--IvwQp50TV",
        "colab_type": "code",
        "colab": {
          "base_uri": "https://localhost:8080/",
          "height": 50
        },
        "outputId": "dd083662-84c1-408c-8e1c-a1f6027174ed"
      },
      "source": [
        "constant.numpy()"
      ],
      "execution_count": 6,
      "outputs": [
        {
          "output_type": "execute_result",
          "data": {
            "text/plain": [
              "array([[4, 2],\n",
              "       [9, 5]], dtype=int32)"
            ]
          },
          "metadata": {
            "tags": []
          },
          "execution_count": 6
        }
      ]
    },
    {
      "cell_type": "code",
      "metadata": {
        "id": "_puJtRSe50Ta",
        "colab_type": "code",
        "colab": {
          "base_uri": "https://localhost:8080/",
          "height": 50
        },
        "outputId": "83d77836-af8d-49bb-fa16-07121c76151e"
      },
      "source": [
        "print('shape:',constant.shape)\n",
        "print(constant.dtype)"
      ],
      "execution_count": 7,
      "outputs": [
        {
          "output_type": "stream",
          "text": [
            "shape: (2, 2)\n",
            "<dtype: 'int32'>\n"
          ],
          "name": "stdout"
        }
      ]
    },
    {
      "cell_type": "markdown",
      "metadata": {
        "id": "EvelMrhC50Te",
        "colab_type": "text"
      },
      "source": [
        "#### ___tf.ones and tf.zeros like of numpy - np.ones & np.zeros___"
      ]
    },
    {
      "cell_type": "code",
      "metadata": {
        "id": "6xwSWz9U50Te",
        "colab_type": "code",
        "colab": {
          "base_uri": "https://localhost:8080/",
          "height": 66
        },
        "outputId": "7ba15063-d901-4d4a-ebc7-2bec591d38f7"
      },
      "source": [
        "print(tf.ones(shape=(2,3)))"
      ],
      "execution_count": 8,
      "outputs": [
        {
          "output_type": "stream",
          "text": [
            "tf.Tensor(\n",
            "[[1. 1. 1.]\n",
            " [1. 1. 1.]], shape=(2, 3), dtype=float32)\n"
          ],
          "name": "stdout"
        }
      ]
    },
    {
      "cell_type": "code",
      "metadata": {
        "id": "gfFpORko50Tj",
        "colab_type": "code",
        "colab": {
          "base_uri": "https://localhost:8080/",
          "height": 82
        },
        "outputId": "1f7f1eef-64ac-4873-e508-adef50063910"
      },
      "source": [
        "print(tf.zeros(shape=(3,2)))"
      ],
      "execution_count": 9,
      "outputs": [
        {
          "output_type": "stream",
          "text": [
            "tf.Tensor(\n",
            "[[0. 0.]\n",
            " [0. 0.]\n",
            " [0. 0.]], shape=(3, 2), dtype=float32)\n"
          ],
          "name": "stdout"
        }
      ]
    },
    {
      "cell_type": "code",
      "metadata": {
        "id": "lCp4dTcL50To",
        "colab_type": "code",
        "colab": {
          "base_uri": "https://localhost:8080/",
          "height": 66
        },
        "outputId": "52bd66f5-b6b0-491c-f165-18c1fab4c56b"
      },
      "source": [
        "const2 = tf.constant([[3,4,5], [3,4,5]]);\n",
        "const1 = tf.constant([[1,2,3], [1,2,3]]);\n",
        "result = tf.add(const1, const2);\n",
        "print(result)"
      ],
      "execution_count": 10,
      "outputs": [
        {
          "output_type": "stream",
          "text": [
            "tf.Tensor(\n",
            "[[4 6 8]\n",
            " [4 6 8]], shape=(2, 3), dtype=int32)\n"
          ],
          "name": "stdout"
        }
      ]
    },
    {
      "cell_type": "code",
      "metadata": {
        "id": "HNL0qWZ8O4_k",
        "colab_type": "code",
        "colab": {
          "base_uri": "https://localhost:8080/",
          "height": 50
        },
        "outputId": "f15958fa-0a13-4a48-fe54-b72752a08d1f"
      },
      "source": [
        "result.numpy()"
      ],
      "execution_count": 11,
      "outputs": [
        {
          "output_type": "execute_result",
          "data": {
            "text/plain": [
              "array([[4, 6, 8],\n",
              "       [4, 6, 8]], dtype=int32)"
            ]
          },
          "metadata": {
            "tags": []
          },
          "execution_count": 11
        }
      ]
    },
    {
      "cell_type": "markdown",
      "metadata": {
        "id": "L8SBszUe50Tu",
        "colab_type": "text"
      },
      "source": [
        "#### ___Random constant___"
      ]
    },
    {
      "cell_type": "code",
      "metadata": {
        "id": "SfD4g1oz50Tv",
        "colab_type": "code",
        "colab": {
          "base_uri": "https://localhost:8080/",
          "height": 66
        },
        "outputId": "45fbc310-d99c-4e61-8d3a-06723726dd32"
      },
      "source": [
        "# Random Variables with Normal Distribution\n",
        "\n",
        "tf.random.normal(shape=(2,2), mean=0, stddev=1.0)"
      ],
      "execution_count": 12,
      "outputs": [
        {
          "output_type": "execute_result",
          "data": {
            "text/plain": [
              "<tf.Tensor: shape=(2, 2), dtype=float32, numpy=\n",
              "array([[ 1.5365436 ,  0.67560637],\n",
              "       [-0.414258  , -1.0994934 ]], dtype=float32)>"
            ]
          },
          "metadata": {
            "tags": []
          },
          "execution_count": 12
        }
      ]
    },
    {
      "cell_type": "code",
      "metadata": {
        "id": "jTiaFZ7Y50Tz",
        "colab_type": "code",
        "colab": {
          "base_uri": "https://localhost:8080/",
          "height": 66
        },
        "outputId": "21b92d32-47e6-4155-8fcf-cd596161677e"
      },
      "source": [
        "# Random Uniform Distributions\n",
        "\n",
        "tf.random.uniform(shape=(2,2), minval=0, maxval=10, dtype=tf.int32)"
      ],
      "execution_count": 13,
      "outputs": [
        {
          "output_type": "execute_result",
          "data": {
            "text/plain": [
              "<tf.Tensor: shape=(2, 2), dtype=int32, numpy=\n",
              "array([[6, 3],\n",
              "       [6, 7]], dtype=int32)>"
            ]
          },
          "metadata": {
            "tags": []
          },
          "execution_count": 13
        }
      ]
    },
    {
      "cell_type": "markdown",
      "metadata": {
        "id": "pmLkQomy50T6",
        "colab_type": "text"
      },
      "source": [
        "### ___Variables___"
      ]
    },
    {
      "cell_type": "markdown",
      "metadata": {
        "id": "UUNWDPoP50T7",
        "colab_type": "text"
      },
      "source": [
        "_A variable is a special tensor that is used to store variable values ​​and needs to be initialized with some values._"
      ]
    },
    {
      "cell_type": "markdown",
      "metadata": {
        "id": "jyqRvIYc50T8",
        "colab_type": "text"
      },
      "source": [
        "#### ___Declaring Variables___"
      ]
    },
    {
      "cell_type": "code",
      "metadata": {
        "id": "ix0TwwMZ50T8",
        "colab_type": "code",
        "colab": {
          "base_uri": "https://localhost:8080/",
          "height": 147
        },
        "outputId": "9160b6e7-ca3d-4583-b58b-22a360b6174e"
      },
      "source": [
        "var0 = 24 # python variable\n",
        "\n",
        "var1 = tf.Variable(42) # rank 0 tensor\n",
        "\n",
        "var2 = tf.Variable([ [ [0., 1., 2.], [3., 4., 5.] ], [ [6., 7., 8.], [9., 10., 11.] ] ]) #rank 3 tensor\n",
        "\n",
        "var0, var1, var2"
      ],
      "execution_count": 14,
      "outputs": [
        {
          "output_type": "execute_result",
          "data": {
            "text/plain": [
              "(24,\n",
              " <tf.Variable 'Variable:0' shape=() dtype=int32, numpy=42>,\n",
              " <tf.Variable 'Variable:0' shape=(2, 2, 3) dtype=float32, numpy=\n",
              " array([[[ 0.,  1.,  2.],\n",
              "         [ 3.,  4.,  5.]],\n",
              " \n",
              "        [[ 6.,  7.,  8.],\n",
              "         [ 9., 10., 11.]]], dtype=float32)>)"
            ]
          },
          "metadata": {
            "tags": []
          },
          "execution_count": 14
        }
      ]
    },
    {
      "cell_type": "markdown",
      "metadata": {
        "id": "udfIhMSA50UA",
        "colab_type": "text"
      },
      "source": [
        "_TensorFlow will infer the datatype, defaulting to tf.float32 for floats and tf.int32 for integers._"
      ]
    },
    {
      "cell_type": "markdown",
      "metadata": {
        "id": "WO-F41wF50UB",
        "colab_type": "text"
      },
      "source": [
        "___The datatype can be explicitly specified:___"
      ]
    },
    {
      "cell_type": "code",
      "metadata": {
        "id": "S2rKQzgZ50UC",
        "colab_type": "code",
        "colab": {
          "base_uri": "https://localhost:8080/",
          "height": 33
        },
        "outputId": "dcfd71c5-5cca-426b-e5e8-e472f70e4e48"
      },
      "source": [
        "float_var64 = tf.Variable(89, dtype = tf.float64)\n",
        "float_var64.dtype"
      ],
      "execution_count": 15,
      "outputs": [
        {
          "output_type": "execute_result",
          "data": {
            "text/plain": [
              "tf.float64"
            ]
          },
          "metadata": {
            "tags": []
          },
          "execution_count": 15
        }
      ]
    },
    {
      "cell_type": "markdown",
      "metadata": {
        "id": "GYCisu0g50UG",
        "colab_type": "text"
      },
      "source": [
        "#### ___Datatypes in TF 2.x___\n",
        "\n",
        "* _tf.float16: 16-bit half-precision floating-point._\n",
        "* _tf.float32: 32-bit single-precision floating-point._\n",
        "* _tf.float64: 64-bit double-precision floating-point._\n",
        "* _tf.bfloat16: 16-bit truncated floating-point._\n",
        "* _tf.complex64: 64-bit single-precision complex._\n",
        "* _tf.complex128: 128-bit double-precision complex._\n",
        "* _tf.int8: 8-bit signed integer._\n",
        "* _tf.uint8: 8-bit unsigned integer._\n",
        "* _tf.uint16: 16-bit unsigned integer._\n",
        "* _tf.uint32: 32-bit unsigned integer._\n",
        "* _tf.uint64: 64-bit unsigned integer._\n",
        "* _tf.int16: 16-bit signed integer._\n",
        "* _tf.int32: 32-bit signed integer._\n",
        "* _tf.int64: 64-bit signed integer._\n",
        "* _tf.bool: Boolean._\n",
        "* _tf.string: String._\n",
        "* _tf.qint8: Quantized 8-bit signed integer._\n",
        "* _tf.quint8: Quantized 8-bit unsigned integer._\n",
        "* _tf.qint16: Quantized 16-bit signed integer._\n",
        "* _tf.quint16: Quantized 16-bit unsigned integer._\n",
        "* _tf.qint32: Quantized 32-bit signed integer._\n",
        "* _tf.resource: Handle to a mutable resource._\n",
        "* _tf.variant: Values of arbitrary types._\n"
      ]
    },
    {
      "cell_type": "markdown",
      "metadata": {
        "id": "VI_7Bw7U50UH",
        "colab_type": "text"
      },
      "source": [
        "#### ___Reassign value to a variable, use var.assign()___"
      ]
    },
    {
      "cell_type": "code",
      "metadata": {
        "id": "XiJ_EiDG50UJ",
        "colab_type": "code",
        "colab": {
          "base_uri": "https://localhost:8080/",
          "height": 33
        },
        "outputId": "e56b6a40-effe-4328-809d-39e5e0f4cb17"
      },
      "source": [
        "var_reassign = tf.Variable(89.)\n",
        "var_reassign"
      ],
      "execution_count": 16,
      "outputs": [
        {
          "output_type": "execute_result",
          "data": {
            "text/plain": [
              "<tf.Variable 'Variable:0' shape=() dtype=float32, numpy=89.0>"
            ]
          },
          "metadata": {
            "tags": []
          },
          "execution_count": 16
        }
      ]
    },
    {
      "cell_type": "code",
      "metadata": {
        "id": "FMeKzPL950UO",
        "colab_type": "code",
        "colab": {
          "base_uri": "https://localhost:8080/",
          "height": 33
        },
        "outputId": "d5548f07-5635-4d42-afc0-7e6af57b74a6"
      },
      "source": [
        "# Reassigning a value\n",
        "\n",
        "var_reassign.assign(98.)\n",
        "var_reassign"
      ],
      "execution_count": 17,
      "outputs": [
        {
          "output_type": "execute_result",
          "data": {
            "text/plain": [
              "<tf.Variable 'Variable:0' shape=() dtype=float32, numpy=98.0>"
            ]
          },
          "metadata": {
            "tags": []
          },
          "execution_count": 17
        }
      ]
    },
    {
      "cell_type": "code",
      "metadata": {
        "id": "4nqTKZYQ50US",
        "colab_type": "code",
        "colab": {
          "base_uri": "https://localhost:8080/",
          "height": 66
        },
        "outputId": "76de2057-e71e-481f-c6b2-6084ab72b498"
      },
      "source": [
        "initial_value = tf.random.normal(shape=(2,2))\n",
        "a = tf.Variable(initial_value)\n",
        "print(a)"
      ],
      "execution_count": 18,
      "outputs": [
        {
          "output_type": "stream",
          "text": [
            "<tf.Variable 'Variable:0' shape=(2, 2) dtype=float32, numpy=\n",
            "array([[ 2.5881362 ,  1.6461525 ],\n",
            "       [-0.17538707,  1.3586714 ]], dtype=float32)>\n"
          ],
          "name": "stdout"
        }
      ]
    },
    {
      "cell_type": "markdown",
      "metadata": {
        "id": "ZMstJ9DV50UV",
        "colab_type": "text"
      },
      "source": [
        "_We can assign \"=\" with assign (value), or assign_add (value) with \"+ =\", or assign_sub (value) with \"-=\"_"
      ]
    },
    {
      "cell_type": "code",
      "metadata": {
        "id": "QUhQA3YT50UW",
        "colab_type": "code",
        "colab": {}
      },
      "source": [
        "new_value = tf.random.normal(shape=(2, 2))\n",
        "a.assign(new_value)\n",
        "for i in range(2):\n",
        "    for j in range(2):\n",
        "        assert a[i, j] == new_value[i, j]"
      ],
      "execution_count": 19,
      "outputs": []
    },
    {
      "cell_type": "code",
      "metadata": {
        "id": "uqBthtRMQRuv",
        "colab_type": "code",
        "colab": {
          "base_uri": "https://localhost:8080/",
          "height": 50
        },
        "outputId": "0a5680d6-aca0-4a00-d4b3-36e9255d1aef"
      },
      "source": [
        "a.numpy()"
      ],
      "execution_count": 20,
      "outputs": [
        {
          "output_type": "execute_result",
          "data": {
            "text/plain": [
              "array([[-1.5438577 ,  1.338098  ],\n",
              "       [ 0.8550197 ,  0.00755402]], dtype=float32)"
            ]
          },
          "metadata": {
            "tags": []
          },
          "execution_count": 20
        }
      ]
    },
    {
      "cell_type": "code",
      "metadata": {
        "id": "h5Nb9D7k50Ud",
        "colab_type": "code",
        "colab": {
          "base_uri": "https://localhost:8080/",
          "height": 50
        },
        "outputId": "df87639d-05ae-45bf-cfb7-2ea13bff5a3d"
      },
      "source": [
        "added_value = tf.random.normal(shape=(2,2))\n",
        "a.assign_add(added_value)\n",
        "for i in range(2):\n",
        "    for j in range(2):\n",
        "        assert a[i,j] == new_value[i,j]+added_value[i,j]\n",
        "\n",
        "a.numpy()        "
      ],
      "execution_count": 21,
      "outputs": [
        {
          "output_type": "execute_result",
          "data": {
            "text/plain": [
              "array([[-0.39908493,  1.0237242 ],\n",
              "       [ 0.8378687 ,  0.5914892 ]], dtype=float32)"
            ]
          },
          "metadata": {
            "tags": []
          },
          "execution_count": 21
        }
      ]
    },
    {
      "cell_type": "markdown",
      "metadata": {
        "id": "G7K8VtKa50Uj",
        "colab_type": "text"
      },
      "source": [
        "### ___Shaping a Tensor___"
      ]
    },
    {
      "cell_type": "code",
      "metadata": {
        "id": "E0MKWJ_Y50Uk",
        "colab_type": "code",
        "colab": {
          "base_uri": "https://localhost:8080/",
          "height": 33
        },
        "outputId": "f720a000-185c-427e-9609-22b5e69531e1"
      },
      "source": [
        "tensor = tf.Variable([ [ [10., 11., 12.], [13., 14., 15.] ], [ [16., 17., 18.], [19., 20., 21.] ] ]) # tensor variable\n",
        "print(tensor.shape)"
      ],
      "execution_count": 22,
      "outputs": [
        {
          "output_type": "stream",
          "text": [
            "(2, 2, 3)\n"
          ],
          "name": "stdout"
        }
      ]
    },
    {
      "cell_type": "code",
      "metadata": {
        "id": "_leBUcwN50Uq",
        "colab_type": "code",
        "colab": {
          "base_uri": "https://localhost:8080/",
          "height": 66
        },
        "outputId": "329d1777-0c65-4d82-942b-d2fa6eeb9c6c"
      },
      "source": [
        "tensor1 = tf.reshape(tensor,[2,6]) # 2 rows 6 cols\n",
        "tensor1"
      ],
      "execution_count": 23,
      "outputs": [
        {
          "output_type": "execute_result",
          "data": {
            "text/plain": [
              "<tf.Tensor: shape=(2, 6), dtype=float32, numpy=\n",
              "array([[10., 11., 12., 13., 14., 15.],\n",
              "       [16., 17., 18., 19., 20., 21.]], dtype=float32)>"
            ]
          },
          "metadata": {
            "tags": []
          },
          "execution_count": 23
        }
      ]
    },
    {
      "cell_type": "code",
      "metadata": {
        "id": "vtx4Q7uE50Uv",
        "colab_type": "code",
        "colab": {
          "base_uri": "https://localhost:8080/",
          "height": 66
        },
        "outputId": "d41e75c2-c8a9-4204-fb8e-4471af8233cb"
      },
      "source": [
        "tensor2 = tf.reshape(tensor,[1,12]) # 1 row 12 columns\n",
        "tensor2"
      ],
      "execution_count": 24,
      "outputs": [
        {
          "output_type": "execute_result",
          "data": {
            "text/plain": [
              "<tf.Tensor: shape=(1, 12), dtype=float32, numpy=\n",
              "array([[10., 11., 12., 13., 14., 15., 16., 17., 18., 19., 20., 21.]],\n",
              "      dtype=float32)>"
            ]
          },
          "metadata": {
            "tags": []
          },
          "execution_count": 24
        }
      ]
    },
    {
      "cell_type": "markdown",
      "metadata": {
        "id": "-jyPmPzK50Uz",
        "colab_type": "text"
      },
      "source": [
        "### ___Rank of a Tensor___"
      ]
    },
    {
      "cell_type": "markdown",
      "metadata": {
        "id": "8BRZM7hg50U0",
        "colab_type": "text"
      },
      "source": [
        "_The rank of a tensor is defined as the number of dimensions, which is the number of indices that are required to specify any particular element of that tensor._"
      ]
    },
    {
      "cell_type": "code",
      "metadata": {
        "id": "tlLcI7of50U1",
        "colab_type": "code",
        "colab": {
          "base_uri": "https://localhost:8080/",
          "height": 33
        },
        "outputId": "683a85f7-2782-466f-e015-b2657388009d"
      },
      "source": [
        "tf.rank(tensor)"
      ],
      "execution_count": 25,
      "outputs": [
        {
          "output_type": "execute_result",
          "data": {
            "text/plain": [
              "<tf.Tensor: shape=(), dtype=int32, numpy=3>"
            ]
          },
          "metadata": {
            "tags": []
          },
          "execution_count": 25
        }
      ]
    },
    {
      "cell_type": "markdown",
      "metadata": {
        "id": "qXTKH_tt50U8",
        "colab_type": "text"
      },
      "source": [
        "#### ___Specifying an element of a tensor___"
      ]
    },
    {
      "cell_type": "code",
      "metadata": {
        "id": "8Lk0X4or50U9",
        "colab_type": "code",
        "colab": {
          "base_uri": "https://localhost:8080/",
          "height": 33
        },
        "outputId": "826e1fb7-b127-4499-b908-a8237486dfb8"
      },
      "source": [
        "tensor3 = tensor[1, 0, 2] # slice 1, row 0, column 2\n",
        "tensor3"
      ],
      "execution_count": 26,
      "outputs": [
        {
          "output_type": "execute_result",
          "data": {
            "text/plain": [
              "<tf.Tensor: shape=(), dtype=float32, numpy=18.0>"
            ]
          },
          "metadata": {
            "tags": []
          },
          "execution_count": 26
        }
      ]
    },
    {
      "cell_type": "markdown",
      "metadata": {
        "id": "jhLu3GDu50Vr",
        "colab_type": "text"
      },
      "source": [
        "### ___Casting a Tensor to Another Datatype___"
      ]
    },
    {
      "cell_type": "code",
      "metadata": {
        "id": "fQpHCBxy50Vs",
        "colab_type": "code",
        "colab": {
          "base_uri": "https://localhost:8080/",
          "height": 66
        },
        "outputId": "0b96862f-8d83-48d0-a2a2-811048779399"
      },
      "source": [
        "i = tf.cast(tensor1, dtype=tf.int32)\n",
        "i"
      ],
      "execution_count": 35,
      "outputs": [
        {
          "output_type": "execute_result",
          "data": {
            "text/plain": [
              "<tf.Tensor: shape=(2, 6), dtype=int32, numpy=\n",
              "array([[10, 11, 12, 13, 14, 15],\n",
              "       [16, 17, 18, 19, 20, 21]], dtype=int32)>"
            ]
          },
          "metadata": {
            "tags": []
          },
          "execution_count": 35
        }
      ]
    },
    {
      "cell_type": "markdown",
      "metadata": {
        "id": "nsOn7VfF50Vx",
        "colab_type": "text"
      },
      "source": [
        "#### ___Casting with Truncation___"
      ]
    },
    {
      "cell_type": "code",
      "metadata": {
        "id": "FutqO1qb50Vy",
        "colab_type": "code",
        "colab": {},
        "outputId": "1daf47b4-c596-4e1a-bc87-e766402584ff"
      },
      "source": [
        "j = tf.cast(tf.constant(4.9), dtype=tf.int32)\n",
        "j"
      ],
      "execution_count": null,
      "outputs": [
        {
          "output_type": "execute_result",
          "data": {
            "text/plain": [
              "<tf.Tensor: id=244, shape=(), dtype=int32, numpy=4>"
            ]
          },
          "metadata": {
            "tags": []
          },
          "execution_count": 35
        }
      ]
    },
    {
      "cell_type": "markdown",
      "metadata": {
        "id": "EyCRxMQ950VC",
        "colab_type": "text"
      },
      "source": [
        "#### ___Casting a tensor to a NumPy Variable___"
      ]
    },
    {
      "cell_type": "code",
      "metadata": {
        "id": "yAguQpz550VC",
        "colab_type": "code",
        "colab": {
          "base_uri": "https://localhost:8080/",
          "height": 98
        },
        "outputId": "66f02f27-d4bb-47c7-a5a6-745edc05ef57"
      },
      "source": [
        "print(tensor.numpy())"
      ],
      "execution_count": 27,
      "outputs": [
        {
          "output_type": "stream",
          "text": [
            "[[[10. 11. 12.]\n",
            "  [13. 14. 15.]]\n",
            "\n",
            " [[16. 17. 18.]\n",
            "  [19. 20. 21.]]]\n"
          ],
          "name": "stdout"
        }
      ]
    },
    {
      "cell_type": "code",
      "metadata": {
        "id": "Wq2QfN-x50VH",
        "colab_type": "code",
        "colab": {
          "base_uri": "https://localhost:8080/",
          "height": 33
        },
        "outputId": "424bac86-b9da-43fc-f8b2-8d844a122aee"
      },
      "source": [
        "print(tensor[1, 0, 2].numpy())"
      ],
      "execution_count": 28,
      "outputs": [
        {
          "output_type": "stream",
          "text": [
            "18.0\n"
          ],
          "name": "stdout"
        }
      ]
    },
    {
      "cell_type": "markdown",
      "metadata": {
        "id": "mz7j1mOi50VM",
        "colab_type": "text"
      },
      "source": [
        "### ___Finding the Size or Length of a Tensor___"
      ]
    },
    {
      "cell_type": "code",
      "metadata": {
        "id": "BmrGt3T950VM",
        "colab_type": "code",
        "colab": {
          "base_uri": "https://localhost:8080/",
          "height": 33
        },
        "outputId": "0358c97b-4b84-4a09-8853-9e26d179b5e7"
      },
      "source": [
        "tensor_size = tf.size(input=tensor).numpy()\n",
        "tensor_size"
      ],
      "execution_count": 29,
      "outputs": [
        {
          "output_type": "execute_result",
          "data": {
            "text/plain": [
              "12"
            ]
          },
          "metadata": {
            "tags": []
          },
          "execution_count": 29
        }
      ]
    },
    {
      "cell_type": "code",
      "metadata": {
        "id": "7NDpHc-Y50VQ",
        "colab_type": "code",
        "colab": {
          "base_uri": "https://localhost:8080/",
          "height": 33
        },
        "outputId": "fc7907ed-654f-43d8-c069-f3ba9b550519"
      },
      "source": [
        "#the datatype of a tensor\n",
        "tensor3.dtype"
      ],
      "execution_count": 30,
      "outputs": [
        {
          "output_type": "execute_result",
          "data": {
            "text/plain": [
              "tf.float32"
            ]
          },
          "metadata": {
            "tags": []
          },
          "execution_count": 30
        }
      ]
    },
    {
      "cell_type": "markdown",
      "metadata": {
        "id": "3Lyglioa50V3",
        "colab_type": "text"
      },
      "source": [
        "### ___Ragged Tensors___"
      ]
    },
    {
      "cell_type": "markdown",
      "metadata": {
        "id": "xb9nZGQt50V3",
        "colab_type": "text"
      },
      "source": [
        "_A ragged tensor is a tensor having one or more ragged dimensions. Ragged dimensions are dimensions that have slices having various lengths.There are a variety of methods for the declaration of ragged arrays, the simplest way is declaring a constant ragged array._"
      ]
    },
    {
      "cell_type": "code",
      "metadata": {
        "id": "6rXUmE0Q50V5",
        "colab_type": "code",
        "colab": {
          "base_uri": "https://localhost:8080/",
          "height": 115
        },
        "outputId": "32c24033-62ba-4730-863b-739acb988fb8"
      },
      "source": [
        "ragged =tf.ragged.constant([[9, 7, 4, 3], [], [11, 12, 8], [3], [7,8]])\n",
        "print(ragged)\n",
        "\n",
        "print(ragged[0,:])\n",
        "print(ragged[1,:])\n",
        "print(ragged[2,:])\n",
        "print(ragged[3,:])\n",
        "print(ragged[4,:])"
      ],
      "execution_count": 36,
      "outputs": [
        {
          "output_type": "stream",
          "text": [
            "<tf.RaggedTensor [[9, 7, 4, 3], [], [11, 12, 8], [3], [7, 8]]>\n",
            "tf.Tensor([9 7 4 3], shape=(4,), dtype=int32)\n",
            "tf.Tensor([], shape=(0,), dtype=int32)\n",
            "tf.Tensor([11 12  8], shape=(3,), dtype=int32)\n",
            "tf.Tensor([3], shape=(1,), dtype=int32)\n",
            "tf.Tensor([7 8], shape=(2,), dtype=int32)\n"
          ],
          "name": "stdout"
        }
      ]
    },
    {
      "cell_type": "markdown",
      "metadata": {
        "id": "n7q-3QEp50Vd",
        "colab_type": "text"
      },
      "source": [
        "### ___Broadcasting in Tensorflow___\n",
        "\n",
        "* _Element-wise tensor operations support broadcasting in the same way that NumPy arrays do._\n",
        "\n",
        "* _The simplest example is multiplication of  a tensor by a scalar value._\n",
        "\n",
        "_The term __Broadcasting__ refers to the ability of NumPy to treat arrays of different shapes during arithmetic operations. Arithmetic operations on arrays are usually done on corresponding elements. If two arrays are of exactly the same shape, then these operations are smoothly performed._\n",
        "\n",
        "_If the dimensions of two arrays are dissimilar, element-to-element operations are not possible. However, operations on arrays of non-similar shapes is still possible in NumPy, because of the broadcasting capability. The smaller array is broadcast to the size of the larger array so that they have compatible shapes._"
      ]
    },
    {
      "cell_type": "code",
      "metadata": {
        "id": "WecQmCvy50Ve",
        "colab_type": "code",
        "colab": {
          "base_uri": "https://localhost:8080/",
          "height": 115
        },
        "outputId": "2b2b6da6-7d14-429e-a885-74f56e659558"
      },
      "source": [
        "tensor4 = tensor*4\n",
        "print(tensor4)"
      ],
      "execution_count": 33,
      "outputs": [
        {
          "output_type": "stream",
          "text": [
            "tf.Tensor(\n",
            "[[[40. 44. 48.]\n",
            "  [52. 56. 60.]]\n",
            "\n",
            " [[64. 68. 72.]\n",
            "  [76. 80. 84.]]], shape=(2, 2, 3), dtype=float32)\n"
          ],
          "name": "stdout"
        }
      ]
    },
    {
      "cell_type": "markdown",
      "metadata": {
        "id": "6McEelZK50VU",
        "colab_type": "text"
      },
      "source": [
        "### ___Tensorflow Mathematical Operations___"
      ]
    },
    {
      "cell_type": "code",
      "metadata": {
        "id": "CjzU8IWz50VU",
        "colab_type": "code",
        "colab": {
          "base_uri": "https://localhost:8080/",
          "height": 261
        },
        "outputId": "5d89eed5-531b-4f22-b81f-d09f9e819fc3"
      },
      "source": [
        "a = tf.random.normal(shape=(2,2))\n",
        "b = tf.random.normal(shape=(2,2))\n",
        "\n",
        "c = a + b\n",
        "\n",
        "d = tf.square(c)\n",
        "\n",
        "e = tf.exp(c)\n",
        "\n",
        "print(a)\n",
        "print(b)\n",
        "print(c)\n",
        "print(d)\n",
        "print(e)"
      ],
      "execution_count": 31,
      "outputs": [
        {
          "output_type": "stream",
          "text": [
            "tf.Tensor(\n",
            "[[-2.3635287  0.6253386]\n",
            " [-1.4655626  0.8941015]], shape=(2, 2), dtype=float32)\n",
            "tf.Tensor(\n",
            "[[ 0.9582005  -0.14607397]\n",
            " [-0.56347567  0.85606223]], shape=(2, 2), dtype=float32)\n",
            "tf.Tensor(\n",
            "[[-1.4053283   0.47926465]\n",
            " [-2.0290382   1.7501638 ]], shape=(2, 2), dtype=float32)\n",
            "tf.Tensor(\n",
            "[[1.9749476 0.2296946]\n",
            " [4.116996  3.0630734]], shape=(2, 2), dtype=float32)\n",
            "tf.Tensor(\n",
            "[[0.24528652 1.6148864 ]\n",
            " [0.1314619  5.755545  ]], shape=(2, 2), dtype=float32)\n"
          ],
          "name": "stdout"
        }
      ]
    },
    {
      "cell_type": "markdown",
      "metadata": {
        "id": "CP1grBye50VY",
        "colab_type": "text"
      },
      "source": [
        "#### ___Element-Wise Primitive Tensor Operations___"
      ]
    },
    {
      "cell_type": "code",
      "metadata": {
        "id": "4J3YLvYc50VZ",
        "colab_type": "code",
        "colab": {
          "base_uri": "https://localhost:8080/",
          "height": 115
        },
        "outputId": "f5faf4d8-0bb1-483b-e005-8c9744f0a126"
      },
      "source": [
        "tensor*tensor"
      ],
      "execution_count": 32,
      "outputs": [
        {
          "output_type": "execute_result",
          "data": {
            "text/plain": [
              "<tf.Tensor: shape=(2, 2, 3), dtype=float32, numpy=\n",
              "array([[[100., 121., 144.],\n",
              "        [169., 196., 225.]],\n",
              "\n",
              "       [[256., 289., 324.],\n",
              "        [361., 400., 441.]]], dtype=float32)>"
            ]
          },
          "metadata": {
            "tags": []
          },
          "execution_count": 32
        }
      ]
    },
    {
      "cell_type": "markdown",
      "metadata": {
        "id": "gZHkkmR750Vh",
        "colab_type": "text"
      },
      "source": [
        "#### ___Transpose Matrix Multiplication___"
      ]
    },
    {
      "cell_type": "code",
      "metadata": {
        "id": "Se_hq22y50Vj",
        "colab_type": "code",
        "colab": {
          "base_uri": "https://localhost:8080/",
          "height": 33
        },
        "outputId": "1dd2c464-8c06-432d-df7f-ec51c3dbdc72"
      },
      "source": [
        "matrix_u = tf.constant([[6,7,6]])\n",
        "matrix_v = tf.constant([[3,4,3]])\n",
        "\n",
        "tf.matmul(matrix_u, tf.transpose(a=matrix_v))"
      ],
      "execution_count": 34,
      "outputs": [
        {
          "output_type": "execute_result",
          "data": {
            "text/plain": [
              "<tf.Tensor: shape=(1, 1), dtype=int32, numpy=array([[64]], dtype=int32)>"
            ]
          },
          "metadata": {
            "tags": []
          },
          "execution_count": 34
        }
      ]
    },
    {
      "cell_type": "markdown",
      "metadata": {
        "id": "YqBQr-Nm50V_",
        "colab_type": "text"
      },
      "source": [
        "#### ___Squared Difference of Tensors___"
      ]
    },
    {
      "cell_type": "code",
      "metadata": {
        "id": "-cYvy7pV50V_",
        "colab_type": "code",
        "colab": {
          "base_uri": "https://localhost:8080/",
          "height": 33
        },
        "outputId": "78719101-ba50-41c2-bfae-05ef079c9cce"
      },
      "source": [
        "varx = [4,5,6,1,2]\n",
        "vary = 8\n",
        "\n",
        "varz = tf.math.squared_difference(varx,vary)\n",
        "varz"
      ],
      "execution_count": 37,
      "outputs": [
        {
          "output_type": "execute_result",
          "data": {
            "text/plain": [
              "<tf.Tensor: shape=(5,), dtype=int32, numpy=array([16,  9,  4, 49, 36], dtype=int32)>"
            ]
          },
          "metadata": {
            "tags": []
          },
          "execution_count": 37
        }
      ]
    },
    {
      "cell_type": "markdown",
      "metadata": {
        "id": "4dcEK9ya50WE",
        "colab_type": "text"
      },
      "source": [
        "#### ___Calculate the Mean: tf.reduce_mean()___"
      ]
    },
    {
      "cell_type": "markdown",
      "metadata": {
        "id": "lzwB1nk_50WF",
        "colab_type": "text"
      },
      "source": [
        "_Similar to np.mean, except that it infers the return datatype from the input tensor, whereas np.mean allows you to specify the output type_\n",
        "\n",
        "`tf.reduce_mean(input_tensor, axis=None, keepdims=None, name=None)`"
      ]
    },
    {
      "cell_type": "code",
      "metadata": {
        "id": "B0-CFbtb50WG",
        "colab_type": "code",
        "colab": {}
      },
      "source": [
        "# Defining a constant\n",
        "numbers = tf.constant([[8., 9.], [1., 2.]])"
      ],
      "execution_count": 38,
      "outputs": []
    },
    {
      "cell_type": "markdown",
      "metadata": {
        "id": "VA3sfje650WK",
        "colab_type": "text"
      },
      "source": [
        "##### ___Mean across All Axes___"
      ]
    },
    {
      "cell_type": "code",
      "metadata": {
        "id": "gtSCB_Wa50WL",
        "colab_type": "code",
        "colab": {
          "base_uri": "https://localhost:8080/",
          "height": 33
        },
        "outputId": "156c4546-1e20-4157-b449-2c1be4868df8"
      },
      "source": [
        "tf.reduce_mean(input_tensor = numbers) #default axis = None"
      ],
      "execution_count": 39,
      "outputs": [
        {
          "output_type": "execute_result",
          "data": {
            "text/plain": [
              "<tf.Tensor: shape=(), dtype=float32, numpy=5.0>"
            ]
          },
          "metadata": {
            "tags": []
          },
          "execution_count": 39
        }
      ]
    },
    {
      "cell_type": "markdown",
      "metadata": {
        "id": "RH2lHKOk50WR",
        "colab_type": "text"
      },
      "source": [
        "##### ___Mean across Columns (Reduce Rows)___"
      ]
    },
    {
      "cell_type": "code",
      "metadata": {
        "id": "KTJ6-bfY50WR",
        "colab_type": "code",
        "colab": {
          "base_uri": "https://localhost:8080/",
          "height": 33
        },
        "outputId": "56ed4bbf-ba17-4f99-eb33-50f5e061eade"
      },
      "source": [
        "tf.reduce_mean(input_tensor = numbers, axis = 0)"
      ],
      "execution_count": 40,
      "outputs": [
        {
          "output_type": "execute_result",
          "data": {
            "text/plain": [
              "<tf.Tensor: shape=(2,), dtype=float32, numpy=array([4.5, 5.5], dtype=float32)>"
            ]
          },
          "metadata": {
            "tags": []
          },
          "execution_count": 40
        }
      ]
    },
    {
      "cell_type": "markdown",
      "metadata": {
        "id": "MxIZoS8z50WW",
        "colab_type": "text"
      },
      "source": [
        "##### ___When keepdims = True___"
      ]
    },
    {
      "cell_type": "code",
      "metadata": {
        "id": "0BGHTOHG50WW",
        "colab_type": "code",
        "colab": {
          "base_uri": "https://localhost:8080/",
          "height": 33
        },
        "outputId": "e580f610-335d-4f1c-9d94-b170ada924e7"
      },
      "source": [
        "tf.reduce_mean(input_tensor=numbers, axis=0, keepdims=True) #the reduced axis is retained with a length of 1"
      ],
      "execution_count": 41,
      "outputs": [
        {
          "output_type": "execute_result",
          "data": {
            "text/plain": [
              "<tf.Tensor: shape=(1, 2), dtype=float32, numpy=array([[4.5, 5.5]], dtype=float32)>"
            ]
          },
          "metadata": {
            "tags": []
          },
          "execution_count": 41
        }
      ]
    },
    {
      "cell_type": "markdown",
      "metadata": {
        "id": "xbIm_c2x50Wa",
        "colab_type": "text"
      },
      "source": [
        "##### ___Mean across Rows (Reduce Columns)___"
      ]
    },
    {
      "cell_type": "code",
      "metadata": {
        "id": "E5z1FJj550Wa",
        "colab_type": "code",
        "colab": {
          "base_uri": "https://localhost:8080/",
          "height": 33
        },
        "outputId": "34315925-cb43-4eb2-e755-881e787efda2"
      },
      "source": [
        "tf.reduce_mean(input_tensor = numbers, axis = 1)"
      ],
      "execution_count": 42,
      "outputs": [
        {
          "output_type": "execute_result",
          "data": {
            "text/plain": [
              "<tf.Tensor: shape=(2,), dtype=float32, numpy=array([8.5, 1.5], dtype=float32)>"
            ]
          },
          "metadata": {
            "tags": []
          },
          "execution_count": 42
        }
      ]
    },
    {
      "cell_type": "markdown",
      "metadata": {
        "id": "LGKjQEtx50We",
        "colab_type": "text"
      },
      "source": [
        "##### ___When keepdims= True___"
      ]
    },
    {
      "cell_type": "code",
      "metadata": {
        "id": "s1E3MZJv50Wf",
        "colab_type": "code",
        "colab": {
          "base_uri": "https://localhost:8080/",
          "height": 66
        },
        "outputId": "efbbda46-38bf-4cb7-b267-b3f2aea4ab77"
      },
      "source": [
        "tf.reduce_mean(input_tensor=numbers, axis=1, keepdims=True) #the reduced axis is retained with a length of 1"
      ],
      "execution_count": 43,
      "outputs": [
        {
          "output_type": "execute_result",
          "data": {
            "text/plain": [
              "<tf.Tensor: shape=(2, 1), dtype=float32, numpy=\n",
              "array([[8.5],\n",
              "       [1.5]], dtype=float32)>"
            ]
          },
          "metadata": {
            "tags": []
          },
          "execution_count": 43
        }
      ]
    },
    {
      "cell_type": "markdown",
      "metadata": {
        "id": "xrnN6jB050Wm",
        "colab_type": "text"
      },
      "source": [
        "####  ___Random Values Generation___"
      ]
    },
    {
      "cell_type": "markdown",
      "metadata": {
        "id": "AFntt6JZ50Wm",
        "colab_type": "text"
      },
      "source": [
        "#### ___tf.random.normal()___\n",
        "   \n",
        "`tf.random.normal(shape, mean = 0, stddev =2, dtype=tf.float32, seed=None, name=None)`"
      ]
    },
    {
      "cell_type": "code",
      "metadata": {
        "id": "FR0Cl5P250Wn",
        "colab_type": "code",
        "colab": {
          "base_uri": "https://localhost:8080/",
          "height": 82
        },
        "outputId": "de2ad15e-6236-4b37-8776-a0c7b0b18447"
      },
      "source": [
        "tf.random.normal(shape = (3,2), mean=10, stddev=2, dtype=tf.float32, seed=None, name=None)\n",
        "\n",
        "randon_num = tf.random.normal(shape = (3,2), mean=10.0, stddev=2.0)\n",
        "print(randon_num)"
      ],
      "execution_count": 44,
      "outputs": [
        {
          "output_type": "stream",
          "text": [
            "tf.Tensor(\n",
            "[[10.656339 11.083926]\n",
            " [ 6.943039  7.434379]\n",
            " [14.889196  9.439659]], shape=(3, 2), dtype=float32)\n"
          ],
          "name": "stdout"
        }
      ]
    },
    {
      "cell_type": "markdown",
      "metadata": {
        "id": "RVZ8A_EK50Wp",
        "colab_type": "text"
      },
      "source": [
        "#### ___tf.random.uniform()___"
      ]
    },
    {
      "cell_type": "markdown",
      "metadata": {
        "id": "lDOjptr-50Wq",
        "colab_type": "text"
      },
      "source": [
        "`tf.random.uniform(shape, minval = 0, maxval= None, dtype=tf.float32, seed=None, name=None)`"
      ]
    },
    {
      "cell_type": "code",
      "metadata": {
        "id": "y1RsfyC-50Wq",
        "colab_type": "code",
        "colab": {
          "base_uri": "https://localhost:8080/",
          "height": 66
        },
        "outputId": "a750d7cb-a9e0-41d4-a78f-3fd43fb70e61"
      },
      "source": [
        "tf.random.uniform(shape = (2,4), minval=0, maxval=None, dtype=tf.float32, seed=None, name=None)"
      ],
      "execution_count": 45,
      "outputs": [
        {
          "output_type": "execute_result",
          "data": {
            "text/plain": [
              "<tf.Tensor: shape=(2, 4), dtype=float32, numpy=\n",
              "array([[0.5430684 , 0.05683887, 0.3740009 , 0.24902499],\n",
              "       [0.34438705, 0.8166057 , 0.0044353 , 0.48354948]], dtype=float32)>"
            ]
          },
          "metadata": {
            "tags": []
          },
          "execution_count": 45
        }
      ]
    },
    {
      "cell_type": "markdown",
      "metadata": {
        "id": "UO21VSfG50Wu",
        "colab_type": "text"
      },
      "source": [
        "#### ___Setting the seed___"
      ]
    },
    {
      "cell_type": "code",
      "metadata": {
        "id": "TV_NjLsP50Wv",
        "colab_type": "code",
        "colab": {
          "base_uri": "https://localhost:8080/",
          "height": 115
        },
        "outputId": "a1c0771a-9fcf-4297-8011-17b3ee0a278f"
      },
      "source": [
        "tf.random.set_seed(11)\n",
        "random_num1 = tf.random.uniform(shape = (2,2), maxval=10, dtype = tf.int32)\n",
        "random_num2 = tf.random.uniform(shape = (2,2), maxval=10, dtype = tf.int32)\n",
        "print(random_num1) #Call 1\n",
        "print(random_num2)"
      ],
      "execution_count": 46,
      "outputs": [
        {
          "output_type": "stream",
          "text": [
            "tf.Tensor(\n",
            "[[4 6]\n",
            " [5 2]], shape=(2, 2), dtype=int32)\n",
            "tf.Tensor(\n",
            "[[9 7]\n",
            " [9 4]], shape=(2, 2), dtype=int32)\n"
          ],
          "name": "stdout"
        }
      ]
    },
    {
      "cell_type": "code",
      "metadata": {
        "id": "XK7om_IG50Wz",
        "colab_type": "code",
        "colab": {
          "base_uri": "https://localhost:8080/",
          "height": 115
        },
        "outputId": "2495f2f7-38d6-409a-a154-5f2e4a5a07fd"
      },
      "source": [
        "tf.random.set_seed(11) #same seed\n",
        "random_num1 = tf.random.uniform(shape = (2,2), maxval=10, dtype = tf.int32)\n",
        "random_num2 = tf.random.uniform(shape = (2,2), maxval=10, dtype = tf.int32)\n",
        "print(random_num1) #Call 2\n",
        "print(random_num2)"
      ],
      "execution_count": 47,
      "outputs": [
        {
          "output_type": "stream",
          "text": [
            "tf.Tensor(\n",
            "[[4 6]\n",
            " [5 2]], shape=(2, 2), dtype=int32)\n",
            "tf.Tensor(\n",
            "[[9 7]\n",
            " [9 4]], shape=(2, 2), dtype=int32)\n"
          ],
          "name": "stdout"
        }
      ]
    },
    {
      "cell_type": "markdown",
      "metadata": {
        "id": "t4Z04PJM50W2",
        "colab_type": "text"
      },
      "source": [
        "#### ___Concatenation___"
      ]
    },
    {
      "cell_type": "code",
      "metadata": {
        "id": "Nfw3uYK250W2",
        "colab_type": "code",
        "colab": {},
        "outputId": "b8d328e3-84b3-45e8-92c1-7f70beb43002"
      },
      "source": [
        "dice11 = tf.Variable(tf.random.uniform([10, 1], minval=1, maxval=7, dtype=tf.int32))\n",
        "dice12 = tf.Variable(tf.random.uniform([10, 1], minval=1, maxval=7, dtype=tf.int32))\n",
        "\n",
        "# lets ADD\n",
        "dice_sum1 = dice11 + dice12\n",
        "# We've got three separate 10x1 matrices. To produce a single 10x3 matrix, we'll concatenate them along dimension 1.\n",
        "finale_matrix = tf.concat(values=[dice11, dice12, dice_sum1], axis=1)\n",
        "print(finale_matrix)"
      ],
      "execution_count": null,
      "outputs": [
        {
          "output_type": "stream",
          "text": [
            "tf.Tensor(\n",
            "[[ 5  5 10]\n",
            " [ 4  3  7]\n",
            " [ 5  3  8]\n",
            " [ 3  3  6]\n",
            " [ 1  4  5]\n",
            " [ 4  1  5]\n",
            " [ 5  1  6]\n",
            " [ 6  4 10]\n",
            " [ 3  3  6]\n",
            " [ 2  3  5]], shape=(10, 3), dtype=int32)\n"
          ],
          "name": "stdout"
        }
      ]
    },
    {
      "cell_type": "markdown",
      "metadata": {
        "id": "Br8V17Qy50W6",
        "colab_type": "text"
      },
      "source": [
        "#### ___Finding the Indices of the Largest and Smallest element___"
      ]
    },
    {
      "cell_type": "markdown",
      "metadata": {
        "id": "wnwiavym50W7",
        "colab_type": "text"
      },
      "source": [
        ">The following functions are available:\n",
        "    \n",
        ">`tf.argmax(input, axis=None, name=None, output_type=tf.int64 )`\n",
        "\n",
        ">`tf.argmin(input, axis=None, name=None, output_type=tf.int64 )`"
      ]
    },
    {
      "cell_type": "code",
      "metadata": {
        "id": "GcMSLUJe50W7",
        "colab_type": "code",
        "colab": {
          "base_uri": "https://localhost:8080/",
          "height": 98
        },
        "outputId": "a455bef1-74b8-4eff-e5ea-1aa5813a4b49"
      },
      "source": [
        "# 1-D tensor\n",
        "tensor_1d = tf.constant([12, 11, 51, 42, 6, 16, -8, -19, 31])\n",
        "print(tensor_1d)\n",
        "\n",
        "\n",
        "i = tf.argmax(input=tensor_1d)\n",
        "print('index of max; ', i)\n",
        "print('Max element: ',tensor_1d[i].numpy())\n",
        "\n",
        "\n",
        "i = tf.argmin(input=tensor_1d,axis=0).numpy()\n",
        "print('index of min: ', i)\n",
        "print('Min element: ',tensor_1d[i].numpy())"
      ],
      "execution_count": 48,
      "outputs": [
        {
          "output_type": "stream",
          "text": [
            "tf.Tensor([ 12  11  51  42   6  16  -8 -19  31], shape=(9,), dtype=int32)\n",
            "index of max;  tf.Tensor(2, shape=(), dtype=int64)\n",
            "Max element:  51\n",
            "index of min:  7\n",
            "Min element:  -19\n"
          ],
          "name": "stdout"
        }
      ]
    },
    {
      "cell_type": "markdown",
      "metadata": {
        "id": "3mF-4d-550W-",
        "colab_type": "text"
      },
      "source": [
        "### ___Checkpoint___"
      ]
    },
    {
      "cell_type": "code",
      "metadata": {
        "id": "ViSOQKO750W_",
        "colab_type": "code",
        "colab": {},
        "outputId": "2e06038d-96cc-45ed-ae90-711a2c2ba633"
      },
      "source": [
        "variable1 = tf.Variable([[5,6,9,3],[14,15,16,18]])\n",
        "checkpoint= tf.train.Checkpoint(var=variable1)\n",
        "savepath = checkpoint.save('./vars')\n",
        "variable1.assign([[0,0,0,0],[0,0,0,0]])\n",
        "variable1\n",
        "checkpoint.restore(savepath)\n",
        "print(variable1)"
      ],
      "execution_count": null,
      "outputs": [
        {
          "output_type": "stream",
          "text": [
            "<tf.Variable 'Variable:0' shape=(2, 4) dtype=int32, numpy=\n",
            "array([[ 5,  6,  9,  3],\n",
            "       [14, 15, 16, 18]])>\n"
          ],
          "name": "stdout"
        }
      ]
    },
    {
      "cell_type": "markdown",
      "metadata": {
        "id": "kbNq0Ek650XP",
        "colab_type": "text"
      },
      "source": [
        "#### ___Creating Functions___\n",
        "\n",
        "___tf.function___ _is a function that will take a Python function and return a TensorFlow graph. The advantage of this is that graphs can apply optimizations and exploit parallelism in the Python function (func). tf.function is new to TensorFlow 2._\n"
      ]
    },
    {
      "cell_type": "markdown",
      "metadata": {
        "id": "G6mboToc50XP",
        "colab_type": "text"
      },
      "source": [
        "`tf.function(func=None,input_signature=None,autograph=True,experimental_autograph_options=None)`\n"
      ]
    },
    {
      "cell_type": "code",
      "metadata": {
        "id": "NGxwFPCx50XQ",
        "colab_type": "code",
        "colab": {}
      },
      "source": [
        "def f1(x, y):\n",
        "    return tf.reduce_mean(input_tensor=tf.multiply(x ** 3, 6) + y**3)\n",
        "\n",
        "func = tf.function(f1)\n",
        "\n",
        "x = tf.constant([3., -4.])\n",
        "y = tf.constant([1., 4.])\n",
        "\n",
        "# f1 and f2 return the same value, but f2 executes as a TensorFlow graph\n",
        "assert f1(x,y).numpy() == func(x,y).numpy()\n",
        "\n",
        "#The assert passes, so there is no output\n",
        "\n",
        "# The tf. Assert() function takes a condition, and if the condition is false, it then prints the lists of given tensors and throws tf."
      ],
      "execution_count": 49,
      "outputs": []
    },
    {
      "cell_type": "markdown",
      "metadata": {
        "id": "Bff-iLSK50XV",
        "colab_type": "text"
      },
      "source": [
        "### ___Calculate the Gradient___"
      ]
    },
    {
      "cell_type": "markdown",
      "metadata": {
        "id": "aI4eVktx50XV",
        "colab_type": "text"
      },
      "source": [
        "#### ___GradientTape___"
      ]
    },
    {
      "cell_type": "markdown",
      "metadata": {
        "id": "9r4qMnAm50Xb",
        "colab_type": "text"
      },
      "source": [
        "_Another difference from numpy is that it can automatically track the gradient of any variable._\n",
        "\n",
        "_Open one __GradientTape__ and `tape.watch()` track variables through._"
      ]
    },
    {
      "cell_type": "code",
      "metadata": {
        "id": "E0RnddMf50Xc",
        "colab_type": "code",
        "colab": {
          "base_uri": "https://localhost:8080/",
          "height": 66
        },
        "outputId": "515289e3-149e-4413-f41d-d79ef84a626f"
      },
      "source": [
        "a = tf.random.normal(shape=(2,2))\n",
        "b = tf.random.normal(shape=(2,2))\n",
        "\n",
        "with tf.GradientTape() as tape:\n",
        "    tape.watch(a)\n",
        "    c = tf.sqrt(tf.square(a)+tf.square(b))\n",
        "    dc_da = tape.gradient(c,a)\n",
        "    print(dc_da)"
      ],
      "execution_count": 50,
      "outputs": [
        {
          "output_type": "stream",
          "text": [
            "tf.Tensor(\n",
            "[[0.57269156 0.9751479 ]\n",
            " [0.53572375 0.8537005 ]], shape=(2, 2), dtype=float32)\n"
          ],
          "name": "stdout"
        }
      ]
    },
    {
      "cell_type": "markdown",
      "metadata": {
        "id": "1WYH21lu50Xg",
        "colab_type": "text"
      },
      "source": [
        "_For all variables, the calculation is tracked by default and used to find the gradient, so do not `usetape.watch()`_"
      ]
    },
    {
      "cell_type": "code",
      "metadata": {
        "id": "73GmL0Eq50Xg",
        "colab_type": "code",
        "colab": {
          "base_uri": "https://localhost:8080/",
          "height": 66
        },
        "outputId": "4fc64884-2ad9-4dfb-f07e-447ecbae58ec"
      },
      "source": [
        "a = tf.Variable(a)\n",
        "\n",
        "with tf.GradientTape() as tape:\n",
        "    c = tf.sqrt(tf.square(a)+tf.square(b))\n",
        "    dc_da = tape.gradient(c,a)\n",
        "    print(dc_da)"
      ],
      "execution_count": 51,
      "outputs": [
        {
          "output_type": "stream",
          "text": [
            "tf.Tensor(\n",
            "[[0.57269156 0.9751479 ]\n",
            " [0.53572375 0.8537005 ]], shape=(2, 2), dtype=float32)\n"
          ],
          "name": "stdout"
        }
      ]
    },
    {
      "cell_type": "markdown",
      "metadata": {
        "id": "djC9qlPc50Xi",
        "colab_type": "text"
      },
      "source": [
        "_You can GradientTapefind higher-order derivatives by opening a few more:_"
      ]
    },
    {
      "cell_type": "code",
      "metadata": {
        "id": "CAnsAKTN50Xj",
        "colab_type": "code",
        "colab": {
          "base_uri": "https://localhost:8080/",
          "height": 66
        },
        "outputId": "b99d0a64-1329-4568-ec13-1996fdfde326"
      },
      "source": [
        "# double derivative\n",
        "with tf.GradientTape() as outer_tape:\n",
        "    with tf.GradientTape() as tape:\n",
        "        c = tf.sqrt(tf.square(a)+tf.square(b))\n",
        "        dc_da = tape.gradient(c,a)\n",
        "    d2c_d2a = outer_tape.gradient(dc_da,a)\n",
        "    print(d2c_d2a)"
      ],
      "execution_count": 52,
      "outputs": [
        {
          "output_type": "stream",
          "text": [
            "tf.Tensor(\n",
            "[[0.47573683 0.04185158]\n",
            " [1.0060201  0.24222922]], shape=(2, 2), dtype=float32)\n"
          ],
          "name": "stdout"
        }
      ]
    }
  ]
}